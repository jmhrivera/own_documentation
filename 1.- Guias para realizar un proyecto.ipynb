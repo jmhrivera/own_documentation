{
 "cells": [
  {
   "cell_type": "markdown",
   "metadata": {},
   "source": [
    "1. Preparación de datos\n",
    "    - Identificar el objetivo del proyecto (classificación, regresión)\n",
    "    - Importación del dataframe\n",
    "    - Vision general del dataframe\n",
    "    - Revisar estructura del dataframe (df.info())\n",
    "    - Identificar mis elementos y mi objetivo (x,y)\n",
    "    - Verificar y corregir nombres de columnas\n",
    "    - Verificar y remover valores duplicados\n",
    "    - Verificar valores nulos 1/2\n",
    "    - Verificar coherencia de datos (valores de columnas mal escritos, datos incongruentes)\n",
    "    - Verificar clasificación de tipos de dato (df.dtypes) 1/2\n",
    "\n",
    "2. Limpieza de datos:\n",
    "    - Eliminar/imputar valores faltantes 2/2\n",
    "    - Detectar y tratar outliers (boxplots, df.describe())\n",
    "    - Corregir la clasificacion de los tipos de datos 2/2\n",
    "\n",
    "3. Transformación de datos:\n",
    "    - Transformar variables categóricas a numéricas:\n",
    "        - OHE (Categóricos no ordinales)\n",
    "        - Label Encoder (Para categóricos ordinales)\n",
    "        \n",
    "4. Seleccion de caracteristicas:\n",
    "    - Analisis de caracteristicas\n",
    "    - Eliminación de datos irrelevantes (columnas que no aportan nada al modelo)\n",
    "    - Seleccion de algoritmos/metodos para considerar caracteristicas relevantes (opcional)\n",
    "\n",
    "5. Division de datos\n",
    "    - Uso de train_test_split()\n",
    "    - Variables numéricas:\n",
    "        - Normalización (Normalizer ,para modelos basados en distancias)\n",
    "        - Escalado (Standard Scaler, MinMaxScaler, para modelos basados en linear regresion o logistic regression)\n",
    "        - Feature engineering\n",
    "\n",
    "6. Balanceo de datos\n",
    "    - Clasificación\n",
    "        - Undersampling\n",
    "        - Oversampling (SMOTE)\n",
    "\n",
    "7. Validación de datos\n",
    "    - GridSearch()\n",
    "    - Evaluación de metricas de rendimiento:\n",
    "        - Clasificación:\n",
    "            - Accuracy\n",
    "            - Precision\n",
    "            - Recall, etc\n",
    "        - Regresion:\n",
    "            - MSE\n",
    "            - RMSE\n",
    "            - MAE, etc\n",
    "\n",
    "\n"
   ]
  }
 ],
 "metadata": {
  "kernelspec": {
   "display_name": "Python 3",
   "language": "python",
   "name": "python3"
  },
  "language_info": {
   "codemirror_mode": {
    "name": "ipython",
    "version": 3
   },
   "file_extension": ".py",
   "mimetype": "text/x-python",
   "name": "python",
   "nbconvert_exporter": "python",
   "pygments_lexer": "ipython3",
   "version": "3.12.3"
  }
 },
 "nbformat": 4,
 "nbformat_minor": 2
}
