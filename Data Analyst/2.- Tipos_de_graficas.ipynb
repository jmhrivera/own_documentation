{
 "cells": [
  {
   "cell_type": "markdown",
   "metadata": {},
   "source": [
    "## Grafico de Lineas"
   ]
  },
  {
   "cell_type": "code",
   "execution_count": 2,
   "metadata": {},
   "outputs": [
    {
     "data": {
      "text/html": [
       "<div>\n",
       "<style scoped>\n",
       "    .dataframe tbody tr th:only-of-type {\n",
       "        vertical-align: middle;\n",
       "    }\n",
       "\n",
       "    .dataframe tbody tr th {\n",
       "        vertical-align: top;\n",
       "    }\n",
       "\n",
       "    .dataframe thead th {\n",
       "        text-align: right;\n",
       "    }\n",
       "</style>\n",
       "<table border=\"1\" class=\"dataframe\">\n",
       "  <thead>\n",
       "    <tr style=\"text-align: right;\">\n",
       "      <th></th>\n",
       "      <th>years</th>\n",
       "      <th>values</th>\n",
       "    </tr>\n",
       "  </thead>\n",
       "  <tbody>\n",
       "    <tr>\n",
       "      <th>0</th>\n",
       "      <td>2016</td>\n",
       "      <td>1009</td>\n",
       "    </tr>\n",
       "    <tr>\n",
       "      <th>1</th>\n",
       "      <td>2017</td>\n",
       "      <td>889</td>\n",
       "    </tr>\n",
       "    <tr>\n",
       "      <th>2</th>\n",
       "      <td>2018</td>\n",
       "      <td>1077</td>\n",
       "    </tr>\n",
       "    <tr>\n",
       "      <th>3</th>\n",
       "      <td>2019</td>\n",
       "      <td>536</td>\n",
       "    </tr>\n",
       "    <tr>\n",
       "      <th>4</th>\n",
       "      <td>2020</td>\n",
       "      <td>1105</td>\n",
       "    </tr>\n",
       "  </tbody>\n",
       "</table>\n",
       "</div>"
      ],
      "text/plain": [
       "   years  values\n",
       "0   2016    1009\n",
       "1   2017     889\n",
       "2   2018    1077\n",
       "3   2019     536\n",
       "4   2020    1105"
      ]
     },
     "execution_count": 2,
     "metadata": {},
     "output_type": "execute_result"
    }
   ],
   "source": [
    "import numpy as np\n",
    "import pandas as pd\n",
    "import matplotlib.pyplot as plt\n",
    "\n",
    "years= np.random.randint(2016,2021,100)\n",
    "values= np.random.randint(40,55,100)\n",
    "\n",
    "df = pd.DataFrame(data= {\"years\":years, \"values\":values})\n",
    "df = df.groupby(\"years\")[\"values\"].sum().reset_index()\n",
    "df"
   ]
  },
  {
   "cell_type": "code",
   "execution_count": 2,
   "metadata": {},
   "outputs": [
    {
     "data": {
      "text/html": [
       "<div>\n",
       "<style scoped>\n",
       "    .dataframe tbody tr th:only-of-type {\n",
       "        vertical-align: middle;\n",
       "    }\n",
       "\n",
       "    .dataframe tbody tr th {\n",
       "        vertical-align: top;\n",
       "    }\n",
       "\n",
       "    .dataframe thead th {\n",
       "        text-align: right;\n",
       "    }\n",
       "</style>\n",
       "<table border=\"1\" class=\"dataframe\">\n",
       "  <thead>\n",
       "    <tr style=\"text-align: right;\">\n",
       "      <th></th>\n",
       "      <th>years</th>\n",
       "      <th>values</th>\n",
       "    </tr>\n",
       "  </thead>\n",
       "  <tbody>\n",
       "    <tr>\n",
       "      <th>0</th>\n",
       "      <td>2016</td>\n",
       "      <td>959</td>\n",
       "    </tr>\n",
       "    <tr>\n",
       "      <th>1</th>\n",
       "      <td>2017</td>\n",
       "      <td>766</td>\n",
       "    </tr>\n",
       "    <tr>\n",
       "      <th>2</th>\n",
       "      <td>2018</td>\n",
       "      <td>1054</td>\n",
       "    </tr>\n",
       "    <tr>\n",
       "      <th>3</th>\n",
       "      <td>2019</td>\n",
       "      <td>942</td>\n",
       "    </tr>\n",
       "    <tr>\n",
       "      <th>4</th>\n",
       "      <td>2020</td>\n",
       "      <td>1034</td>\n",
       "    </tr>\n",
       "  </tbody>\n",
       "</table>\n",
       "</div>"
      ],
      "text/plain": [
       "   years  values\n",
       "0   2016     959\n",
       "1   2017     766\n",
       "2   2018    1054\n",
       "3   2019     942\n",
       "4   2020    1034"
      ]
     },
     "execution_count": 2,
     "metadata": {},
     "output_type": "execute_result"
    }
   ],
   "source": [
    "cols2 = { \"years\": np.random.randint(2016,2021,100), \"values\": np.random.randint(40,55,100)\n",
    "}\n",
    "\n",
    "df2 = pd.DataFrame(data=cols2)\n",
    "df2= df2.groupby(\"years\")[\"values\"].sum().reset_index()\n",
    "df2"
   ]
  },
  {
   "cell_type": "markdown",
   "metadata": {},
   "source": [
    "### Creando una grafica de tiempo\n",
    "#### Metodo 1"
   ]
  },
  {
   "cell_type": "code",
   "execution_count": 4,
   "metadata": {},
   "outputs": [
    {
     "data": {
      "image/png": "[encoded data removed]",
      "text/plain": [
       "<Figure size 640x480 with 1 Axes>"
      ]
     },
     "metadata": {},
     "output_type": "display_data"
    },
    {
     "data": {
      "text/plain": [
       "<Figure size 1500x500 with 0 Axes>"
      ]
     },
     "metadata": {},
     "output_type": "display_data"
    }
   ],
   "source": [
    "#DF 1\n",
    "x= df[\"years\"]\n",
    "y= df[\"values\"]\n",
    "\n",
    "#DF 2\n",
    "x2 = df2[\"years\"]\n",
    "y2 = df2[\"values\"]\n",
    " \n",
    "#Graficando ambas\n",
    "plt.plot(x,y, marker=\"o\", linestyle=\"--\", color=\"lightblue\")\n",
    "plt.plot(x2,y2,  marker=\"d\", linestyle=\"--\", color=\"lightgreen\")\n",
    "\n",
    "plt.xlabel(\"Años\")\n",
    "plt.ylabel(\"Ingresos\")\n",
    "plt.xticks(df[\"years\"]) #antes me ponía decimales y ahora los dejo tal cúal como mi base, puedes agregarles nombres personalizados con labels= [\"name1\", \"name2\"...]\n",
    "plt.figure(figsize=[15,5])\n",
    "plt.show()"
   ]
  },
  {
   "cell_type": "markdown",
   "metadata": {},
   "source": [
    "### Creando gráfica de tiempo\n",
    "#### Metodo 2, graficando en conjunto "
   ]
  },
  {
   "cell_type": "code",
   "execution_count": 5,
   "metadata": {},
   "outputs": [
    {
     "data": {
      "image/png": "[encoded data removed]",
      "text/plain": [
       "<Figure size 640x480 with 1 Axes>"
      ]
     },
     "metadata": {},
     "output_type": "display_data"
    }
   ],
   "source": [
    "fusion_df =df.merge(right=df2, how='outer', on=\"years\")\n",
    "new_fusion= fusion_df.groupby(\"years\")[[\"values_x\",\"values_y\"]].sum()\n",
    "\n",
    "new_fusion.plot( marker=\"d\", linestyle=\"--\", color=[\"lightgreen\",\"lightblue\"])\n",
    "plt.xticks(range(2016,2021))\n",
    "plt.legend([\"Mex\",\"Japan\"])\n",
    "plt.show()"
   ]
  },
  {
   "cell_type": "markdown",
   "metadata": {},
   "source": [
    "### Creando gráfica de tiempo\n",
    "#### Metodo 3"
   ]
  },
  {
   "cell_type": "code",
   "execution_count": 8,
   "metadata": {},
   "outputs": [
    {
     "data": {
      "text/plain": [
       "<matplotlib.legend.Legend at 0x27ec34853a0>"
      ]
     },
     "execution_count": 8,
     "metadata": {},
     "output_type": "execute_result"
    },
    {
     "data": {
      "image/png": "[encoded data removed]",
      "text/plain": [
       "<Figure size 640x480 with 1 Axes>"
      ]
     },
     "metadata": {},
     "output_type": "display_data"
    }
   ],
   "source": [
    "new_fusion = fusion_df.set_index(fusion_df[\"years\"])\n",
    "new_fusion = new_fusion.drop(\"years\", axis=1,)\n",
    "new_fusion.plot(marker=\"*\", color=[\"lightblue\", \"lightgreen\"], linestyle=\"--\")\n",
    "plt.xticks(new_fusion.index)\n",
    "new_fusion.index\n",
    "plt.legend([\"Mex\",\"Japan\"])"
   ]
  },
  {
   "cell_type": "markdown",
   "metadata": {},
   "source": [
    "## Gráfico de Barras"
   ]
  },
  {
   "cell_type": "code",
   "execution_count": 133,
   "metadata": {},
   "outputs": [],
   "source": [
    "import numpy as np\n",
    "import pandas as pd\n",
    "\n",
    "x= np.random.randint(0,50,[2,50])\n",
    "years = np.random.randint(2011,2021,50)\n",
    "df_bars = pd.DataFrame(data={ \"years\": years, \"Mex_medals\":x[0], \"Japan_medals\":x[1]})\n",
    "df_bars = df_bars.groupby(\"years\")[[\"Mex_medals\",\"Japan_medals\"]].sum()"
   ]
  },
  {
   "cell_type": "code",
   "execution_count": 134,
   "metadata": {},
   "outputs": [
    {
     "data": {
      "image/png": "[encoded data removed]",
      "text/plain": [
       "<Figure size 640x480 with 1 Axes>"
      ]
     },
     "metadata": {},
     "output_type": "display_data"
    }
   ],
   "source": [
    "df_bars.plot(kind='bar', title=\"Medallas ganadas por país\", align=\"edge\", width=0.6, color= [\"brown\",\"purple\"])\n",
    "plt.legend(loc=\"upper center\")\n",
    "plt.show()"
   ]
  },
  {
   "cell_type": "markdown",
   "metadata": {},
   "source": [
    "## Gráfica de Pie"
   ]
  },
  {
   "cell_type": "code",
   "execution_count": 2,
   "metadata": {},
   "outputs": [],
   "source": [
    "import numpy as np\n",
    "import pandas as pd\n",
    "import matplotlib.pyplot as plt\n",
    "x_list = np.random.uniform(1,25,3).tolist()\n",
    "x_list.append(100-sum(x_list))\n",
    "names = [\"Africa\", \"America\" , \"Europe\", \"Asia\"]\n",
    "pie_df = pd.DataFrame(data= {\"names\":names , \"domination\": x_list})"
   ]
  },
  {
   "cell_type": "code",
   "execution_count": 11,
   "metadata": {},
   "outputs": [
    {
     "data": {
      "image/png": "[encoded data removed]",
      "text/plain": [
       "<Figure size 640x480 with 1 Axes>"
      ]
     },
     "metadata": {},
     "output_type": "display_data"
    }
   ],
   "source": [
    "# pie_df.plot(kind=\"pie\", x=\"names\", y=\"domination\")\n",
    "# plt.xticks(pie_df[\"names\"])\n",
    "\n",
    "\n",
    "pie_df.plot(kind=\"pie\", y=\"domination\", labels=pie_df[\"names\"], autopct=\"%1.1f%%\" , explode=[0.2,0,0,0.0])\n",
    "plt.legend(loc=\"lower right\")\n",
    "plt.show()\n"
   ]
  },
  {
   "cell_type": "markdown",
   "metadata": {},
   "source": [
    "## Histogramas"
   ]
  },
  {
   "cell_type": "markdown",
   "metadata": {},
   "source": [
    "### Histogramas con matplotlib"
   ]
  },
  {
   "cell_type": "markdown",
   "metadata": {},
   "source": [
    "Los histogramas son utilizados para mostrar la frecuencia y la densidad de los elementos a analizar, en el gráfico a continuación veremos un histograma de frecuencia creado a partir de numeros aleatorios"
   ]
  },
  {
   "cell_type": "code",
   "execution_count": 20,
   "metadata": {},
   "outputs": [
    {
     "data": {
      "image/png": "[encoded data removed]",
      "text/plain": [
       "<Figure size 640x480 with 1 Axes>"
      ]
     },
     "metadata": {},
     "output_type": "display_data"
    }
   ],
   "source": [
    "import numpy as np\n",
    "import pandas as pd\n",
    "import matplotlib.pyplot as plt\n",
    "\n",
    "edades = np.random.randn(1000)\n",
    "df_hist = pd.DataFrame(data= {\"edades\":edades})\n",
    "fig_hist_freq_1 = df_hist.plot(kind=\"hist\", edgecolor= \"black\", align=\"left\", orientation=\"vertical\", color=\"purple\")\n",
    "plt.title('Histrograma de Frecuencia con Matplotlib')\n",
    "plt.xlabel('Valor')\n",
    "plt.ylabel('Frecuencia')\n",
    "plt.show()\n"
   ]
  },
  {
   "cell_type": "markdown",
   "metadata": {},
   "source": [
    "Ahora mostraremos un histograma de dispersión con la librería Matplotlib. Es importante mencionar que Matplotlib no proporciona funciones específicas para calcular la densidad de kernel (como lo haría Seaborn) por lo que es necesario usar SciPy con el modulo de gaussian_kde"
   ]
  },
  {
   "cell_type": "code",
   "execution_count": 49,
   "metadata": {},
   "outputs": [
    {
     "data": {
      "image/png": "[encoded data removed]",
      "text/plain": [
       "<Figure size 640x480 with 1 Axes>"
      ]
     },
     "metadata": {},
     "output_type": "display_data"
    },
    {
     "name": "stdout",
     "output_type": "stream",
     "text": [
      "<scipy.stats._kde.gaussian_kde object at 0x000001D156331760>\n"
     ]
    }
   ],
   "source": [
    "import matplotlib.pyplot as plt\n",
    "from scipy.stats import gaussian_kde\n",
    "\n",
    "# Calcula la estimación de densidad de kernel\n",
    "kde = gaussian_kde(df_hist['edades'])\n",
    "\n",
    "# Crea un rango de valores para el eje x\n",
    "x_vals = np.linspace(min(df_hist['edades']),max(df_hist['edades']),100)\n",
    "\n",
    "#Creamos el plot del histograma\n",
    "plt.hist(df_hist['edades'],density=True)\n",
    "\n",
    "# #Creamos la estimación de densidad\n",
    "plt.plot(x_vals, kde(x_vals), 'r-', label='Densidad de Kernel')\n",
    "\n",
    "# Añade etiquetas y leyenda\n",
    "plt.title('Diagrama de Densidad con Matplotlib')\n",
    "plt.xlabel('Valor')\n",
    "plt.ylabel('Densidad de Probabilidad')\n",
    "plt.legend()\n",
    "\n",
    "plt.show()\n",
    "\n",
    "print(kde)"
   ]
  },
  {
   "cell_type": "markdown",
   "metadata": {},
   "source": [
    "Es importante mencionar que el parametro kde o es simplemente un valor único, sino una representación de la estimación de densidad de kernel basada en los datos proporcionados. Puedes pensar en kde como una función que puedes evaluar en diferentes puntos para obtener la densidad de probabilidad estimada en esos puntos, por eso es posible pasarle parámetros después."
   ]
  },
  {
   "cell_type": "markdown",
   "metadata": {},
   "source": [
    "### Histogramas con Seaborn"
   ]
  },
  {
   "cell_type": "markdown",
   "metadata": {},
   "source": [
    "Ahora mostrare, como crear histogramas en Seaborn."
   ]
  },
  {
   "cell_type": "code",
   "execution_count": 44,
   "metadata": {},
   "outputs": [
    {
     "data": {
      "text/plain": [
       "<function matplotlib.pyplot.show(close=None, block=None)>"
      ]
     },
     "execution_count": 44,
     "metadata": {},
     "output_type": "execute_result"
    },
    {
     "data": {
      "image/png": "[encoded data removed]",
      "text/plain": [
       "<Figure size 640x480 with 1 Axes>"
      ]
     },
     "metadata": {},
     "output_type": "display_data"
    }
   ],
   "source": [
    "import seaborn as sns\n",
    "\n",
    "fig_hist_freq_2 = sns.histplot(df_hist,x='edades')\n",
    "plt.show"
   ]
  },
  {
   "cell_type": "markdown",
   "metadata": {},
   "source": [
    "En lo personal, el código parece ser mas sencillo, ahora graficaremos un histograma de densidad."
   ]
  },
  {
   "cell_type": "code",
   "execution_count": 50,
   "metadata": {},
   "outputs": [
    {
     "data": {
      "text/plain": [
       "<Axes: ylabel='Density'>"
      ]
     },
     "execution_count": 50,
     "metadata": {},
     "output_type": "execute_result"
    },
    {
     "data": {
      "image/png": "[encoded data removed]",
      "text/plain": [
       "<Figure size 640x480 with 1 Axes>"
      ]
     },
     "metadata": {},
     "output_type": "display_data"
    }
   ],
   "source": [
    "sns.histplot(df_hist, kde=True, stat='density')"
   ]
  },
  {
   "cell_type": "markdown",
   "metadata": {},
   "source": [
    "Como podemos observar el código se reduce bastante y el resultado es el mismo."
   ]
  },
  {
   "cell_type": "markdown",
   "metadata": {},
   "source": [
    "### Hisograma con PX Express"
   ]
  },
  {
   "cell_type": "markdown",
   "metadata": {},
   "source": [
    "Ahora es tiempo de usar PX express con el gráfico de frecuencia"
   ]
  },
  {
   "cell_type": "code",
   "execution_count": 84,
   "metadata": {},
   "outputs": [
    {
     "data": {
      "application/vnd.plotly.v1+json": {
       "config": {
        "plotlyServerURL": "https://plot.ly"
       },
       "data": [
        {
         "alignmentgroup": "True",
         "bingroup": "x",
         "hovertemplate": "variable=edades<br>value=%{x}<br>count=%{y}<extra></extra>",
         "legendgroup": "edades",
         "marker": {
          "color": "#636efa",
          "pattern": {
           "shape": ""
          }
         },
         "name": "edades",
         "offsetgroup": "edades",
         "orientation": "v",
         "showlegend": true,
         "type": "histogram",
         "x": [
          0.8799985735761584,
          1.3311207382451442,
          0.05666688180297213,
          -1.1176968337671975,
          -0.9070326864789018,
          0.08318291506454983,
          1.4063529346780044,
          -1.7285691761986302,
          -1.1173904300663398,
          -1.5753946901623124,
          -0.06475936051993714,
          -0.028685437332396767,
          -0.7802622505780948,
          0.20968916740548518,
          0.8161664828341126,
          0.17687291741143613,
          1.2002844726057091,
          0.8868197094403175,
          -0.48574582069084704,
          -1.1231229768910322,
          1.2281645093469467,
          0.9102304340808773,
          -0.03634793275569684,
          0.01284567582570358,
          3.2219086074097367,
          0.34322999531929654,
          1.8793015917682139,
          -0.6709475244388134,
          0.0714537139936274,
          2.049870963961384,
          -0.6571931996077447,
          0.3763158706736979,
          0.06555148001984772,
          -0.5825010210238515,
          -1.266611692284384,
          0.6060768735356794,
          0.33284005758756446,
          0.871741982086495,
          0.3349550428340479,
          0.3563850444650842,
          -0.08360899739960108,
          3.4774072409997125,
          1.5439134282819869,
          0.7140493936096105,
          -0.9182593587632157,
          2.044081970289613,
          -0.26418921187262434,
          -0.08920978504193466,
          -0.7905261439050257,
          -0.39572540977815684,
          -0.9968849149461576,
          -2.9554755664268293,
          0.29342423808049833,
          0.10272802589933662,
          0.16678791155961517,
          -0.6074612859445083,
          1.5227412729548684,
          -1.4054089398174536,
          0.23837576950451106,
          0.9353291386920229,
          0.5139205299406278,
          1.4258807609436164,
          3.3927049139224903,
          0.13693228222954626,
          -1.290500622831457,
          0.33692260028920196,
          -0.48754107339727487,
          -1.1223628396549419,
          -2.286428004350008,
          -1.3848980354205362,
          1.2583589032279998,
          2.204382634070649,
          0.7133584901878166,
          1.0464554766886562,
          0.9409836120776027,
          0.994698720480856,
          -0.5681046228560438,
          0.8782474054821819,
          0.1151877980793444,
          0.12609657698259377,
          0.4212101666193883,
          -0.10213864993878667,
          1.0038333797064491,
          -2.2964953125120102,
          0.39425704484604107,
          -0.8232130455263422,
          0.07571306593324632,
          -0.9225523450847534,
          1.6569750090534916,
          -0.21489897211969952,
          0.16825231142631134,
          -0.7889588452642846,
          0.8142318792080355,
          -1.6155909711130494,
          -0.29403254399230555,
          -0.8403041302019231,
          1.654074440326883,
          1.5231433403551045,
          1.1118555217657267,
          -0.5619578114810916,
          -0.5573567338402307,
          -1.8800615498737254,
          -1.0052704256519716,
          1.6046665165422682,
          -0.4935186435140744,
          2.0805325546836717,
          0.26063935715979325,
          0.12941193437123855,
          -0.6778314326394279,
          -0.32056706925056444,
          -0.3319901207145756,
          -1.5384408569470542,
          0.8869032834376841,
          0.07020838592387978,
          2.838234952758126,
          0.4150877650715847,
          0.7221881372612615,
          1.336041835087573,
          2.0223309948409187,
          -0.6094314353818178,
          0.016576331342144545,
          1.6500242831844598,
          -0.40689578405752636,
          -0.9360709436101143,
          -0.11310968130859311,
          -0.7391813724022954,
          -0.26241539744227993,
          -0.5619029087945798,
          -0.8897856969476046,
          0.9133928006597526,
          1.0286828531662893,
          2.0204886345909654,
          -1.5203238510813737,
          0.3698093489040241,
          -0.13060449824478748,
          -0.22525412889955673,
          0.31575769849769414,
          -2.5976916168626376,
          0.2854878573083671,
          -0.06838601641590518,
          0.41813514374158683,
          -0.8961413690655324,
          0.9728417836764568,
          1.2161982677058103,
          2.4613578399818907,
          -0.9685413735902075,
          0.7006612773682036,
          -0.5146846869627427,
          0.7295313723552966,
          -0.2858063813471335,
          1.431000198419596,
          -0.5824288425886505,
          0.11650540273925591,
          -1.8233338803503674,
          -1.562004182477589,
          -0.9631324973193333,
          0.13419318068349134,
          1.4558507817342363,
          -0.13488658896683745,
          0.33038888458892723,
          -1.5235808084303637,
          1.6473274673076652,
          -1.4429787084250518,
          1.4140050930894503,
          0.5476174654660027,
          0.8823839009633245,
          -1.1013230491784434,
          -1.428072698295294,
          -0.4786378071903739,
          0.8322128671647799,
          0.9262231045981916,
          -1.304295579406907,
          -0.40949125067929154,
          -0.9999756189946852,
          0.7375475061798138,
          -0.10156847931537671,
          -1.4795579123786686,
          -0.4313699477446318,
          -1.9422858211403238,
          0.1570484712082017,
          -0.9824345360233664,
          -0.47052734137663105,
          1.7210479545924449,
          0.7967424042705454,
          0.395821531479639,
          -0.9755496772640976,
          -2.054376090731993,
          0.20603831314165832,
          0.29082873348771576,
          0.6406309566852655,
          -0.5432847134115797,
          0.5479395692727471,
          -0.9699193095876661,
          0.8457742440906763,
          1.1585318855942668,
          1.3922890281155795,
          -1.1595313895728852,
          -0.03676564775223985,
          -1.37015963880588,
          0.6528090774774554,
          -0.2908177780280339,
          -0.2533027512598203,
          -0.23854162836941245,
          -0.34209992352898777,
          -0.7929120755181908,
          1.2732187239457309,
          -2.120967358935274,
          0.4179094505389918,
          -2.70113044720168,
          -0.4747175057290224,
          0.4266748017631026,
          1.0335751616253415,
          -0.12410347400692649,
          0.034241638039986116,
          -1.3601882201828706,
          0.06554569243856981,
          -0.26192461335795014,
          1.640827679324625,
          -1.3730271962808396,
          -0.2090475281973749,
          -1.9898634625437586,
          0.28549588881989524,
          0.6523076609434563,
          0.25875478543481495,
          0.4296456778613383,
          0.16249103147005894,
          -0.1881487492353031,
          -0.4007399475999703,
          -0.49738621100617125,
          -0.3078727817932766,
          0.12654387542048814,
          0.14006234533543074,
          1.6400949561002083,
          1.2114548255560622,
          0.7073625660160167,
          1.0751524117976472,
          -1.4402390199110349,
          0.9618956565934687,
          0.8045467208178462,
          0.6015562359078446,
          -1.4190270097666586,
          -0.05092969681727208,
          -0.36745346039321797,
          0.7042253993751887,
          1.958135927558252,
          -0.9389800700692693,
          1.927066979028815,
          -1.4406123449306352,
          -0.1676163268148849,
          0.6966678779818887,
          0.2643321066006733,
          -0.2022207929179198,
          0.5566469925414542,
          -0.4315271150126598,
          1.1467913760587711,
          1.0732187376201348,
          -0.2098393432270207,
          -0.4950192054291491,
          0.7177846743532994,
          0.4286263811109077,
          -1.6182116089993748,
          0.12905609804295953,
          -0.37819679019941776,
          2.0245407094115024,
          -0.21045243322313073,
          2.771597873298776,
          1.0231437417701248,
          -0.08002381558283664,
          -1.2787509839131168,
          -0.211692370778233,
          0.37738810747299917,
          -0.6034590230780835,
          -0.15055709936425746,
          0.07126699341995792,
          1.0094254208771485,
          -0.5419259475258223,
          0.8986108186726406,
          -0.1624451990037824,
          1.3079812479320558,
          1.4497199922221382,
          -0.3211014332747916,
          1.0018120778236914,
          1.1463636612240784,
          0.757541064164495,
          -1.7763772647835,
          0.7464198526303126,
          -0.31146096009323543,
          -1.023525264896206,
          -0.7018242536220791,
          -1.8666850415151213,
          -0.08629171703153618,
          0.6651884706134401,
          0.0996360242132514,
          -0.11710928357927099,
          1.4887515859749914,
          0.04150536063014568,
          -1.15358519672537,
          0.550631184566771,
          -0.1526072327660393,
          -0.7012492547098094,
          -0.46030798437896775,
          -1.5337266899431161,
          2.394693491090493,
          0.5042342893079996,
          -0.064825757906507,
          -0.028386481010708862,
          1.6586014604609998,
          0.7088216112718341,
          -0.04810629796548466,
          -0.4094442574156708,
          -0.06345035363701171,
          1.1602748387046566,
          0.25899295335664724,
          -0.18227978693056116,
          -0.08730490853508775,
          1.10022979559156,
          -0.49555115446927706,
          -0.7132154187745463,
          -0.645195578248697,
          -0.46513281814830576,
          0.255716758115445,
          0.8530881935245389,
          0.03472084998172592,
          2.0052748793905724,
          0.1756783782199345,
          0.6678682810978483,
          0.858338813944477,
          -1.6689203924245888,
          1.3790478513127713,
          -1.091587322649806,
          -0.05652017702288915,
          2.169991051587948,
          0.6376636714629791,
          0.282379474626821,
          0.8428112725470214,
          0.6840460706837989,
          -0.47490912970939486,
          -0.15161037965667576,
          -1.08482560451524,
          0.2645705957527032,
          -0.034601016437100784,
          0.08338322198401357,
          -0.5259944204185792,
          0.00674225788346054,
          1.7751055279087937,
          -0.1306635993527672,
          -0.7210011948082379,
          -1.6050771935998418,
          2.584645388102799,
          1.8154853822196833,
          -1.0835309526986063,
          -0.3218346624201715,
          -1.4052412368258018,
          -0.37564270357390644,
          -0.8816501887798032,
          -0.6067362252859377,
          -1.1803914475282289,
          -1.2129002151984738,
          -1.7438262693438054,
          -0.9146966745699594,
          1.3482466671287925,
          -0.8677691756789837,
          1.1065248999043482,
          1.5555452583006524,
          -0.05283914705847912,
          -0.8706587779090915,
          -0.14091305296356332,
          -1.246507596490569,
          0.6878299949108934,
          -0.12481331772923225,
          -0.9845264042615981,
          -2.4001867866160853,
          -1.0721343425750594,
          0.1841232928081896,
          -0.8986735874232432,
          1.4211394947668652,
          -1.4687421003493608,
          -1.4351918799285537,
          1.995959124074949,
          1.1455283080847116,
          0.13114134755620357,
          0.676261452788369,
          -0.7795751552604456,
          -0.18167452411008042,
          -0.6368461475822343,
          0.4770673895778798,
          1.091848678758838,
          0.48883301548037167,
          0.2847995113562798,
          1.0506135971474138,
          0.5568659615766882,
          -0.009922101173288927,
          0.9288624576596074,
          0.26400001495823083,
          -0.9214280372115111,
          0.5814827066544956,
          -1.2282167750173683,
          0.7087362795701367,
          0.9278808676672589,
          -0.4831445837648213,
          -3.2223567559475046,
          -0.31443742307029854,
          0.3910454860927598,
          0.6157955704752412,
          1.4468081316623722,
          1.2196949296681188,
          1.6029682159133412,
          -0.5977942314303474,
          0.7229701329648032,
          1.0180530548262205,
          1.493953969999105,
          -0.22320483399301128,
          -0.30651686119485483,
          -1.671376147989361,
          -0.07835220863588563,
          -1.3493502170639227,
          0.5101174461458652,
          -0.7578257830031061,
          0.5025330979537552,
          1.8625842891783908,
          0.6150723340381111,
          0.8029688931094502,
          1.6876992520680236,
          0.22339288943412453,
          -0.5986596900067612,
          2.0870303791317006,
          -0.8650935090547309,
          2.0061809367653676,
          0.785410867348553,
          0.5430782107618389,
          0.7797698156370608,
          -0.06595806563648723,
          -0.3358181529043703,
          -0.3113063092342112,
          -0.19140758754765846,
          -0.009478282774882198,
          -1.5273639128015226,
          -1.736245398022245,
          1.6218508926843949,
          1.2521140019888242,
          0.7324309486266516,
          0.4187496726668344,
          2.526970561922882,
          -2.326731830234677,
          -0.96791749537905,
          -0.37325276048637585,
          2.336479706716348,
          -0.04774305279411362,
          -1.77862009151738,
          0.056932011289508457,
          0.20637506293439895,
          0.8580347516782147,
          0.2646886571510168,
          -1.3440572578941683,
          -0.31770214207611175,
          0.10249690845290446,
          0.9836114641293274,
          -0.17595541628605724,
          0.5617099601915809,
          2.367586372249017,
          0.6204895699752544,
          0.16145739328066078,
          -0.5587736017066944,
          0.9015222544966476,
          -0.3031701941349038,
          -0.6990319604273684,
          -0.1100701422293661,
          -0.8879436608707378,
          0.46952927033706887,
          -0.0963051877774548,
          0.04240002416824767,
          0.05232737564602944,
          -0.5072384043660968,
          0.3496452277702374,
          0.48236327963502557,
          0.813921379418854,
          0.053578265969318896,
          1.4826383234477603,
          0.041871902116474485,
          0.07702063977502023,
          -0.8062313487256322,
          -0.82626487605473,
          0.06068221216823143,
          1.1499832845848195,
          1.5290857803632678,
          0.26505761782223636,
          0.5637101920436944,
          -0.6858357113458591,
          0.4205689183418089,
          1.3528110598742915,
          1.5143981075123998,
          -0.6549864078458244,
          -0.5724413435714137,
          0.3568859690243642,
          0.7495582219575498,
          0.49934856723096666,
          -1.7052644933803758,
          0.4156002336528713,
          0.37036528138351416,
          0.6471399146306405,
          -0.2279106580303934,
          -0.12341745683696918,
          0.7139784198394491,
          -0.32519380423702776,
          -0.1820548410395654,
          0.052533001213293226,
          -0.07466921399903714,
          0.3874800312596589,
          0.9181142066650502,
          1.8495807863848985,
          -1.5377991698624007,
          -1.708917486204469,
          -0.47690304350653623,
          2.0352855538497723,
          0.36814177851914526,
          2.346035756985028,
          -1.718861788090443,
          0.7246330778155684,
          -0.13687949707661898,
          -0.9108683327680096,
          -1.0122413746872325,
          -0.4951052156948943,
          -1.1716214425352443,
          0.004821955769280726,
          0.9772229405941502,
          0.18059927113882332,
          -0.6118539144701187,
          0.12485308033654356,
          -0.1141220955609923,
          0.09651347718960344,
          -1.9661650191378568,
          -0.8838902465537917,
          -0.7583502319552212,
          -1.1516769946798378,
          -0.030688824991362284,
          -0.7721698401011289,
          0.08461519071140838,
          0.6462602612527524,
          -1.1497044292226593,
          0.968613415472419,
          -1.105592749188564,
          -0.9181455162958664,
          1.4568231090415018,
          -0.7039471148998285,
          0.012181865273113894,
          1.130998069530247,
          0.7890437379045941,
          -0.6965846148620629,
          0.7818351968354031,
          0.7530241250448443,
          -0.6415207115094594,
          0.1944528071951786,
          -1.9337862751536279,
          -0.442635122043532,
          0.09886630739887073,
          0.7430884811256903,
          1.354738852266325,
          0.4267297329878939,
          0.7871936385022464,
          0.7597583281272208,
          -1.0881236945735764,
          -1.9714146995302793,
          1.592178109395976,
          -1.6732611880134554,
          -0.8573993896804151,
          0.7226459886263599,
          0.15633559144728532,
          -0.5878255536047725,
          0.5498310560534924,
          0.8712061004080889,
          0.07756030041972471,
          -1.1908074093176928,
          1.3076985109490395,
          -0.1362860806120637,
          -0.5128367976558519,
          0.29736362702005253,
          0.47210835816538904,
          0.25101698524789273,
          -0.7520656168738262,
          0.19279183829049854,
          0.9845292919405628,
          -0.1975528462570907,
          0.5692450929091734,
          -0.15086863654158192,
          0.16104136917272688,
          -1.5527197436790385,
          -1.746068779624184,
          0.24370522618775042,
          1.3956177953581521,
          0.7590327587532577,
          0.6082127217533358,
          -0.5273816796356661,
          -0.5060785215229858,
          -0.9925595549581177,
          -0.4014320980351241,
          0.2768554886591539,
          0.6850029958985456,
          1.217228413403306,
          0.0004767600120356688,
          0.6150724740089417,
          1.9663061699945412,
          0.08373775636709833,
          -0.09367242849193225,
          1.941057727327503,
          -0.13057102776250692,
          -0.6439529144124976,
          1.165853793242421,
          1.5512245789952017,
          0.5367325444451624,
          -2.1495151138302044,
          0.30911985471863646,
          -0.3735933045031228,
          1.4914723144811945,
          0.542497125503664,
          -1.4880297265190745,
          1.4219612949696478,
          -0.7453717602591677,
          -0.820275547584091,
          -1.0695410946431392,
          0.9105648971146667,
          -1.0675919049211193,
          -0.9505373039277929,
          0.9483403154067895,
          0.7980594877232996,
          0.24187093910485402,
          0.06831683731689202,
          0.03701642796313196,
          0.6637321378005062,
          1.3353843888782149,
          -0.036391960561769195,
          0.06341751868228851,
          -0.19557061229114492,
          0.20319476448078289,
          0.3999278137517546,
          0.6520214832176849,
          1.5817610331356053,
          0.0024487356333205315,
          -0.46608794266680836,
          -0.32502733692389185,
          0.00408652395064844,
          -1.4101402979528026,
          -1.0137952889919584,
          -0.2951116764960503,
          -0.6773661325489958,
          -0.5583774571039964,
          -0.14619493900651256,
          0.10831965630684294,
          0.7113654590389674,
          -1.4010063951335905,
          0.44442520322954665,
          2.125584367154482,
          0.9883625765854148,
          -0.32546167976164214,
          -0.7493523540216483,
          0.30508089525228016,
          1.1067509371671787,
          1.0249988151367078,
          1.723259155388141,
          0.835983749039568,
          -0.6930414290451734,
          -0.9563387673031625,
          1.288525845626124,
          -0.19883226079676655,
          -0.5728610551825803,
          1.1788182178982578,
          0.33652843543397026,
          -0.19919535623859172,
          -0.40358965199590446,
          1.0361206880865965,
          0.5647282425094186,
          -0.6170199423123811,
          -1.0982123869880023,
          0.3485382676935787,
          -0.03971943883780901,
          0.13909878771067233,
          -1.2209608186562761,
          0.2875848146990648,
          -0.1667355497209633,
          -0.17162758021334698,
          0.6387740467986834,
          -0.7724723063604682,
          -1.317797719400858,
          0.026755130498813805,
          2.1010279252121604,
          -0.7596139163702654,
          -0.1912467472274379,
          -0.2784212994350481,
          1.2905911168928583,
          0.08657401642200585,
          -0.80580306538818,
          0.6102689452647904,
          0.12226586569504141,
          0.9576382536627993,
          1.3867778202433618,
          -0.7107499703473189,
          -0.04978873163414347,
          0.6459001042634459,
          -0.5666235889186025,
          1.5588075132735035,
          -2.128233099421547,
          1.032226204946122,
          -0.6535220428058217,
          0.31818346266552766,
          0.589946152868584,
          0.6127771847945019,
          1.301066127363134,
          -1.3320277275585934,
          -1.1472067769088437,
          1.8369212423107175,
          -0.022723469905028985,
          -0.9133406249267434,
          0.3114602759065956,
          0.11631196586182597,
          0.8729953017299383,
          -0.7199487723466899,
          0.3915744603967132,
          -0.35515602743031377,
          -0.2173004597528144,
          0.5331772895749269,
          0.713171584911265,
          0.5030162261735596,
          0.4581111950552235,
          -1.0386260023309828,
          -0.487893640781526,
          -0.43195872958517323,
          0.7939154002044022,
          -2.2131075489764007,
          0.5350457825065638,
          -0.7539670009444982,
          0.863167452472328,
          0.25429990245035655,
          0.2937994748395418,
          1.1087133921448986,
          0.00607302707779635,
          -1.8860136458524466,
          -1.3079654557749298,
          -0.36430938163544474,
          -0.4658365676151538,
          -0.0014148933062267989,
          -0.13474385658898244,
          -0.5679987563575732,
          -1.4324279369747137,
          1.8760948634291397,
          0.1149390088890936,
          1.0558791028511267,
          0.07916007003305245,
          -0.6335466085391929,
          -0.9805651278221019,
          -1.183500399612964,
          1.8677490768661256,
          1.4954608814647739,
          -1.3671577469105631,
          -1.4247815471731142,
          -1.1555954354244364,
          -0.16132705174075757,
          0.18629511516329061,
          -0.09444946187996209,
          1.119411643474174,
          -1.0634410205781961,
          -0.9548187889370024,
          0.2546564513138203,
          -0.358442735826726,
          0.29621175060336125,
          -0.9889776861042603,
          0.49520849164273223,
          -1.153471929517402,
          0.6329745496399928,
          0.47616651746646166,
          0.15623786004812423,
          0.5622607158981837,
          -1.431831206260721,
          0.7645223945281084,
          0.2529126626873984,
          0.3881793003301818,
          -0.014179552366018772,
          -0.405504925489707,
          -1.1480025084052583,
          -0.9698462863729593,
          -0.10454183001971906,
          -2.5199078120413207,
          0.20916663476035852,
          -0.9300088334601098,
          0.7819907867493955,
          -0.6890102762364488,
          0.8329771698549421,
          0.7619871009367658,
          0.10216606852181954,
          -0.06632134288158673,
          0.10804162236446864,
          -0.27036535229421654,
          -0.3920654387425844,
          0.21802461208236915,
          -1.0730849349132427,
          1.7920055339751186,
          0.5238480318471079,
          3.1328497592988254,
          -0.7787792747682111,
          0.12209322547377462,
          -0.8681022638325689,
          -1.7238665169717764,
          -0.842526887128965,
          -0.9885158910392454,
          -0.4303691331152714,
          -1.3156535908737732,
          2.114327089905781,
          -0.7818508963685,
          0.6686440848536368,
          -2.2053307427512823,
          0.536666904069079,
          -0.005602502387495518,
          -0.21620423017373624,
          0.06910444620083535,
          -0.10944023638228405,
          -0.43170890990386723,
          -0.5003154690697474,
          -0.18298525519540199,
          -0.2324497763124748,
          -0.8611182274905729,
          0.698848070832326,
          0.953769475515684,
          -0.8945929343432973,
          -0.1694958068996005,
          -1.8995225828675153,
          -0.43918273278844305,
          0.033895120503742555,
          -0.1668198197884334,
          0.7892711346573814,
          -0.8557569798131679,
          -1.4695113219326463,
          0.209455630594276,
          -0.34426368525585216,
          -0.6328763701284336,
          1.3473953163643682,
          -1.2784219847389273,
          1.3860094282556858,
          0.6239864919684446,
          -1.0446404424651918,
          0.016807900909153146,
          -0.49148561926384454,
          -0.8351972186659032,
          -1.1934663797809324,
          0.4873834012984498,
          -0.6930182329931641,
          0.17749545578934284,
          0.2672203487735012,
          -0.9868252775052166,
          -1.602739397505151,
          -0.8599092996088823,
          -0.30319080455776126,
          1.8760899713848402,
          -0.9921053206873153,
          -0.9769186991197542,
          -1.824783753058358,
          -0.37530455716665007,
          -0.2365399282514457,
          0.3398984115823833,
          -0.025570405519403604,
          0.9406903573996899,
          -1.3245626310439165,
          -0.9026834028895019,
          -1.5810496833673158,
          1.5025261637779432,
          0.41203458402289844,
          -1.1537109894651074,
          1.379011532335692,
          0.3753006004066333,
          0.49980021031479127,
          -1.026385733558565,
          0.1957390219848247,
          0.5456729673373499,
          0.9117616793843547,
          -0.7452567358123122,
          -1.1755823188800152,
          1.0063975899257653,
          -0.3596862847870395,
          1.972371049347955,
          0.555790238123661,
          0.7820690294669893,
          1.0329053044392338,
          -1.4239254035126792,
          -0.009087461766361752,
          -0.2857402030885964,
          0.48069633829944275,
          -1.0900698728604692,
          0.6718969727185429,
          1.1945817673838128,
          0.31021647474853475,
          -0.21207731341061895,
          -0.24738310107108177,
          -0.1622571226065871,
          0.39191834702674516,
          0.10733514327828217,
          -0.32844451589919327,
          0.8810010416121989,
          0.3980893198138913,
          1.6035485749927805,
          1.2233396727199344,
          0.6982069034268258,
          2.061858152759205,
          -0.47696980870742817,
          -0.5769398702321007,
          0.4461058895309479,
          0.05861098124561932,
          1.6834567346700113,
          -0.2580486705740107,
          -0.3772766263951138,
          -2.1695246325264095,
          1.5829204345779266,
          -0.3665088143064931,
          1.4798323234847002,
          -1.1866531660864321,
          1.072438235220332,
          -0.6539585866195524,
          -0.49232625105270794,
          0.753496513607718,
          0.24655140136691783,
          -0.5024479830024997,
          -0.9226021549882073,
          0.20796175002983364,
          0.15858825531226733,
          -0.1397220973055408,
          -0.33535880938256585,
          0.6303757834587675,
          0.07027168658762793,
          -0.33596924752475865,
          -0.21429211438002374,
          1.1009066931227196,
          -0.33896739507219414,
          0.9626150955938544,
          -0.5824082469013039,
          -0.1769542680339403,
          -1.0931593800106567,
          -0.5230820495496875,
          0.2596212947619976,
          0.3622109478066076,
          1.3819453438796336,
          -0.44098413639276435,
          0.015227173672750224,
          -0.4299167219319562,
          0.1211553693006441,
          0.9256575806916018,
          -0.15621263760261703,
          -1.3533910268896483,
          1.3879500879205187,
          1.4940930264089327,
          0.765340936485704,
          0.08858059573595173,
          -0.42774529656832305,
          -1.2268774124932111,
          -1.3090316542070262,
          0.1796172792886122,
          2.4667233102549386,
          -0.7484131077761385,
          -0.5127091157029477,
          1.9533823784826205,
          0.3250052582400349,
          0.26020318556274963,
          0.7999975147769987,
          -0.8090920016328166,
          0.41459677471971496,
          0.4265149687962349,
          0.4776744741803245,
          1.5902197749481684,
          -0.10325134803913481,
          -0.32543960850662723,
          0.3799185207591294,
          0.348975070643868,
          0.22465204430415558,
          0.7382132772081735,
          -0.9907368937555412,
          0.6442191273866247,
          -1.2762166786691016,
          -1.5104763803063506,
          -1.444472757056458,
          1.2741795751454863,
          1.07950036050987,
          -0.5913692627223103,
          0.2837080054469252,
          0.7300733647442221,
          -0.5444245206356525,
          -0.17488482254282398,
          -0.0030089002134659334,
          0.27029247494166525,
          -0.2545403108994149,
          1.1072893911836277,
          0.7179388383891393,
          1.601331436359959,
          1.366794155868723,
          -1.552432844090767,
          0.4455982292908392,
          -0.13683462236022012,
          1.308264318670618,
          0.6205661911337795,
          -0.095514241029446,
          0.4646639787228403,
          0.9632235599142476,
          -0.9189988685989134,
          -1.5597376977797255,
          -0.3376036039186554,
          0.35807020499255465
         ],
         "xaxis": "x",
         "yaxis": "y"
        }
       ],
       "layout": {
        "barmode": "relative",
        "legend": {
         "title": {
          "text": "variable"
         },
         "tracegroupgap": 0
        },
        "margin": {
         "t": 60
        },
        "template": {
         "data": {
          "bar": [
           {
            "error_x": {
             "color": "#2a3f5f"
            },
            "error_y": {
             "color": "#2a3f5f"
            },
            "marker": {
             "line": {
              "color": "#E5ECF6",
              "width": 0.5
             },
             "pattern": {
              "fillmode": "overlay",
              "size": 10,
              "solidity": 0.2
             }
            },
            "type": "bar"
           }
          ],
          "barpolar": [
           {
            "marker": {
             "line": {
              "color": "#E5ECF6",
              "width": 0.5
             },
             "pattern": {
              "fillmode": "overlay",
              "size": 10,
              "solidity": 0.2
             }
            },
            "type": "barpolar"
           }
          ],
          "carpet": [
           {
            "aaxis": {
             "endlinecolor": "#2a3f5f",
             "gridcolor": "white",
             "linecolor": "white",
             "minorgridcolor": "white",
             "startlinecolor": "#2a3f5f"
            },
            "baxis": {
             "endlinecolor": "#2a3f5f",
             "gridcolor": "white",
             "linecolor": "white",
             "minorgridcolor": "white",
             "startlinecolor": "#2a3f5f"
            },
            "type": "carpet"
           }
          ],
          "choropleth": [
           {
            "colorbar": {
             "outlinewidth": 0,
             "ticks": ""
            },
            "type": "choropleth"
           }
          ],
          "contour": [
           {
            "colorbar": {
             "outlinewidth": 0,
             "ticks": ""
            },
            "colorscale": [
             [
              0,
              "#0d0887"
             ],
             [
              0.1111111111111111,
              "#46039f"
             ],
             [
              0.2222222222222222,
              "#7201a8"
             ],
             [
              0.3333333333333333,
              "#9c179e"
             ],
             [
              0.4444444444444444,
              "#bd3786"
             ],
             [
              0.5555555555555556,
              "#d8576b"
             ],
             [
              0.6666666666666666,
              "#ed7953"
             ],
             [
              0.7777777777777778,
              "#fb9f3a"
             ],
             [
              0.8888888888888888,
              "#fdca26"
             ],
             [
              1,
              "#f0f921"
             ]
            ],
            "type": "contour"
           }
          ],
          "contourcarpet": [
           {
            "colorbar": {
             "outlinewidth": 0,
             "ticks": ""
            },
            "type": "contourcarpet"
           }
          ],
          "heatmap": [
           {
            "colorbar": {
             "outlinewidth": 0,
             "ticks": ""
            },
            "colorscale": [
             [
              0,
              "#0d0887"
             ],
             [
              0.1111111111111111,
              "#46039f"
             ],
             [
              0.2222222222222222,
              "#7201a8"
             ],
             [
              0.3333333333333333,
              "#9c179e"
             ],
             [
              0.4444444444444444,
              "#bd3786"
             ],
             [
              0.5555555555555556,
              "#d8576b"
             ],
             [
              0.6666666666666666,
              "#ed7953"
             ],
             [
              0.7777777777777778,
              "#fb9f3a"
             ],
             [
              0.8888888888888888,
              "#fdca26"
             ],
             [
              1,
              "#f0f921"
             ]
            ],
            "type": "heatmap"
           }
          ],
          "heatmapgl": [
           {
            "colorbar": {
             "outlinewidth": 0,
             "ticks": ""
            },
            "colorscale": [
             [
              0,
              "#0d0887"
             ],
             [
              0.1111111111111111,
              "#46039f"
             ],
             [
              0.2222222222222222,
              "#7201a8"
             ],
             [
              0.3333333333333333,
              "#9c179e"
             ],
             [
              0.4444444444444444,
              "#bd3786"
             ],
             [
              0.5555555555555556,
              "#d8576b"
             ],
             [
              0.6666666666666666,
              "#ed7953"
             ],
             [
              0.7777777777777778,
              "#fb9f3a"
             ],
             [
              0.8888888888888888,
              "#fdca26"
             ],
             [
              1,
              "#f0f921"
             ]
            ],
            "type": "heatmapgl"
           }
          ],
          "histogram": [
           {
            "marker": {
             "pattern": {
              "fillmode": "overlay",
              "size": 10,
              "solidity": 0.2
             }
            },
            "type": "histogram"
           }
          ],
          "histogram2d": [
           {
            "colorbar": {
             "outlinewidth": 0,
             "ticks": ""
            },
            "colorscale": [
             [
              0,
              "#0d0887"
             ],
             [
              0.1111111111111111,
              "#46039f"
             ],
             [
              0.2222222222222222,
              "#7201a8"
             ],
             [
              0.3333333333333333,
              "#9c179e"
             ],
             [
              0.4444444444444444,
              "#bd3786"
             ],
             [
              0.5555555555555556,
              "#d8576b"
             ],
             [
              0.6666666666666666,
              "#ed7953"
             ],
             [
              0.7777777777777778,
              "#fb9f3a"
             ],
             [
              0.8888888888888888,
              "#fdca26"
             ],
             [
              1,
              "#f0f921"
             ]
            ],
            "type": "histogram2d"
           }
          ],
          "histogram2dcontour": [
           {
            "colorbar": {
             "outlinewidth": 0,
             "ticks": ""
            },
            "colorscale": [
             [
              0,
              "#0d0887"
             ],
             [
              0.1111111111111111,
              "#46039f"
             ],
             [
              0.2222222222222222,
              "#7201a8"
             ],
             [
              0.3333333333333333,
              "#9c179e"
             ],
             [
              0.4444444444444444,
              "#bd3786"
             ],
             [
              0.5555555555555556,
              "#d8576b"
             ],
             [
              0.6666666666666666,
              "#ed7953"
             ],
             [
              0.7777777777777778,
              "#fb9f3a"
             ],
             [
              0.8888888888888888,
              "#fdca26"
             ],
             [
              1,
              "#f0f921"
             ]
            ],
            "type": "histogram2dcontour"
           }
          ],
          "mesh3d": [
           {
            "colorbar": {
             "outlinewidth": 0,
             "ticks": ""
            },
            "type": "mesh3d"
           }
          ],
          "parcoords": [
           {
            "line": {
             "colorbar": {
              "outlinewidth": 0,
              "ticks": ""
             }
            },
            "type": "parcoords"
           }
          ],
          "pie": [
           {
            "automargin": true,
            "type": "pie"
           }
          ],
          "scatter": [
           {
            "fillpattern": {
             "fillmode": "overlay",
             "size": 10,
             "solidity": 0.2
            },
            "type": "scatter"
           }
          ],
          "scatter3d": [
           {
            "line": {
             "colorbar": {
              "outlinewidth": 0,
              "ticks": ""
             }
            },
            "marker": {
             "colorbar": {
              "outlinewidth": 0,
              "ticks": ""
             }
            },
            "type": "scatter3d"
           }
          ],
          "scattercarpet": [
           {
            "marker": {
             "colorbar": {
              "outlinewidth": 0,
              "ticks": ""
             }
            },
            "type": "scattercarpet"
           }
          ],
          "scattergeo": [
           {
            "marker": {
             "colorbar": {
              "outlinewidth": 0,
              "ticks": ""
             }
            },
            "type": "scattergeo"
           }
          ],
          "scattergl": [
           {
            "marker": {
             "colorbar": {
              "outlinewidth": 0,
              "ticks": ""
             }
            },
            "type": "scattergl"
           }
          ],
          "scattermapbox": [
           {
            "marker": {
             "colorbar": {
              "outlinewidth": 0,
              "ticks": ""
             }
            },
            "type": "scattermapbox"
           }
          ],
          "scatterpolar": [
           {
            "marker": {
             "colorbar": {
              "outlinewidth": 0,
              "ticks": ""
             }
            },
            "type": "scatterpolar"
           }
          ],
          "scatterpolargl": [
           {
            "marker": {
             "colorbar": {
              "outlinewidth": 0,
              "ticks": ""
             }
            },
            "type": "scatterpolargl"
           }
          ],
          "scatterternary": [
           {
            "marker": {
             "colorbar": {
              "outlinewidth": 0,
              "ticks": ""
             }
            },
            "type": "scatterternary"
           }
          ],
          "surface": [
           {
            "colorbar": {
             "outlinewidth": 0,
             "ticks": ""
            },
            "colorscale": [
             [
              0,
              "#0d0887"
             ],
             [
              0.1111111111111111,
              "#46039f"
             ],
             [
              0.2222222222222222,
              "#7201a8"
             ],
             [
              0.3333333333333333,
              "#9c179e"
             ],
             [
              0.4444444444444444,
              "#bd3786"
             ],
             [
              0.5555555555555556,
              "#d8576b"
             ],
             [
              0.6666666666666666,
              "#ed7953"
             ],
             [
              0.7777777777777778,
              "#fb9f3a"
             ],
             [
              0.8888888888888888,
              "#fdca26"
             ],
             [
              1,
              "#f0f921"
             ]
            ],
            "type": "surface"
           }
          ],
          "table": [
           {
            "cells": {
             "fill": {
              "color": "#EBF0F8"
             },
             "line": {
              "color": "white"
             }
            },
            "header": {
             "fill": {
              "color": "#C8D4E3"
             },
             "line": {
              "color": "white"
             }
            },
            "type": "table"
           }
          ]
         },
         "layout": {
          "annotationdefaults": {
           "arrowcolor": "#2a3f5f",
           "arrowhead": 0,
           "arrowwidth": 1
          },
          "autotypenumbers": "strict",
          "coloraxis": {
           "colorbar": {
            "outlinewidth": 0,
            "ticks": ""
           }
          },
          "colorscale": {
           "diverging": [
            [
             0,
             "#8e0152"
            ],
            [
             0.1,
             "#c51b7d"
            ],
            [
             0.2,
             "#de77ae"
            ],
            [
             0.3,
             "#f1b6da"
            ],
            [
             0.4,
             "#fde0ef"
            ],
            [
             0.5,
             "#f7f7f7"
            ],
            [
             0.6,
             "#e6f5d0"
            ],
            [
             0.7,
             "#b8e186"
            ],
            [
             0.8,
             "#7fbc41"
            ],
            [
             0.9,
             "#4d9221"
            ],
            [
             1,
             "#276419"
            ]
           ],
           "sequential": [
            [
             0,
             "#0d0887"
            ],
            [
             0.1111111111111111,
             "#46039f"
            ],
            [
             0.2222222222222222,
             "#7201a8"
            ],
            [
             0.3333333333333333,
             "#9c179e"
            ],
            [
             0.4444444444444444,
             "#bd3786"
            ],
            [
             0.5555555555555556,
             "#d8576b"
            ],
            [
             0.6666666666666666,
             "#ed7953"
            ],
            [
             0.7777777777777778,
             "#fb9f3a"
            ],
            [
             0.8888888888888888,
             "#fdca26"
            ],
            [
             1,
             "#f0f921"
            ]
           ],
           "sequentialminus": [
            [
             0,
             "#0d0887"
            ],
            [
             0.1111111111111111,
             "#46039f"
            ],
            [
             0.2222222222222222,
             "#7201a8"
            ],
            [
             0.3333333333333333,
             "#9c179e"
            ],
            [
             0.4444444444444444,
             "#bd3786"
            ],
            [
             0.5555555555555556,
             "#d8576b"
            ],
            [
             0.6666666666666666,
             "#ed7953"
            ],
            [
             0.7777777777777778,
             "#fb9f3a"
            ],
            [
             0.8888888888888888,
             "#fdca26"
            ],
            [
             1,
             "#f0f921"
            ]
           ]
          },
          "colorway": [
           "#636efa",
           "#EF553B",
           "#00cc96",
           "#ab63fa",
           "#FFA15A",
           "#19d3f3",
           "#FF6692",
           "#B6E880",
           "#FF97FF",
           "#FECB52"
          ],
          "font": {
           "color": "#2a3f5f"
          },
          "geo": {
           "bgcolor": "white",
           "lakecolor": "white",
           "landcolor": "#E5ECF6",
           "showlakes": true,
           "showland": true,
           "subunitcolor": "white"
          },
          "hoverlabel": {
           "align": "left"
          },
          "hovermode": "closest",
          "mapbox": {
           "style": "light"
          },
          "paper_bgcolor": "white",
          "plot_bgcolor": "#E5ECF6",
          "polar": {
           "angularaxis": {
            "gridcolor": "white",
            "linecolor": "white",
            "ticks": ""
           },
           "bgcolor": "#E5ECF6",
           "radialaxis": {
            "gridcolor": "white",
            "linecolor": "white",
            "ticks": ""
           }
          },
          "scene": {
           "xaxis": {
            "backgroundcolor": "#E5ECF6",
            "gridcolor": "white",
            "gridwidth": 2,
            "linecolor": "white",
            "showbackground": true,
            "ticks": "",
            "zerolinecolor": "white"
           },
           "yaxis": {
            "backgroundcolor": "#E5ECF6",
            "gridcolor": "white",
            "gridwidth": 2,
            "linecolor": "white",
            "showbackground": true,
            "ticks": "",
            "zerolinecolor": "white"
           },
           "zaxis": {
            "backgroundcolor": "#E5ECF6",
            "gridcolor": "white",
            "gridwidth": 2,
            "linecolor": "white",
            "showbackground": true,
            "ticks": "",
            "zerolinecolor": "white"
           }
          },
          "shapedefaults": {
           "line": {
            "color": "#2a3f5f"
           }
          },
          "ternary": {
           "aaxis": {
            "gridcolor": "white",
            "linecolor": "white",
            "ticks": ""
           },
           "baxis": {
            "gridcolor": "white",
            "linecolor": "white",
            "ticks": ""
           },
           "bgcolor": "#E5ECF6",
           "caxis": {
            "gridcolor": "white",
            "linecolor": "white",
            "ticks": ""
           }
          },
          "title": {
           "x": 0.05
          },
          "xaxis": {
           "automargin": true,
           "gridcolor": "white",
           "linecolor": "white",
           "ticks": "",
           "title": {
            "standoff": 15
           },
           "zerolinecolor": "white",
           "zerolinewidth": 2
          },
          "yaxis": {
           "automargin": true,
           "gridcolor": "white",
           "linecolor": "white",
           "ticks": "",
           "title": {
            "standoff": 15
           },
           "zerolinecolor": "white",
           "zerolinewidth": 2
          }
         }
        },
        "xaxis": {
         "anchor": "y",
         "domain": [
          0,
          1
         ],
         "title": {
          "text": "value"
         }
        },
        "yaxis": {
         "anchor": "x",
         "domain": [
          0,
          1
         ],
         "title": {
          "text": "count"
         }
        }
       }
      }
     },
     "metadata": {},
     "output_type": "display_data"
    }
   ],
   "source": [
    "import plotly.express as px\n",
    "\n",
    "fig_hist_density_3 = px.histogram(df_hist['edades'])\n",
    "\n",
    "fig_hist_density_3.show()"
   ]
  },
  {
   "cell_type": "markdown",
   "metadata": {},
   "source": [
    "Y que tal con el diagrama de densidad"
   ]
  },
  {
   "cell_type": "code",
   "execution_count": 83,
   "metadata": {},
   "outputs": [
    {
     "data": {
      "application/vnd.plotly.v1+json": {
       "config": {
        "plotlyServerURL": "https://plot.ly"
       },
       "data": [
        {
         "alignmentgroup": "True",
         "bingroup": "x",
         "histnorm": "probability density",
         "hovertemplate": "variable=edades<br>value=%{x}<br>probability density=%{y}<extra></extra>",
         "legendgroup": "edades",
         "marker": {
          "color": "#636efa",
          "pattern": {
           "shape": ""
          }
         },
         "name": "edades",
         "offsetgroup": "edades",
         "orientation": "v",
         "showlegend": true,
         "type": "histogram",
         "x": [
          0.8799985735761584,
          1.3311207382451442,
          0.05666688180297213,
          -1.1176968337671975,
          -0.9070326864789018,
          0.08318291506454983,
          1.4063529346780044,
          -1.7285691761986302,
          -1.1173904300663398,
          -1.5753946901623124,
          -0.06475936051993714,
          -0.028685437332396767,
          -0.7802622505780948,
          0.20968916740548518,
          0.8161664828341126,
          0.17687291741143613,
          1.2002844726057091,
          0.8868197094403175,
          -0.48574582069084704,
          -1.1231229768910322,
          1.2281645093469467,
          0.9102304340808773,
          -0.03634793275569684,
          0.01284567582570358,
          3.2219086074097367,
          0.34322999531929654,
          1.8793015917682139,
          -0.6709475244388134,
          0.0714537139936274,
          2.049870963961384,
          -0.6571931996077447,
          0.3763158706736979,
          0.06555148001984772,
          -0.5825010210238515,
          -1.266611692284384,
          0.6060768735356794,
          0.33284005758756446,
          0.871741982086495,
          0.3349550428340479,
          0.3563850444650842,
          -0.08360899739960108,
          3.4774072409997125,
          1.5439134282819869,
          0.7140493936096105,
          -0.9182593587632157,
          2.044081970289613,
          -0.26418921187262434,
          -0.08920978504193466,
          -0.7905261439050257,
          -0.39572540977815684,
          -0.9968849149461576,
          -2.9554755664268293,
          0.29342423808049833,
          0.10272802589933662,
          0.16678791155961517,
          -0.6074612859445083,
          1.5227412729548684,
          -1.4054089398174536,
          0.23837576950451106,
          0.9353291386920229,
          0.5139205299406278,
          1.4258807609436164,
          3.3927049139224903,
          0.13693228222954626,
          -1.290500622831457,
          0.33692260028920196,
          -0.48754107339727487,
          -1.1223628396549419,
          -2.286428004350008,
          -1.3848980354205362,
          1.2583589032279998,
          2.204382634070649,
          0.7133584901878166,
          1.0464554766886562,
          0.9409836120776027,
          0.994698720480856,
          -0.5681046228560438,
          0.8782474054821819,
          0.1151877980793444,
          0.12609657698259377,
          0.4212101666193883,
          -0.10213864993878667,
          1.0038333797064491,
          -2.2964953125120102,
          0.39425704484604107,
          -0.8232130455263422,
          0.07571306593324632,
          -0.9225523450847534,
          1.6569750090534916,
          -0.21489897211969952,
          0.16825231142631134,
          -0.7889588452642846,
          0.8142318792080355,
          -1.6155909711130494,
          -0.29403254399230555,
          -0.8403041302019231,
          1.654074440326883,
          1.5231433403551045,
          1.1118555217657267,
          -0.5619578114810916,
          -0.5573567338402307,
          -1.8800615498737254,
          -1.0052704256519716,
          1.6046665165422682,
          -0.4935186435140744,
          2.0805325546836717,
          0.26063935715979325,
          0.12941193437123855,
          -0.6778314326394279,
          -0.32056706925056444,
          -0.3319901207145756,
          -1.5384408569470542,
          0.8869032834376841,
          0.07020838592387978,
          2.838234952758126,
          0.4150877650715847,
          0.7221881372612615,
          1.336041835087573,
          2.0223309948409187,
          -0.6094314353818178,
          0.016576331342144545,
          1.6500242831844598,
          -0.40689578405752636,
          -0.9360709436101143,
          -0.11310968130859311,
          -0.7391813724022954,
          -0.26241539744227993,
          -0.5619029087945798,
          -0.8897856969476046,
          0.9133928006597526,
          1.0286828531662893,
          2.0204886345909654,
          -1.5203238510813737,
          0.3698093489040241,
          -0.13060449824478748,
          -0.22525412889955673,
          0.31575769849769414,
          -2.5976916168626376,
          0.2854878573083671,
          -0.06838601641590518,
          0.41813514374158683,
          -0.8961413690655324,
          0.9728417836764568,
          1.2161982677058103,
          2.4613578399818907,
          -0.9685413735902075,
          0.7006612773682036,
          -0.5146846869627427,
          0.7295313723552966,
          -0.2858063813471335,
          1.431000198419596,
          -0.5824288425886505,
          0.11650540273925591,
          -1.8233338803503674,
          -1.562004182477589,
          -0.9631324973193333,
          0.13419318068349134,
          1.4558507817342363,
          -0.13488658896683745,
          0.33038888458892723,
          -1.5235808084303637,
          1.6473274673076652,
          -1.4429787084250518,
          1.4140050930894503,
          0.5476174654660027,
          0.8823839009633245,
          -1.1013230491784434,
          -1.428072698295294,
          -0.4786378071903739,
          0.8322128671647799,
          0.9262231045981916,
          -1.304295579406907,
          -0.40949125067929154,
          -0.9999756189946852,
          0.7375475061798138,
          -0.10156847931537671,
          -1.4795579123786686,
          -0.4313699477446318,
          -1.9422858211403238,
          0.1570484712082017,
          -0.9824345360233664,
          -0.47052734137663105,
          1.7210479545924449,
          0.7967424042705454,
          0.395821531479639,
          -0.9755496772640976,
          -2.054376090731993,
          0.20603831314165832,
          0.29082873348771576,
          0.6406309566852655,
          -0.5432847134115797,
          0.5479395692727471,
          -0.9699193095876661,
          0.8457742440906763,
          1.1585318855942668,
          1.3922890281155795,
          -1.1595313895728852,
          -0.03676564775223985,
          -1.37015963880588,
          0.6528090774774554,
          -0.2908177780280339,
          -0.2533027512598203,
          -0.23854162836941245,
          -0.34209992352898777,
          -0.7929120755181908,
          1.2732187239457309,
          -2.120967358935274,
          0.4179094505389918,
          -2.70113044720168,
          -0.4747175057290224,
          0.4266748017631026,
          1.0335751616253415,
          -0.12410347400692649,
          0.034241638039986116,
          -1.3601882201828706,
          0.06554569243856981,
          -0.26192461335795014,
          1.640827679324625,
          -1.3730271962808396,
          -0.2090475281973749,
          -1.9898634625437586,
          0.28549588881989524,
          0.6523076609434563,
          0.25875478543481495,
          0.4296456778613383,
          0.16249103147005894,
          -0.1881487492353031,
          -0.4007399475999703,
          -0.49738621100617125,
          -0.3078727817932766,
          0.12654387542048814,
          0.14006234533543074,
          1.6400949561002083,
          1.2114548255560622,
          0.7073625660160167,
          1.0751524117976472,
          -1.4402390199110349,
          0.9618956565934687,
          0.8045467208178462,
          0.6015562359078446,
          -1.4190270097666586,
          -0.05092969681727208,
          -0.36745346039321797,
          0.7042253993751887,
          1.958135927558252,
          -0.9389800700692693,
          1.927066979028815,
          -1.4406123449306352,
          -0.1676163268148849,
          0.6966678779818887,
          0.2643321066006733,
          -0.2022207929179198,
          0.5566469925414542,
          -0.4315271150126598,
          1.1467913760587711,
          1.0732187376201348,
          -0.2098393432270207,
          -0.4950192054291491,
          0.7177846743532994,
          0.4286263811109077,
          -1.6182116089993748,
          0.12905609804295953,
          -0.37819679019941776,
          2.0245407094115024,
          -0.21045243322313073,
          2.771597873298776,
          1.0231437417701248,
          -0.08002381558283664,
          -1.2787509839131168,
          -0.211692370778233,
          0.37738810747299917,
          -0.6034590230780835,
          -0.15055709936425746,
          0.07126699341995792,
          1.0094254208771485,
          -0.5419259475258223,
          0.8986108186726406,
          -0.1624451990037824,
          1.3079812479320558,
          1.4497199922221382,
          -0.3211014332747916,
          1.0018120778236914,
          1.1463636612240784,
          0.757541064164495,
          -1.7763772647835,
          0.7464198526303126,
          -0.31146096009323543,
          -1.023525264896206,
          -0.7018242536220791,
          -1.8666850415151213,
          -0.08629171703153618,
          0.6651884706134401,
          0.0996360242132514,
          -0.11710928357927099,
          1.4887515859749914,
          0.04150536063014568,
          -1.15358519672537,
          0.550631184566771,
          -0.1526072327660393,
          -0.7012492547098094,
          -0.46030798437896775,
          -1.5337266899431161,
          2.394693491090493,
          0.5042342893079996,
          -0.064825757906507,
          -0.028386481010708862,
          1.6586014604609998,
          0.7088216112718341,
          -0.04810629796548466,
          -0.4094442574156708,
          -0.06345035363701171,
          1.1602748387046566,
          0.25899295335664724,
          -0.18227978693056116,
          -0.08730490853508775,
          1.10022979559156,
          -0.49555115446927706,
          -0.7132154187745463,
          -0.645195578248697,
          -0.46513281814830576,
          0.255716758115445,
          0.8530881935245389,
          0.03472084998172592,
          2.0052748793905724,
          0.1756783782199345,
          0.6678682810978483,
          0.858338813944477,
          -1.6689203924245888,
          1.3790478513127713,
          -1.091587322649806,
          -0.05652017702288915,
          2.169991051587948,
          0.6376636714629791,
          0.282379474626821,
          0.8428112725470214,
          0.6840460706837989,
          -0.47490912970939486,
          -0.15161037965667576,
          -1.08482560451524,
          0.2645705957527032,
          -0.034601016437100784,
          0.08338322198401357,
          -0.5259944204185792,
          0.00674225788346054,
          1.7751055279087937,
          -0.1306635993527672,
          -0.7210011948082379,
          -1.6050771935998418,
          2.584645388102799,
          1.8154853822196833,
          -1.0835309526986063,
          -0.3218346624201715,
          -1.4052412368258018,
          -0.37564270357390644,
          -0.8816501887798032,
          -0.6067362252859377,
          -1.1803914475282289,
          -1.2129002151984738,
          -1.7438262693438054,
          -0.9146966745699594,
          1.3482466671287925,
          -0.8677691756789837,
          1.1065248999043482,
          1.5555452583006524,
          -0.05283914705847912,
          -0.8706587779090915,
          -0.14091305296356332,
          -1.246507596490569,
          0.6878299949108934,
          -0.12481331772923225,
          -0.9845264042615981,
          -2.4001867866160853,
          -1.0721343425750594,
          0.1841232928081896,
          -0.8986735874232432,
          1.4211394947668652,
          -1.4687421003493608,
          -1.4351918799285537,
          1.995959124074949,
          1.1455283080847116,
          0.13114134755620357,
          0.676261452788369,
          -0.7795751552604456,
          -0.18167452411008042,
          -0.6368461475822343,
          0.4770673895778798,
          1.091848678758838,
          0.48883301548037167,
          0.2847995113562798,
          1.0506135971474138,
          0.5568659615766882,
          -0.009922101173288927,
          0.9288624576596074,
          0.26400001495823083,
          -0.9214280372115111,
          0.5814827066544956,
          -1.2282167750173683,
          0.7087362795701367,
          0.9278808676672589,
          -0.4831445837648213,
          -3.2223567559475046,
          -0.31443742307029854,
          0.3910454860927598,
          0.6157955704752412,
          1.4468081316623722,
          1.2196949296681188,
          1.6029682159133412,
          -0.5977942314303474,
          0.7229701329648032,
          1.0180530548262205,
          1.493953969999105,
          -0.22320483399301128,
          -0.30651686119485483,
          -1.671376147989361,
          -0.07835220863588563,
          -1.3493502170639227,
          0.5101174461458652,
          -0.7578257830031061,
          0.5025330979537552,
          1.8625842891783908,
          0.6150723340381111,
          0.8029688931094502,
          1.6876992520680236,
          0.22339288943412453,
          -0.5986596900067612,
          2.0870303791317006,
          -0.8650935090547309,
          2.0061809367653676,
          0.785410867348553,
          0.5430782107618389,
          0.7797698156370608,
          -0.06595806563648723,
          -0.3358181529043703,
          -0.3113063092342112,
          -0.19140758754765846,
          -0.009478282774882198,
          -1.5273639128015226,
          -1.736245398022245,
          1.6218508926843949,
          1.2521140019888242,
          0.7324309486266516,
          0.4187496726668344,
          2.526970561922882,
          -2.326731830234677,
          -0.96791749537905,
          -0.37325276048637585,
          2.336479706716348,
          -0.04774305279411362,
          -1.77862009151738,
          0.056932011289508457,
          0.20637506293439895,
          0.8580347516782147,
          0.2646886571510168,
          -1.3440572578941683,
          -0.31770214207611175,
          0.10249690845290446,
          0.9836114641293274,
          -0.17595541628605724,
          0.5617099601915809,
          2.367586372249017,
          0.6204895699752544,
          0.16145739328066078,
          -0.5587736017066944,
          0.9015222544966476,
          -0.3031701941349038,
          -0.6990319604273684,
          -0.1100701422293661,
          -0.8879436608707378,
          0.46952927033706887,
          -0.0963051877774548,
          0.04240002416824767,
          0.05232737564602944,
          -0.5072384043660968,
          0.3496452277702374,
          0.48236327963502557,
          0.813921379418854,
          0.053578265969318896,
          1.4826383234477603,
          0.041871902116474485,
          0.07702063977502023,
          -0.8062313487256322,
          -0.82626487605473,
          0.06068221216823143,
          1.1499832845848195,
          1.5290857803632678,
          0.26505761782223636,
          0.5637101920436944,
          -0.6858357113458591,
          0.4205689183418089,
          1.3528110598742915,
          1.5143981075123998,
          -0.6549864078458244,
          -0.5724413435714137,
          0.3568859690243642,
          0.7495582219575498,
          0.49934856723096666,
          -1.7052644933803758,
          0.4156002336528713,
          0.37036528138351416,
          0.6471399146306405,
          -0.2279106580303934,
          -0.12341745683696918,
          0.7139784198394491,
          -0.32519380423702776,
          -0.1820548410395654,
          0.052533001213293226,
          -0.07466921399903714,
          0.3874800312596589,
          0.9181142066650502,
          1.8495807863848985,
          -1.5377991698624007,
          -1.708917486204469,
          -0.47690304350653623,
          2.0352855538497723,
          0.36814177851914526,
          2.346035756985028,
          -1.718861788090443,
          0.7246330778155684,
          -0.13687949707661898,
          -0.9108683327680096,
          -1.0122413746872325,
          -0.4951052156948943,
          -1.1716214425352443,
          0.004821955769280726,
          0.9772229405941502,
          0.18059927113882332,
          -0.6118539144701187,
          0.12485308033654356,
          -0.1141220955609923,
          0.09651347718960344,
          -1.9661650191378568,
          -0.8838902465537917,
          -0.7583502319552212,
          -1.1516769946798378,
          -0.030688824991362284,
          -0.7721698401011289,
          0.08461519071140838,
          0.6462602612527524,
          -1.1497044292226593,
          0.968613415472419,
          -1.105592749188564,
          -0.9181455162958664,
          1.4568231090415018,
          -0.7039471148998285,
          0.012181865273113894,
          1.130998069530247,
          0.7890437379045941,
          -0.6965846148620629,
          0.7818351968354031,
          0.7530241250448443,
          -0.6415207115094594,
          0.1944528071951786,
          -1.9337862751536279,
          -0.442635122043532,
          0.09886630739887073,
          0.7430884811256903,
          1.354738852266325,
          0.4267297329878939,
          0.7871936385022464,
          0.7597583281272208,
          -1.0881236945735764,
          -1.9714146995302793,
          1.592178109395976,
          -1.6732611880134554,
          -0.8573993896804151,
          0.7226459886263599,
          0.15633559144728532,
          -0.5878255536047725,
          0.5498310560534924,
          0.8712061004080889,
          0.07756030041972471,
          -1.1908074093176928,
          1.3076985109490395,
          -0.1362860806120637,
          -0.5128367976558519,
          0.29736362702005253,
          0.47210835816538904,
          0.25101698524789273,
          -0.7520656168738262,
          0.19279183829049854,
          0.9845292919405628,
          -0.1975528462570907,
          0.5692450929091734,
          -0.15086863654158192,
          0.16104136917272688,
          -1.5527197436790385,
          -1.746068779624184,
          0.24370522618775042,
          1.3956177953581521,
          0.7590327587532577,
          0.6082127217533358,
          -0.5273816796356661,
          -0.5060785215229858,
          -0.9925595549581177,
          -0.4014320980351241,
          0.2768554886591539,
          0.6850029958985456,
          1.217228413403306,
          0.0004767600120356688,
          0.6150724740089417,
          1.9663061699945412,
          0.08373775636709833,
          -0.09367242849193225,
          1.941057727327503,
          -0.13057102776250692,
          -0.6439529144124976,
          1.165853793242421,
          1.5512245789952017,
          0.5367325444451624,
          -2.1495151138302044,
          0.30911985471863646,
          -0.3735933045031228,
          1.4914723144811945,
          0.542497125503664,
          -1.4880297265190745,
          1.4219612949696478,
          -0.7453717602591677,
          -0.820275547584091,
          -1.0695410946431392,
          0.9105648971146667,
          -1.0675919049211193,
          -0.9505373039277929,
          0.9483403154067895,
          0.7980594877232996,
          0.24187093910485402,
          0.06831683731689202,
          0.03701642796313196,
          0.6637321378005062,
          1.3353843888782149,
          -0.036391960561769195,
          0.06341751868228851,
          -0.19557061229114492,
          0.20319476448078289,
          0.3999278137517546,
          0.6520214832176849,
          1.5817610331356053,
          0.0024487356333205315,
          -0.46608794266680836,
          -0.32502733692389185,
          0.00408652395064844,
          -1.4101402979528026,
          -1.0137952889919584,
          -0.2951116764960503,
          -0.6773661325489958,
          -0.5583774571039964,
          -0.14619493900651256,
          0.10831965630684294,
          0.7113654590389674,
          -1.4010063951335905,
          0.44442520322954665,
          2.125584367154482,
          0.9883625765854148,
          -0.32546167976164214,
          -0.7493523540216483,
          0.30508089525228016,
          1.1067509371671787,
          1.0249988151367078,
          1.723259155388141,
          0.835983749039568,
          -0.6930414290451734,
          -0.9563387673031625,
          1.288525845626124,
          -0.19883226079676655,
          -0.5728610551825803,
          1.1788182178982578,
          0.33652843543397026,
          -0.19919535623859172,
          -0.40358965199590446,
          1.0361206880865965,
          0.5647282425094186,
          -0.6170199423123811,
          -1.0982123869880023,
          0.3485382676935787,
          -0.03971943883780901,
          0.13909878771067233,
          -1.2209608186562761,
          0.2875848146990648,
          -0.1667355497209633,
          -0.17162758021334698,
          0.6387740467986834,
          -0.7724723063604682,
          -1.317797719400858,
          0.026755130498813805,
          2.1010279252121604,
          -0.7596139163702654,
          -0.1912467472274379,
          -0.2784212994350481,
          1.2905911168928583,
          0.08657401642200585,
          -0.80580306538818,
          0.6102689452647904,
          0.12226586569504141,
          0.9576382536627993,
          1.3867778202433618,
          -0.7107499703473189,
          -0.04978873163414347,
          0.6459001042634459,
          -0.5666235889186025,
          1.5588075132735035,
          -2.128233099421547,
          1.032226204946122,
          -0.6535220428058217,
          0.31818346266552766,
          0.589946152868584,
          0.6127771847945019,
          1.301066127363134,
          -1.3320277275585934,
          -1.1472067769088437,
          1.8369212423107175,
          -0.022723469905028985,
          -0.9133406249267434,
          0.3114602759065956,
          0.11631196586182597,
          0.8729953017299383,
          -0.7199487723466899,
          0.3915744603967132,
          -0.35515602743031377,
          -0.2173004597528144,
          0.5331772895749269,
          0.713171584911265,
          0.5030162261735596,
          0.4581111950552235,
          -1.0386260023309828,
          -0.487893640781526,
          -0.43195872958517323,
          0.7939154002044022,
          -2.2131075489764007,
          0.5350457825065638,
          -0.7539670009444982,
          0.863167452472328,
          0.25429990245035655,
          0.2937994748395418,
          1.1087133921448986,
          0.00607302707779635,
          -1.8860136458524466,
          -1.3079654557749298,
          -0.36430938163544474,
          -0.4658365676151538,
          -0.0014148933062267989,
          -0.13474385658898244,
          -0.5679987563575732,
          -1.4324279369747137,
          1.8760948634291397,
          0.1149390088890936,
          1.0558791028511267,
          0.07916007003305245,
          -0.6335466085391929,
          -0.9805651278221019,
          -1.183500399612964,
          1.8677490768661256,
          1.4954608814647739,
          -1.3671577469105631,
          -1.4247815471731142,
          -1.1555954354244364,
          -0.16132705174075757,
          0.18629511516329061,
          -0.09444946187996209,
          1.119411643474174,
          -1.0634410205781961,
          -0.9548187889370024,
          0.2546564513138203,
          -0.358442735826726,
          0.29621175060336125,
          -0.9889776861042603,
          0.49520849164273223,
          -1.153471929517402,
          0.6329745496399928,
          0.47616651746646166,
          0.15623786004812423,
          0.5622607158981837,
          -1.431831206260721,
          0.7645223945281084,
          0.2529126626873984,
          0.3881793003301818,
          -0.014179552366018772,
          -0.405504925489707,
          -1.1480025084052583,
          -0.9698462863729593,
          -0.10454183001971906,
          -2.5199078120413207,
          0.20916663476035852,
          -0.9300088334601098,
          0.7819907867493955,
          -0.6890102762364488,
          0.8329771698549421,
          0.7619871009367658,
          0.10216606852181954,
          -0.06632134288158673,
          0.10804162236446864,
          -0.27036535229421654,
          -0.3920654387425844,
          0.21802461208236915,
          -1.0730849349132427,
          1.7920055339751186,
          0.5238480318471079,
          3.1328497592988254,
          -0.7787792747682111,
          0.12209322547377462,
          -0.8681022638325689,
          -1.7238665169717764,
          -0.842526887128965,
          -0.9885158910392454,
          -0.4303691331152714,
          -1.3156535908737732,
          2.114327089905781,
          -0.7818508963685,
          0.6686440848536368,
          -2.2053307427512823,
          0.536666904069079,
          -0.005602502387495518,
          -0.21620423017373624,
          0.06910444620083535,
          -0.10944023638228405,
          -0.43170890990386723,
          -0.5003154690697474,
          -0.18298525519540199,
          -0.2324497763124748,
          -0.8611182274905729,
          0.698848070832326,
          0.953769475515684,
          -0.8945929343432973,
          -0.1694958068996005,
          -1.8995225828675153,
          -0.43918273278844305,
          0.033895120503742555,
          -0.1668198197884334,
          0.7892711346573814,
          -0.8557569798131679,
          -1.4695113219326463,
          0.209455630594276,
          -0.34426368525585216,
          -0.6328763701284336,
          1.3473953163643682,
          -1.2784219847389273,
          1.3860094282556858,
          0.6239864919684446,
          -1.0446404424651918,
          0.016807900909153146,
          -0.49148561926384454,
          -0.8351972186659032,
          -1.1934663797809324,
          0.4873834012984498,
          -0.6930182329931641,
          0.17749545578934284,
          0.2672203487735012,
          -0.9868252775052166,
          -1.602739397505151,
          -0.8599092996088823,
          -0.30319080455776126,
          1.8760899713848402,
          -0.9921053206873153,
          -0.9769186991197542,
          -1.824783753058358,
          -0.37530455716665007,
          -0.2365399282514457,
          0.3398984115823833,
          -0.025570405519403604,
          0.9406903573996899,
          -1.3245626310439165,
          -0.9026834028895019,
          -1.5810496833673158,
          1.5025261637779432,
          0.41203458402289844,
          -1.1537109894651074,
          1.379011532335692,
          0.3753006004066333,
          0.49980021031479127,
          -1.026385733558565,
          0.1957390219848247,
          0.5456729673373499,
          0.9117616793843547,
          -0.7452567358123122,
          -1.1755823188800152,
          1.0063975899257653,
          -0.3596862847870395,
          1.972371049347955,
          0.555790238123661,
          0.7820690294669893,
          1.0329053044392338,
          -1.4239254035126792,
          -0.009087461766361752,
          -0.2857402030885964,
          0.48069633829944275,
          -1.0900698728604692,
          0.6718969727185429,
          1.1945817673838128,
          0.31021647474853475,
          -0.21207731341061895,
          -0.24738310107108177,
          -0.1622571226065871,
          0.39191834702674516,
          0.10733514327828217,
          -0.32844451589919327,
          0.8810010416121989,
          0.3980893198138913,
          1.6035485749927805,
          1.2233396727199344,
          0.6982069034268258,
          2.061858152759205,
          -0.47696980870742817,
          -0.5769398702321007,
          0.4461058895309479,
          0.05861098124561932,
          1.6834567346700113,
          -0.2580486705740107,
          -0.3772766263951138,
          -2.1695246325264095,
          1.5829204345779266,
          -0.3665088143064931,
          1.4798323234847002,
          -1.1866531660864321,
          1.072438235220332,
          -0.6539585866195524,
          -0.49232625105270794,
          0.753496513607718,
          0.24655140136691783,
          -0.5024479830024997,
          -0.9226021549882073,
          0.20796175002983364,
          0.15858825531226733,
          -0.1397220973055408,
          -0.33535880938256585,
          0.6303757834587675,
          0.07027168658762793,
          -0.33596924752475865,
          -0.21429211438002374,
          1.1009066931227196,
          -0.33896739507219414,
          0.9626150955938544,
          -0.5824082469013039,
          -0.1769542680339403,
          -1.0931593800106567,
          -0.5230820495496875,
          0.2596212947619976,
          0.3622109478066076,
          1.3819453438796336,
          -0.44098413639276435,
          0.015227173672750224,
          -0.4299167219319562,
          0.1211553693006441,
          0.9256575806916018,
          -0.15621263760261703,
          -1.3533910268896483,
          1.3879500879205187,
          1.4940930264089327,
          0.765340936485704,
          0.08858059573595173,
          -0.42774529656832305,
          -1.2268774124932111,
          -1.3090316542070262,
          0.1796172792886122,
          2.4667233102549386,
          -0.7484131077761385,
          -0.5127091157029477,
          1.9533823784826205,
          0.3250052582400349,
          0.26020318556274963,
          0.7999975147769987,
          -0.8090920016328166,
          0.41459677471971496,
          0.4265149687962349,
          0.4776744741803245,
          1.5902197749481684,
          -0.10325134803913481,
          -0.32543960850662723,
          0.3799185207591294,
          0.348975070643868,
          0.22465204430415558,
          0.7382132772081735,
          -0.9907368937555412,
          0.6442191273866247,
          -1.2762166786691016,
          -1.5104763803063506,
          -1.444472757056458,
          1.2741795751454863,
          1.07950036050987,
          -0.5913692627223103,
          0.2837080054469252,
          0.7300733647442221,
          -0.5444245206356525,
          -0.17488482254282398,
          -0.0030089002134659334,
          0.27029247494166525,
          -0.2545403108994149,
          1.1072893911836277,
          0.7179388383891393,
          1.601331436359959,
          1.366794155868723,
          -1.552432844090767,
          0.4455982292908392,
          -0.13683462236022012,
          1.308264318670618,
          0.6205661911337795,
          -0.095514241029446,
          0.4646639787228403,
          0.9632235599142476,
          -0.9189988685989134,
          -1.5597376977797255,
          -0.3376036039186554,
          0.35807020499255465
         ],
         "xaxis": "x",
         "yaxis": "y"
        }
       ],
       "layout": {
        "barmode": "relative",
        "legend": {
         "title": {
          "text": "variable"
         },
         "tracegroupgap": 0
        },
        "margin": {
         "t": 60
        },
        "template": {
         "data": {
          "bar": [
           {
            "error_x": {
             "color": "#2a3f5f"
            },
            "error_y": {
             "color": "#2a3f5f"
            },
            "marker": {
             "line": {
              "color": "#E5ECF6",
              "width": 0.5
             },
             "pattern": {
              "fillmode": "overlay",
              "size": 10,
              "solidity": 0.2
             }
            },
            "type": "bar"
           }
          ],
          "barpolar": [
           {
            "marker": {
             "line": {
              "color": "#E5ECF6",
              "width": 0.5
             },
             "pattern": {
              "fillmode": "overlay",
              "size": 10,
              "solidity": 0.2
             }
            },
            "type": "barpolar"
           }
          ],
          "carpet": [
           {
            "aaxis": {
             "endlinecolor": "#2a3f5f",
             "gridcolor": "white",
             "linecolor": "white",
             "minorgridcolor": "white",
             "startlinecolor": "#2a3f5f"
            },
            "baxis": {
             "endlinecolor": "#2a3f5f",
             "gridcolor": "white",
             "linecolor": "white",
             "minorgridcolor": "white",
             "startlinecolor": "#2a3f5f"
            },
            "type": "carpet"
           }
          ],
          "choropleth": [
           {
            "colorbar": {
             "outlinewidth": 0,
             "ticks": ""
            },
            "type": "choropleth"
           }
          ],
          "contour": [
           {
            "colorbar": {
             "outlinewidth": 0,
             "ticks": ""
            },
            "colorscale": [
             [
              0,
              "#0d0887"
             ],
             [
              0.1111111111111111,
              "#46039f"
             ],
             [
              0.2222222222222222,
              "#7201a8"
             ],
             [
              0.3333333333333333,
              "#9c179e"
             ],
             [
              0.4444444444444444,
              "#bd3786"
             ],
             [
              0.5555555555555556,
              "#d8576b"
             ],
             [
              0.6666666666666666,
              "#ed7953"
             ],
             [
              0.7777777777777778,
              "#fb9f3a"
             ],
             [
              0.8888888888888888,
              "#fdca26"
             ],
             [
              1,
              "#f0f921"
             ]
            ],
            "type": "contour"
           }
          ],
          "contourcarpet": [
           {
            "colorbar": {
             "outlinewidth": 0,
             "ticks": ""
            },
            "type": "contourcarpet"
           }
          ],
          "heatmap": [
           {
            "colorbar": {
             "outlinewidth": 0,
             "ticks": ""
            },
            "colorscale": [
             [
              0,
              "#0d0887"
             ],
             [
              0.1111111111111111,
              "#46039f"
             ],
             [
              0.2222222222222222,
              "#7201a8"
             ],
             [
              0.3333333333333333,
              "#9c179e"
             ],
             [
              0.4444444444444444,
              "#bd3786"
             ],
             [
              0.5555555555555556,
              "#d8576b"
             ],
             [
              0.6666666666666666,
              "#ed7953"
             ],
             [
              0.7777777777777778,
              "#fb9f3a"
             ],
             [
              0.8888888888888888,
              "#fdca26"
             ],
             [
              1,
              "#f0f921"
             ]
            ],
            "type": "heatmap"
           }
          ],
          "heatmapgl": [
           {
            "colorbar": {
             "outlinewidth": 0,
             "ticks": ""
            },
            "colorscale": [
             [
              0,
              "#0d0887"
             ],
             [
              0.1111111111111111,
              "#46039f"
             ],
             [
              0.2222222222222222,
              "#7201a8"
             ],
             [
              0.3333333333333333,
              "#9c179e"
             ],
             [
              0.4444444444444444,
              "#bd3786"
             ],
             [
              0.5555555555555556,
              "#d8576b"
             ],
             [
              0.6666666666666666,
              "#ed7953"
             ],
             [
              0.7777777777777778,
              "#fb9f3a"
             ],
             [
              0.8888888888888888,
              "#fdca26"
             ],
             [
              1,
              "#f0f921"
             ]
            ],
            "type": "heatmapgl"
           }
          ],
          "histogram": [
           {
            "marker": {
             "pattern": {
              "fillmode": "overlay",
              "size": 10,
              "solidity": 0.2
             }
            },
            "type": "histogram"
           }
          ],
          "histogram2d": [
           {
            "colorbar": {
             "outlinewidth": 0,
             "ticks": ""
            },
            "colorscale": [
             [
              0,
              "#0d0887"
             ],
             [
              0.1111111111111111,
              "#46039f"
             ],
             [
              0.2222222222222222,
              "#7201a8"
             ],
             [
              0.3333333333333333,
              "#9c179e"
             ],
             [
              0.4444444444444444,
              "#bd3786"
             ],
             [
              0.5555555555555556,
              "#d8576b"
             ],
             [
              0.6666666666666666,
              "#ed7953"
             ],
             [
              0.7777777777777778,
              "#fb9f3a"
             ],
             [
              0.8888888888888888,
              "#fdca26"
             ],
             [
              1,
              "#f0f921"
             ]
            ],
            "type": "histogram2d"
           }
          ],
          "histogram2dcontour": [
           {
            "colorbar": {
             "outlinewidth": 0,
             "ticks": ""
            },
            "colorscale": [
             [
              0,
              "#0d0887"
             ],
             [
              0.1111111111111111,
              "#46039f"
             ],
             [
              0.2222222222222222,
              "#7201a8"
             ],
             [
              0.3333333333333333,
              "#9c179e"
             ],
             [
              0.4444444444444444,
              "#bd3786"
             ],
             [
              0.5555555555555556,
              "#d8576b"
             ],
             [
              0.6666666666666666,
              "#ed7953"
             ],
             [
              0.7777777777777778,
              "#fb9f3a"
             ],
             [
              0.8888888888888888,
              "#fdca26"
             ],
             [
              1,
              "#f0f921"
             ]
            ],
            "type": "histogram2dcontour"
           }
          ],
          "mesh3d": [
           {
            "colorbar": {
             "outlinewidth": 0,
             "ticks": ""
            },
            "type": "mesh3d"
           }
          ],
          "parcoords": [
           {
            "line": {
             "colorbar": {
              "outlinewidth": 0,
              "ticks": ""
             }
            },
            "type": "parcoords"
           }
          ],
          "pie": [
           {
            "automargin": true,
            "type": "pie"
           }
          ],
          "scatter": [
           {
            "fillpattern": {
             "fillmode": "overlay",
             "size": 10,
             "solidity": 0.2
            },
            "type": "scatter"
           }
          ],
          "scatter3d": [
           {
            "line": {
             "colorbar": {
              "outlinewidth": 0,
              "ticks": ""
             }
            },
            "marker": {
             "colorbar": {
              "outlinewidth": 0,
              "ticks": ""
             }
            },
            "type": "scatter3d"
           }
          ],
          "scattercarpet": [
           {
            "marker": {
             "colorbar": {
              "outlinewidth": 0,
              "ticks": ""
             }
            },
            "type": "scattercarpet"
           }
          ],
          "scattergeo": [
           {
            "marker": {
             "colorbar": {
              "outlinewidth": 0,
              "ticks": ""
             }
            },
            "type": "scattergeo"
           }
          ],
          "scattergl": [
           {
            "marker": {
             "colorbar": {
              "outlinewidth": 0,
              "ticks": ""
             }
            },
            "type": "scattergl"
           }
          ],
          "scattermapbox": [
           {
            "marker": {
             "colorbar": {
              "outlinewidth": 0,
              "ticks": ""
             }
            },
            "type": "scattermapbox"
           }
          ],
          "scatterpolar": [
           {
            "marker": {
             "colorbar": {
              "outlinewidth": 0,
              "ticks": ""
             }
            },
            "type": "scatterpolar"
           }
          ],
          "scatterpolargl": [
           {
            "marker": {
             "colorbar": {
              "outlinewidth": 0,
              "ticks": ""
             }
            },
            "type": "scatterpolargl"
           }
          ],
          "scatterternary": [
           {
            "marker": {
             "colorbar": {
              "outlinewidth": 0,
              "ticks": ""
             }
            },
            "type": "scatterternary"
           }
          ],
          "surface": [
           {
            "colorbar": {
             "outlinewidth": 0,
             "ticks": ""
            },
            "colorscale": [
             [
              0,
              "#0d0887"
             ],
             [
              0.1111111111111111,
              "#46039f"
             ],
             [
              0.2222222222222222,
              "#7201a8"
             ],
             [
              0.3333333333333333,
              "#9c179e"
             ],
             [
              0.4444444444444444,
              "#bd3786"
             ],
             [
              0.5555555555555556,
              "#d8576b"
             ],
             [
              0.6666666666666666,
              "#ed7953"
             ],
             [
              0.7777777777777778,
              "#fb9f3a"
             ],
             [
              0.8888888888888888,
              "#fdca26"
             ],
             [
              1,
              "#f0f921"
             ]
            ],
            "type": "surface"
           }
          ],
          "table": [
           {
            "cells": {
             "fill": {
              "color": "#EBF0F8"
             },
             "line": {
              "color": "white"
             }
            },
            "header": {
             "fill": {
              "color": "#C8D4E3"
             },
             "line": {
              "color": "white"
             }
            },
            "type": "table"
           }
          ]
         },
         "layout": {
          "annotationdefaults": {
           "arrowcolor": "#2a3f5f",
           "arrowhead": 0,
           "arrowwidth": 1
          },
          "autotypenumbers": "strict",
          "coloraxis": {
           "colorbar": {
            "outlinewidth": 0,
            "ticks": ""
           }
          },
          "colorscale": {
           "diverging": [
            [
             0,
             "#8e0152"
            ],
            [
             0.1,
             "#c51b7d"
            ],
            [
             0.2,
             "#de77ae"
            ],
            [
             0.3,
             "#f1b6da"
            ],
            [
             0.4,
             "#fde0ef"
            ],
            [
             0.5,
             "#f7f7f7"
            ],
            [
             0.6,
             "#e6f5d0"
            ],
            [
             0.7,
             "#b8e186"
            ],
            [
             0.8,
             "#7fbc41"
            ],
            [
             0.9,
             "#4d9221"
            ],
            [
             1,
             "#276419"
            ]
           ],
           "sequential": [
            [
             0,
             "#0d0887"
            ],
            [
             0.1111111111111111,
             "#46039f"
            ],
            [
             0.2222222222222222,
             "#7201a8"
            ],
            [
             0.3333333333333333,
             "#9c179e"
            ],
            [
             0.4444444444444444,
             "#bd3786"
            ],
            [
             0.5555555555555556,
             "#d8576b"
            ],
            [
             0.6666666666666666,
             "#ed7953"
            ],
            [
             0.7777777777777778,
             "#fb9f3a"
            ],
            [
             0.8888888888888888,
             "#fdca26"
            ],
            [
             1,
             "#f0f921"
            ]
           ],
           "sequentialminus": [
            [
             0,
             "#0d0887"
            ],
            [
             0.1111111111111111,
             "#46039f"
            ],
            [
             0.2222222222222222,
             "#7201a8"
            ],
            [
             0.3333333333333333,
             "#9c179e"
            ],
            [
             0.4444444444444444,
             "#bd3786"
            ],
            [
             0.5555555555555556,
             "#d8576b"
            ],
            [
             0.6666666666666666,
             "#ed7953"
            ],
            [
             0.7777777777777778,
             "#fb9f3a"
            ],
            [
             0.8888888888888888,
             "#fdca26"
            ],
            [
             1,
             "#f0f921"
            ]
           ]
          },
          "colorway": [
           "#636efa",
           "#EF553B",
           "#00cc96",
           "#ab63fa",
           "#FFA15A",
           "#19d3f3",
           "#FF6692",
           "#B6E880",
           "#FF97FF",
           "#FECB52"
          ],
          "font": {
           "color": "#2a3f5f"
          },
          "geo": {
           "bgcolor": "white",
           "lakecolor": "white",
           "landcolor": "#E5ECF6",
           "showlakes": true,
           "showland": true,
           "subunitcolor": "white"
          },
          "hoverlabel": {
           "align": "left"
          },
          "hovermode": "closest",
          "mapbox": {
           "style": "light"
          },
          "paper_bgcolor": "white",
          "plot_bgcolor": "#E5ECF6",
          "polar": {
           "angularaxis": {
            "gridcolor": "white",
            "linecolor": "white",
            "ticks": ""
           },
           "bgcolor": "#E5ECF6",
           "radialaxis": {
            "gridcolor": "white",
            "linecolor": "white",
            "ticks": ""
           }
          },
          "scene": {
           "xaxis": {
            "backgroundcolor": "#E5ECF6",
            "gridcolor": "white",
            "gridwidth": 2,
            "linecolor": "white",
            "showbackground": true,
            "ticks": "",
            "zerolinecolor": "white"
           },
           "yaxis": {
            "backgroundcolor": "#E5ECF6",
            "gridcolor": "white",
            "gridwidth": 2,
            "linecolor": "white",
            "showbackground": true,
            "ticks": "",
            "zerolinecolor": "white"
           },
           "zaxis": {
            "backgroundcolor": "#E5ECF6",
            "gridcolor": "white",
            "gridwidth": 2,
            "linecolor": "white",
            "showbackground": true,
            "ticks": "",
            "zerolinecolor": "white"
           }
          },
          "shapedefaults": {
           "line": {
            "color": "#2a3f5f"
           }
          },
          "ternary": {
           "aaxis": {
            "gridcolor": "white",
            "linecolor": "white",
            "ticks": ""
           },
           "baxis": {
            "gridcolor": "white",
            "linecolor": "white",
            "ticks": ""
           },
           "bgcolor": "#E5ECF6",
           "caxis": {
            "gridcolor": "white",
            "linecolor": "white",
            "ticks": ""
           }
          },
          "title": {
           "x": 0.05
          },
          "xaxis": {
           "automargin": true,
           "gridcolor": "white",
           "linecolor": "white",
           "ticks": "",
           "title": {
            "standoff": 15
           },
           "zerolinecolor": "white",
           "zerolinewidth": 2
          },
          "yaxis": {
           "automargin": true,
           "gridcolor": "white",
           "linecolor": "white",
           "ticks": "",
           "title": {
            "standoff": 15
           },
           "zerolinecolor": "white",
           "zerolinewidth": 2
          }
         }
        },
        "xaxis": {
         "anchor": "y",
         "domain": [
          0,
          1
         ],
         "title": {
          "text": "value"
         }
        },
        "yaxis": {
         "anchor": "x",
         "domain": [
          0,
          1
         ],
         "title": {
          "text": "probability density"
         }
        }
       }
      }
     },
     "metadata": {},
     "output_type": "display_data"
    }
   ],
   "source": [
    "import plotly.express as px\n",
    "\n",
    "fig_hist_density_3 = px.histogram(df_hist['edades'], histnorm='probability density')\n",
    "\n",
    "fig_hist_density_3.show()"
   ]
  },
  {
   "cell_type": "markdown",
   "metadata": {},
   "source": [
    "Hasta donde llego mi investigación, no pude encontrar la manera de graficar la curva de densidad."
   ]
  },
  {
   "cell_type": "markdown",
   "metadata": {},
   "source": [
    "## Boxplots"
   ]
  },
  {
   "cell_type": "markdown",
   "metadata": {},
   "source": [
    "Es especialmente útil para identificar patrones, dispersión y valores atípicos en un conjunto de datos.\n",
    "\n",
    "El boxplot permite identificar valores atípicios se divide de la siguiente manera:\n",
    "\n",
    "- Primer cuartil (Q1) - Valor po debajo del 25% de los datos\n",
    "- Segundo cuartil (Q2) - Valor del 50% de los datos (mediana)\n",
    "- Tercer cuartil (Q3) - Representa el 75 de la distribución de los datos\n",
    "- Intervalo Intercuartilico (IQR) - Es la distancia entre Q1 y Q3 (Q3-Q1)\n",
    "- Bigotes - Muestran el valor mínimo y el valor máximo de los datos, se extienden hasta los valores mínimo y máximo dentro de 1.5 veces el IQR desde Q1 y Q3.\n",
    "- Valores atípicos - Puntos individuales que se encuentran más allá de los bigotes y pueden indicar datos inusuales o extremos\n",
    "\n"
   ]
  },
  {
   "cell_type": "markdown",
   "metadata": {},
   "source": [
    "### Version simplificada"
   ]
  },
  {
   "cell_type": "code",
   "execution_count": 131,
   "metadata": {},
   "outputs": [],
   "source": [
    "import numpy as np\n",
    "import pandas as pd\n",
    "import matplotlib.pyplot as plt\n",
    "\n",
    "edades = np.random.randint(15,36,50).tolist()"
   ]
  },
  {
   "cell_type": "code",
   "execution_count": 132,
   "metadata": {},
   "outputs": [
    {
     "data": {
      "image/png": "[encoded data removed]",
      "text/plain": [
       "<Figure size 640x480 with 1 Axes>"
      ]
     },
     "metadata": {},
     "output_type": "display_data"
    }
   ],
   "source": [
    "plt.boxplot(edades)\n",
    "plt.show()"
   ]
  },
  {
   "cell_type": "markdown",
   "metadata": {},
   "source": [
    "### Version con Dataframes"
   ]
  },
  {
   "cell_type": "code",
   "execution_count": 145,
   "metadata": {},
   "outputs": [
    {
     "data": {
      "image/png": "[encoded data removed]",
      "text/plain": [
       "<Figure size 640x480 with 1 Axes>"
      ]
     },
     "metadata": {},
     "output_type": "display_data"
    }
   ],
   "source": [
    "import numpy as np\n",
    "import pandas as pd\n",
    "\n",
    "x= np.random.randint(0,50,[2,50])\n",
    "years = np.random.randint(2011,2021,50)\n",
    "df_bars = pd.DataFrame(data={ \"years\": years, \"Mex_medals\":x[0], \"Japan_medals\":x[1]})\n",
    "df_bars = df_bars.groupby(\"years\")[[\"Mex_medals\",\"Japan_medals\"]].sum()\n",
    "plt.boxplot(df_bars)\n",
    "plt.show()"
   ]
  },
  {
   "cell_type": "code",
   "execution_count": 184,
   "metadata": {},
   "outputs": [
    {
     "data": {
      "image/png": "[encoded data removed]",
      "text/plain": [
       "<Figure size 640x480 with 1 Axes>"
      ]
     },
     "metadata": {},
     "output_type": "display_data"
    }
   ],
   "source": [
    "import numpy as np\n",
    "import pandas as pd\n",
    "import matplotlib.pyplot as plt\n",
    "\n",
    "\n",
    "x= np.random.randint(180,500,100)\n",
    "x= np.append(x,np.random.randint(700,800,10))\n",
    "x= np.append(x,np.random.randint(1,3,2))\n",
    "boxplot = plt.boxplot(x)\n",
    "outliers = list(boxplot['fliers'][0].get_data()[1])\n",
    "\n",
    "plt.show()\n"
   ]
  },
  {
   "cell_type": "code",
   "execution_count": 185,
   "metadata": {},
   "outputs": [
    {
     "data": {
      "text/plain": [
       "[1, 2, 750, 772, 704, 713, 791, 707, 702, 764, 727, 777]"
      ]
     },
     "execution_count": 185,
     "metadata": {},
     "output_type": "execute_result"
    }
   ],
   "source": [
    "outliers"
   ]
  },
  {
   "cell_type": "code",
   "execution_count": 172,
   "metadata": {},
   "outputs": [
    {
     "name": "stdout",
     "output_type": "stream",
     "text": [
      "Percentiles\n",
      "IQR(Q3-Q1): 157.75\n",
      "Rango inferior | L = Q1-(k*IQR) 46.88\n",
      "Rango superior | R = Q3+(k*IQR) 677.88\n"
     ]
    }
   ],
   "source": [
    "print('Percentiles')\n",
    "Q1=np.percentile(x,25)\n",
    "Q2=np.percentile(x,50)\n",
    "Q3=np.percentile(x,75)\n",
    "Q4=np.percentile(x,100)\n",
    "IQR = Q3-Q1\n",
    "\n",
    "print(f'IQR(Q3-Q1): {IQR}')\n",
    "print(f'Rango inferior | L = Q1-(k*IQR) {Q1-1.5*(IQR):.2f}')\n",
    "print(f'Rango superior | R = Q3+(k*IQR) {Q3+1.5*(IQR):.2f}')"
   ]
  },
  {
   "cell_type": "code",
   "execution_count": 173,
   "metadata": {},
   "outputs": [
    {
     "name": "stdout",
     "output_type": "stream",
     "text": [
      "[442 338 259 420 403 411 486 390 208 494 355 401 337 306 320 184 496 367\n",
      " 303 249 335 357 402 198 197 195 358 398 383 407 495 336 388 420 239 410\n",
      " 477 321 486 240 374 262 361 345 393 458 420 370 302 218 184 221 384 274\n",
      " 427 309 363 244 262 379 393 477 245 231 391 220 272 457 389 364 493 282\n",
      " 443 296 431 408 396 368 390 284 456 430 441 393 417 389 376 277 449 221\n",
      " 393 240 246 363 450 458 186 484 437 478 798 709 709 792 756 721 720 710\n",
      " 765 775   1   1]\n"
     ]
    }
   ],
   "source": [
    "print(x)\n",
    "y = x.copy"
   ]
  },
  {
   "cell_type": "markdown",
   "metadata": {},
   "source": [
    "## Scatterplot"
   ]
  },
  {
   "cell_type": "code",
   "execution_count": 149,
   "metadata": {},
   "outputs": [],
   "source": [
    "import numpy as np\n",
    "import matplotlib.pyplot as plt\n",
    "import pandas as pd\n",
    "\n",
    "a, b = np.random.randint(1,11,[2,50])"
   ]
  },
  {
   "cell_type": "code",
   "execution_count": 157,
   "metadata": {},
   "outputs": [
    {
     "data": {
      "image/png": "[encoded data removed]",
      "text/plain": [
       "<Figure size 640x480 with 1 Axes>"
      ]
     },
     "metadata": {},
     "output_type": "display_data"
    }
   ],
   "source": [
    "plt.scatter(x=a, y=b, color=\"red\")\n",
    "plt.show()"
   ]
  },
  {
   "cell_type": "markdown",
   "metadata": {},
   "source": [
    "## Subplots"
   ]
  },
  {
   "cell_type": "code",
   "execution_count": 3,
   "metadata": {},
   "outputs": [],
   "source": [
    "import matplotlib.pyplot as plt\n",
    "import numpy as np\n",
    "import pandas as pd\n",
    "\n",
    "edades = list(range(1,51))\n",
    "valores= np.random.randint(12,30,[2,50])\n",
    "\n",
    "subplot_df = pd.DataFrame(data= {\"edades\": edades , \"conteo_mex\": valores[0], \"conteo_usa\": valores[1]})\n",
    "# fig, ax = plt.subplot(1,2)"
   ]
  }
 ],
 "metadata": {
  "kernelspec": {
   "display_name": "Python 3",
   "language": "python",
   "name": "python3"
  },
  "language_info": {
   "codemirror_mode": {
    "name": "ipython",
    "version": 3
   },
   "file_extension": ".py",
   "mimetype": "text/x-python",
   "name": "python",
   "nbconvert_exporter": "python",
   "pygments_lexer": "ipython3",
   "version": "3.12.4"
  }
 },
 "nbformat": 4,
 "nbformat_minor": 2
}
