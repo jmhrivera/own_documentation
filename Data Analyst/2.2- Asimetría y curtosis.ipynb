{
 "cells": [
  {
   "cell_type": "markdown",
   "metadata": {},
   "source": [
    "### Asimetría\n",
    "\n",
    "En estadística, la asimetría (o sesgo) es una medida de la simetría de la distribución de los datos. Específicamente, la asimetría cuantifica el grado en el que una distribución se desvía de ser simétrica alrededor de su media. Existen diferentes tipos de asimetría, y pueden ser positivas, negativas o nulas (simétricas).\n",
    "\n",
    "#### Tipos de Asimetría\n",
    "- Asimetría Positiva (sesgo a la derecha):\n",
    "Una distribución tiene asimetría positiva si la cola derecha (valores altos) es más larga o está más extendida que la cola izquierda (valores bajos).\n",
    "La mayoría de los datos se concentran en la parte izquierda de la distribución.\n",
    "Ejemplo: Distribución de ingresos en muchas poblaciones.\n",
    "\n",
    "- Asimetría Negativa (sesgo a la izquierda):\n",
    "Una distribución tiene asimetría negativa si la cola izquierda (valores bajos) es más larga o está más extendida que la cola derecha (valores altos).\n",
    "La mayoría de los datos se concentran en la parte derecha de la distribución.\n",
    "Ejemplo: Notas en un examen donde la mayoría de los estudiantes obtiene calificaciones altas.\n",
    "\n",
    "- Simétrica:\n",
    "Una distribución es simétrica si sus dos colas son aproximadamente iguales y los datos se distribuyen de manera uniforme alrededor de la media.\n",
    "Ejemplo: Distribución normal (campana de Gauss).\n",
    "\n",
    "\n",
    "La asimetría se puede calcular utilizando diferentes fórmulas. Una fórmula común es la `asimetría de Pearson:`\n",
    "\n",
    "$$ \\text{Asimetria}= \\frac {\\text{(Media - Mediana)}^3}{\\text{Desviación Std}}\n",
    "$$\n",
    "\n",
    "Otra fórmula más técnica es el coeficiente de asimetría de Fisher:\n",
    "\n",
    "$$ \\text{Coeficiente de Asimetría} = \\frac{E(X-\\mu)^3}{\\sigma^3}\n",
    "​$$\n",
    "\n",
    "\n",
    "Ejemplo en python\n",
    "\n"
   ]
  },
  {
   "cell_type": "code",
   "execution_count": 8,
   "metadata": {},
   "outputs": [
    {
     "name": "stdout",
     "output_type": "stream",
     "text": [
      "asimetria es igual a: -0.07\n"
     ]
    }
   ],
   "source": [
    "import pandas as pd\n",
    "import numpy as np\n",
    "import scipy.stats as stats\n",
    "\n",
    "datos = [50,65,70,60,60,40,45,58,55,39,56,40]\n",
    "serie = pd.Series(datos)\n",
    "\n",
    "asimetria = stats.skew(serie)\n",
    "serie.describe()\n",
    "print(f'asimetria es igual a: {asimetria:.2f}')\n"
   ]
  },
  {
   "cell_type": "markdown",
   "metadata": {},
   "source": [
    "Esto quiere decir que tenemos una asimetría negativa por lo que nuestros valores estan en su mayoría a la derecha de la media"
   ]
  },
  {
   "cell_type": "markdown",
   "metadata": {
    "vscode": {
     "languageId": "plaintext"
    }
   },
   "source": [
    "### Curtosis\n",
    "\n",
    "La curtosis es otra medida estadística que describe la forma de una distribución de datos. Mientras que la asimetría mide la simetría de la distribución, la curtosis mide la \"pesadez\" de las colas de la distribución en comparación con una distribución normal.\n",
    "\n",
    "#### Tipos de Curtosis\n",
    "\n",
    "Existen tres tipos principales de curtosis:\n",
    "\n",
    "- Leptocúrtica (Leptokurtic):\n",
    "Una distribución con colas más pesadas que una distribución normal. Tiene una curtosis positiva (mayor que 0).\n",
    "Ejemplo: Distribuciones con picos altos y colas gruesas, como la distribución t de Student con pocos grados de libertad.\n",
    "\n",
    "- Mesocúrtica (Mesokurtic):\n",
    "Una distribución con curtosis igual a la de una distribución normal. Tiene una curtosis de 0 (cuando se utiliza la curtosis excedente).Ejemplo: La distribución normal estándar.\n",
    "\n",
    "- Platicúrtica (Platykurtic):\n",
    "Una distribución con colas más ligeras que una distribución normal. Tiene una curtosis negativa (menor que 0).\n",
    "Ejemplo: Distribuciones con picos bajos y colas delgadas, como una distribución uniforme.\n",
    "\n",
    "#### Fórmula de la Curtosis\n",
    "La curtosis se puede calcular utilizando la siguiente fórmula:\n",
    "\n",
    "$$ \\text{curtosis} = \\frac{E[(X-\\mu)^4]}{\\sigma^4}-3$$\n",
    "\n",
    "Donde:\n",
    "\n",
    "- E = Valor esperado\n",
    "- X = Variable aleatoria\n",
    "- $\\mu$ = Media de la distribución\n",
    "- $\\sigma$ = Desviación Standard\n",
    "\n",
    "Ejemplo en python"
   ]
  },
  {
   "cell_type": "code",
   "execution_count": 11,
   "metadata": {},
   "outputs": [
    {
     "name": "stdout",
     "output_type": "stream",
     "text": [
      "asimetria es igual a: -1.18\n"
     ]
    }
   ],
   "source": [
    "import pandas as pd\n",
    "import numpy as np\n",
    "import scipy.stats as stats\n",
    "\n",
    "datos = [50,65,70,60,60,40,45,58,55,39,56,40]\n",
    "serie = pd.Series(datos)\n",
    "\n",
    "asimetria = stats.kurtosis(serie, fisher=True)\n",
    "serie.describe()\n",
    "print(f'asimetria es igual a: {asimetria:.2f}')"
   ]
  },
  {
   "cell_type": "markdown",
   "metadata": {},
   "source": [
    "En este caso obtenemos una distribución platocúrtica ya que nuestro valor final es menor a 0"
   ]
  }
 ],
 "metadata": {
  "kernelspec": {
   "display_name": "Python 3",
   "language": "python",
   "name": "python3"
  },
  "language_info": {
   "codemirror_mode": {
    "name": "ipython",
    "version": 3
   },
   "file_extension": ".py",
   "mimetype": "text/x-python",
   "name": "python",
   "nbconvert_exporter": "python",
   "pygments_lexer": "ipython3",
   "version": "3.12.3"
  }
 },
 "nbformat": 4,
 "nbformat_minor": 2
}
