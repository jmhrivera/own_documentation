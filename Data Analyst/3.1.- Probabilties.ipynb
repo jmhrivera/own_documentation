{
 "cells": [
  {
   "cell_type": "markdown",
   "metadata": {},
   "source": [
    "## 1.- Probabilidades\n",
    "\n",
    "Probabilidad de un evento \n",
    "$$\n",
    "P(a) = \\frac{\\text{Número de casos que satisfacen el evento}}{\\text{Número total de casos posibles}}\n",
    "$$\n"
   ]
  },
  {
   "cell_type": "markdown",
   "metadata": {},
   "source": [
    "## Espacios muestrales\n",
    "El conjunto de todos los resultados posibles de un experimento se denomina espacio muestral, normalmente denotado con S por consiguiente la formula es:\n",
    "$$\n",
    "S= \\text{Espacio muestral}\n",
    "$$\n",
    "\n",
    "$$\n",
    "P(a) = \\frac{\\text{Número de casos que satisfacen el evento}}{\\text{len(S)}}\n",
    "$$"
   ]
  },
  {
   "cell_type": "markdown",
   "metadata": {},
   "source": [
    "## 2.- Eventos\n",
    "#### Eventos mutuamente excluyente\n",
    "Evento mutuamente excluyente = Eventos que no pueden ocurrir de manera simultanea \n",
    "$$P(\\text{A and B})= 0$$"
   ]
  },
  {
   "cell_type": "markdown",
   "metadata": {},
   "source": [
    "#### Eventos independientes\n",
    "\n",
    "Los eventos se denominan independientes si la ocurrencia de uno no afecta la probabilidad del otro.\n",
    "\n",
    "\n",
    "$$P(\\text{A and B})= P(A)*P(B)$$\n",
    "\n",
    "- Evento A = John paga $10 extra por una garantía de 1 año al finalizar la compra \n",
    "- Evento B = Sophie hace clic en ese enlace de cebo de clics"
   ]
  },
  {
   "cell_type": "markdown",
   "metadata": {},
   "source": [
    "#### Eventos dependientes\n",
    "\n",
    "Los eventos se denominan dependientes si la ocurrencia de uno afecta la probabilidad del otro.\n",
    "$$P(\\text{A and B})=P(A)*P(B∣A)$$\n",
    "\n",
    "- Evento A = Llueve\n",
    "- Evento B = Usas un chubasquero para ir a trabajar,"
   ]
  },
  {
   "cell_type": "markdown",
   "metadata": {},
   "source": [
    "## 3.-  Factorial de n\n",
    "\n",
    "El simbolo n! conocido como 'n factorial', representa el producto de todos los números enteros positivos desde 1 hasta n. Y se representa de la siguiente forma:\n",
    "\n",
    "$$n!=n⋅(n−1)⋅(n−2)⋅…⋅2⋅1$$\n",
    "\n",
    "Si buscaramos el factorial de 3, la respuesta sería 3! = 6\n",
    "\n",
    "$$n!= (3)(2)(1)  = 6$$\n"
   ]
  },
  {
   "cell_type": "markdown",
   "metadata": {},
   "source": [
    "En python podemos llamar el factorial mediante el modulo factorial de la librería math"
   ]
  },
  {
   "cell_type": "code",
   "execution_count": 3,
   "metadata": {},
   "outputs": [
    {
     "name": "stdout",
     "output_type": "stream",
     "text": [
      "El resultado del factorial de 3 es 6\n"
     ]
    }
   ],
   "source": [
    "from math import factorial\n",
    "\n",
    "print('El resultado del factorial de 3 es' ,factorial(3))"
   ]
  },
  {
   "cell_type": "markdown",
   "metadata": {},
   "source": [
    "## 4.- Combinaciones\n",
    "Una vez conocido el n factorial es posible buscar combinaciones en un conjunto de datos, la formula para calcular el número de combinaciones es la siguiente:\n",
    "\n",
    "$$C\\binom{k}{n} = \\frac{n!}{\\text{k!(n-k)!}}$$\n",
    "\n",
    "\n",
    "- n = longitud del conjunto de datos\n",
    "- k = combinaciones\n",
    "\n",
    "Por ejemplo, si una cafetería vende 10 tipos de helado y quieres comprar tres diferentes, tienes:"
   ]
  },
  {
   "cell_type": "code",
   "execution_count": 5,
   "metadata": {},
   "outputs": [
    {
     "name": "stdout",
     "output_type": "stream",
     "text": [
      "Se tienen 120 combinaciones\n"
     ]
    }
   ],
   "source": [
    "import math\n",
    "n = 10 #tipos de helado\n",
    "k = 3 # tres tipos diferentes\n",
    "combinaciones= math.comb(n,k)\n",
    "print(f'Se tienen {combinaciones} combinaciones')"
   ]
  },
  {
   "cell_type": "code",
   "execution_count": 25,
   "metadata": {},
   "outputs": [
    {
     "data": {
      "text/plain": [
       "1000"
      ]
     },
     "execution_count": 25,
     "metadata": {},
     "output_type": "execute_result"
    }
   ],
   "source": []
  },
  {
   "cell_type": "markdown",
   "metadata": {},
   "source": [
    "## 3.- Variaciones o Permutaciones Parciales\n",
    "Una permutación reordenamiento de elementos:"
   ]
  },
  {
   "cell_type": "markdown",
   "metadata": {},
   "source": [
    "#### Formula de Permutaciones"
   ]
  },
  {
   "cell_type": "markdown",
   "metadata": {},
   "source": [
    "$$P\\binom{n}{k} = \\frac{n!}{(n-k)!}  $$ \n",
    "- Formula de permutaciones (donde interesa la posición de los elementos en el grupo formado)\n",
    "- n = tamaño del conjunto\n",
    "- k = numero de elemenos para formar la permutación\n",
    "\n"
   ]
  },
  {
   "cell_type": "code",
   "execution_count": 6,
   "metadata": {},
   "outputs": [
    {
     "name": "stdout",
     "output_type": "stream",
     "text": [
      "Se tienen 720 combinaciones\n"
     ]
    }
   ],
   "source": [
    "import math\n",
    "from math import factorial as f\n",
    "\n",
    "n=10 # Numero de entrevistados\n",
    "k=3  # Permutaciones posibles de tercias de entrevistados\n",
    "\n",
    "permutaciones = math.perm(n,k)\n",
    "print(f'Se tienen {permutaciones} combinaciones')"
   ]
  },
  {
   "cell_type": "markdown",
   "metadata": {},
   "source": [
    "* NOTA = Las combinaciones siempre seran menores a las permutaciones ya que las combinaciones no consideran la posición en la que se deben encontrar"
   ]
  },
  {
   "cell_type": "markdown",
   "metadata": {},
   "source": [
    "# Permutaciones con repeticion permitida\n",
    "\n",
    "Son aquellas que al indicar los espacios pueden repetir de nuevo cualquiera de sus elementos, \n",
    "\n",
    "### Ejemplo 1, un código de seguridad. \n",
    "\n",
    "Se tienen los elementos 0 al 9 pero tu optas por colocar '0000', es decir repetiste el primer elemento 4 veces.\n",
    "\n",
    "Para estos casos se aplica el $n^k$, en este ejemplo sería $4^{10}$ (4 espacios con 10 posibles numeros con repetición permitida).\n",
    "\n",
    "### Ejemplo 2: \n",
    "Las matriculas de españa estan formadas por 4 números seguidos de tres letras (excluidas las vocales ñ y q). Cuantas matriculas pueden formarse?"
   ]
  },
  {
   "cell_type": "code",
   "execution_count": 23,
   "metadata": {},
   "outputs": [
    {
     "name": "stdout",
     "output_type": "stream",
     "text": [
      "80000000\n"
     ]
    }
   ],
   "source": [
    "numeros = 10**4\n",
    "vocales = 20**3\n",
    "\n",
    "matriculas = numeros * vocales\n",
    "print(matriculas)"
   ]
  },
  {
   "cell_type": "markdown",
   "metadata": {},
   "source": [
    "Ejemplo 3:\n",
    "\n",
    "De 20 bolas, ¿Cuál es la probabilidad de que el numero seleccionado sea divisible por 2 y por 3?"
   ]
  },
  {
   "cell_type": "code",
   "execution_count": 18,
   "metadata": {},
   "outputs": [
    {
     "name": "stdout",
     "output_type": "stream",
     "text": [
      "[6, 12, 18]\n"
     ]
    }
   ],
   "source": [
    "import math\n",
    "n=20\n",
    "k=1\n",
    "\n",
    "A=[]\n",
    "B=[] \n",
    "R=[]\n",
    "\n",
    "for i in range(1,21):\n",
    "    equation= i%2\n",
    "    equation2= i%3\n",
    "\n",
    "    if equation <= 0:\n",
    "        A.append(i)\n",
    "\n",
    "    if equation2 <= 0:\n",
    "        B.append(i)\n",
    "\n",
    "    if equation==0 and equation2==0:\n",
    "        R.append(i)\n",
    "\n",
    "\n",
    "print(R)"
   ]
  },
  {
   "cell_type": "code",
   "execution_count": 23,
   "metadata": {},
   "outputs": [
    {
     "name": "stdout",
     "output_type": "stream",
     "text": [
      "0.5\n",
      "0.3\n"
     ]
    }
   ],
   "source": [
    "PA = len(A)/n\n",
    "PB = len(B)/n\n",
    "PR = len(R)/n\n",
    "\n",
    "print(PA)\n",
    "print(PB)"
   ]
  },
  {
   "cell_type": "code",
   "execution_count": 26,
   "metadata": {},
   "outputs": [
    {
     "data": {
      "text/plain": [
       "0.65"
      ]
     },
     "execution_count": 26,
     "metadata": {},
     "output_type": "execute_result"
    }
   ],
   "source": [
    "PA+PB-PR"
   ]
  }
 ],
 "metadata": {
  "kernelspec": {
   "display_name": "Python 3",
   "language": "python",
   "name": "python3"
  },
  "language_info": {
   "codemirror_mode": {
    "name": "ipython",
    "version": 3
   },
   "file_extension": ".py",
   "mimetype": "text/x-python",
   "name": "python",
   "nbconvert_exporter": "python",
   "pygments_lexer": "ipython3",
   "version": "3.12.3"
  }
 },
 "nbformat": 4,
 "nbformat_minor": 2
}
