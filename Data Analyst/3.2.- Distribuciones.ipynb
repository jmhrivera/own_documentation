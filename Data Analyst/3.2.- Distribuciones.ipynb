{
 "cells": [
  {
   "cell_type": "markdown",
   "metadata": {},
   "source": [
    "## Distribución binomial"
   ]
  },
  {
   "cell_type": "markdown",
   "metadata": {},
   "source": [
    "La distribución binomial es una distribución de propabilidad discreta que describe el número de resultados positivos en un numero fijo de ensayos.\n",
    "Ejemplo. (Se aplica un examen, Aprobado, Reprobado). En otras palabras mide el EXITO o FRACASO de una prueba"
   ]
  },
  {
   "cell_type": "markdown",
   "metadata": {},
   "source": [
    "#### Experimento Binomial\n",
    "\n",
    "Si realizamos un experimento con dos resultados posibles un número de veces estaremos ejecutando un **experimento binomial**, es muy comun usar las combinaciones aprendidas en el capitulo anterior dentro de este tipo de experimentos binomiales\n",
    "\n",
    "Para poder ejecutar una formula de distribución binomial tenmos que cumplir las siguientes condiciones:\n",
    "- Se lleva a cabo un número fijo y finito de pruebas (n).\n",
    "- Cada prueba es un experimento binomial simple que tiene exactamente dos resultados.\n",
    "- Las pruebas son independientes entre sí.\n",
    "- La probabilidad de éxito (p) es la misma para todos los n intentos.\n",
    "\n",
    "\n",
    "La formula de la distribución binomial es la siguiente."
   ]
  },
  {
   "cell_type": "markdown",
   "metadata": {},
   "source": [
    "$$P= C \\binom{n}{k} \\cdot p^{(k)}  \\cdot q^{(n-k)}$$"
   ]
  },
  {
   "cell_type": "markdown",
   "metadata": {},
   "source": [
    "En donde \n",
    "- P = probabilidad\n",
    "- c= Combinaciones\n",
    "- n= Pruebas\n",
    "- k= Exitos\n",
    "- p= probabilitdad de exito\n",
    "- q= probabilidad de fracaso"
   ]
  },
  {
   "cell_type": "markdown",
   "metadata": {},
   "source": [
    "Ahora plasmemos un ejemplo en python. \n",
    "\n",
    "Los portátiles de Pineapple son caros, pero siguen siendo populares entre los geeks de la informática: el **60%** de los clientes están dispuestos a comprarse una computadora portátil de esta marca si acuden a la tienda. Los portátiles de Banana son más baratos, pero no tan populares: solo el **20%** de los visitantes de la tienda están dispuestos a comprarlos.\n",
    "\n",
    "Supongamos que la tienda solo tiene a la venta equipos de Pineapple. ¿Cuál es la probabilidad de que **50 de cada 80 clientes** realicen una compra en un día?"
   ]
  },
  {
   "cell_type": "markdown",
   "metadata": {},
   "source": [
    "Metodo 1"
   ]
  },
  {
   "cell_type": "code",
   "execution_count": 10,
   "metadata": {},
   "outputs": [
    {
     "name": "stdout",
     "output_type": "stream",
     "text": [
      "La probabilidad de es de 8.27%\n"
     ]
    }
   ],
   "source": [
    "import math \n",
    "\n",
    "n = 80\n",
    "k = 50 \n",
    "p = .60\n",
    "q = 1-p\n",
    "combinaciones = math.comb(n,k) \n",
    "probability = combinaciones * p**k * q**(n-k)\n",
    "print(f'La probabilidad de es de {round(probability*100,2)}%')\n"
   ]
  },
  {
   "cell_type": "markdown",
   "metadata": {},
   "source": [
    "Metodo 2"
   ]
  },
  {
   "cell_type": "code",
   "execution_count": 21,
   "metadata": {},
   "outputs": [
    {
     "name": "stdout",
     "output_type": "stream",
     "text": [
      "La probabilidad de es de 8.27%\n"
     ]
    }
   ],
   "source": [
    "from scipy.stats import binom\n",
    "\n",
    "n = 80 # Numero de clientes (ensayos)\n",
    "k = 50 # Numero objetivo (exitos)\n",
    "p = 0.60 # Probabilidad \n",
    "q = 1-p #Automatically calculated, no necessary\n",
    "probability = binom.pmf(k,n,p)\n",
    "print(f'La probabilidad de es de {round(probability*100,2)}%')"
   ]
  },
  {
   "cell_type": "markdown",
   "metadata": {},
   "source": [
    "Como podras observar, pueden usarse dos librerías para obtener el mismo resultado. Sin embarjo la librería scipy ya tiene integrado todo el proceso"
   ]
  },
  {
   "cell_type": "markdown",
   "metadata": {},
   "source": [
    "Ejercicio 2\n",
    "\n",
    "Sea un examen de verdadero o falso de 10 preguntas ¿Cuál es la probablidad de que acierte tres preguntas o menos?\n"
   ]
  },
  {
   "cell_type": "code",
   "execution_count": null,
   "metadata": {},
   "outputs": [],
   "source": [
    "from scipy.stats import binom\n",
    "n=10\n",
    "k=3\n",
    "p=0.5\n",
    "q= n-k\n",
    "\n",
    "binom.cdf(k,n,p)"
   ]
  },
  {
   "cell_type": "markdown",
   "metadata": {},
   "source": [
    "## Distribución normal"
   ]
  },
  {
   "cell_type": "markdown",
   "metadata": {},
   "source": [
    "Distribución Normal o también conocida como campana de Gauss, es una distribución que se manifiesta en diversas situaciones. La Moda, Mediana y Media son la misma al tener una distribución normal cuando esta estandarizada\n",
    "\n",
    "Su formula es la siguiente: $$X \\sim (μ, σ^2)$$"
   ]
  },
  {
   "cell_type": "markdown",
   "metadata": {},
   "source": [
    "- X = variable aleatoria\n",
    "- ~ = 'Sigue una distribución'\n",
    "- μ = La media\n",
    "- σ<sup>2</sup> = La desviación estandar"
   ]
  },
  {
   "cell_type": "markdown",
   "metadata": {},
   "source": [
    "Python cuanta con una librería llamada SciPy que permite procesar rapidamente esta formula a través de la funcion stats.norm() que genera una distribución con los parametros media y desviacion standard"
   ]
  },
  {
   "cell_type": "markdown",
   "metadata": {},
   "source": [
    "Tiempo de plasmarlo en python. \n",
    "\n",
    "Supongamos que el número de horas que los clientes pasan en el gimnasio cada semana sigue una distribución normal con una media de 4 y una desviación típica de 1. ¿Qué porcentaje de clientes pasa más de 6 horas a la semana en el gimnasio?\n"
   ]
  },
  {
   "cell_type": "code",
   "execution_count": 11,
   "metadata": {},
   "outputs": [
    {
     "name": "stdout",
     "output_type": "stream",
     "text": [
      "<scipy.stats._distn_infrastructure.rv_continuous_frozen object at 0x000002321F934830>\n"
     ]
    }
   ],
   "source": [
    "from scipy import stats\n",
    "mu = 4 #horas\n",
    "sigma = 1 # Sigma / Desviacion estandard\n",
    "\n",
    "normal = stats.norm(mu,sigma)\n",
    "print(normal)"
   ]
  },
  {
   "cell_type": "markdown",
   "metadata": {},
   "source": [
    "El resultado es correcto, pero pertenece a un objeto scipy que tendremos que trabajar con otro metodo, en estos casos tenemos dos opciones:\n",
    "\n",
    "- norm.cdf() - Cumulative distribution function #Devuelve la probabilidad de que una variable sea menor o igual que un valor determinado  - En pocas palabras, **porcentajes**. <br>\n",
    "Ejemplo (¿Cuál es la probabilidad de que un estudiante pueda aprender una nueva profesión por menos de 4 000 dólares?)\n",
    "\n",
    "- norm.ppf() - Percentage point function #Devuelve el valor de la variable aleatoria que corresponde a una determinada probabilidad - En pocas palabras, **enteros** <br>\n",
    " (¿Cuál es el coste máximo de la formación para el 10% de los estudiantes que gastaron menos dinero en sus estudios?) \n",
    "\n",
    "\n",
    "Por lo anterior procederemos con norm.cdf"
   ]
  },
  {
   "cell_type": "code",
   "execution_count": 37,
   "metadata": {},
   "outputs": [
    {
     "name": "stdout",
     "output_type": "stream",
     "text": [
      "2.275013194817921\n"
     ]
    }
   ],
   "source": [
    "'''\n",
    "Supongamos que el número de horas que los clientes pasan en el gimnasio cada semana sigue una distribución normal \n",
    "con una media de 4 y una desviación típica de 1. ¿Qué porcentaje de clientes pasa más de 6 horas a la semana en el gimnasio?\n",
    "'''\n",
    "from scipy import stats as st\n",
    "mu = 4 #horas\n",
    "sigma = 1 # Sigma / Desviacion estandard\n",
    "p = 6\n",
    "\n",
    "normal = 1- stats.norm(mu,sigma).cdf(p)\n",
    "\n",
    "print(normal*100)"
   ]
  },
  {
   "cell_type": "code",
   "execution_count": 1,
   "metadata": {},
   "outputs": [
    {
     "name": "stdout",
     "output_type": "stream",
     "text": [
      "Porcentaje de clientes que pasa más de 6 horas: 2.28%\n",
      "Porcentaje de clientes que pasa menos de 6 horas: 97.72%\n",
      "Porcentaje de clientes que pasa exactamente 6 horas: 0.01%\n"
     ]
    }
   ],
   "source": [
    "from scipy import stats\n",
    "\n",
    "mu = 4  # Media (horas)\n",
    "sigma = 1  # Desviación estándar\n",
    "\n",
    "# Definir el límite de horas para cada caso\n",
    "horas_limite = 6\n",
    "\n",
    "# Calcular la probabilidad acumulada hasta el valor del límite de horas\n",
    "prob_limite_horas = stats.norm.cdf(horas_limite, mu, sigma)\n",
    "\n",
    "# La probabilidad de que los clientes pasen más de 6 horas es el complemento de la probabilidad de que pasen hasta 6 horas\n",
    "prob_mas_de_6_horas = 1 - prob_limite_horas\n",
    "\n",
    "# La probabilidad de que los clientes pasen menos de 6 horas es simplemente la probabilidad acumulada hasta 6 horas\n",
    "prob_menos_de_6_horas = prob_limite_horas\n",
    "\n",
    "# La probabilidad de que los clientes pasen exactamente 6 horas es la diferencia entre las probabilidades acumuladas hasta 6 horas y hasta un poco menos de 6 horas\n",
    "prob_exactamente_6_horas = prob_limite_horas - stats.norm.cdf(horas_limite - 0.001, mu, sigma)\n",
    "\n",
    "# Convertir las probabilidades en porcentajes\n",
    "porcentaje_mas_de_6_horas = prob_mas_de_6_horas * 100\n",
    "porcentaje_menos_de_6_horas = prob_menos_de_6_horas * 100\n",
    "porcentaje_exactamente_6_horas = prob_exactamente_6_horas * 100\n",
    "\n",
    "# Imprimir los resultados\n",
    "print(f'Porcentaje de clientes que pasa más de 6 horas: {porcentaje_mas_de_6_horas:.2f}%')\n",
    "print(f'Porcentaje de clientes que pasa menos de 6 horas: {porcentaje_menos_de_6_horas:.2f}%')\n",
    "print(f'Porcentaje de clientes que pasa exactamente 6 horas: {porcentaje_exactamente_6_horas:.2f}%')\n"
   ]
  },
  {
   "cell_type": "markdown",
   "metadata": {},
   "source": [
    "Recordemos que la formula norm.cdf() calcula la probabilidad de que la variable **sea menor a un valor asignado**, sin embargo la pregunta pedía un numero mayor al valor asignado es decr, solicitaba saber el porcentaje de clientes que pasaría mas de 6 horas en el gimnasio (cuando nuestra media era 4). Por lo tanto para poder resolver el tema en cuestion, era necesario restarle 1 o 100% al valor total, resultando en la siguiente formula:\n",
    "$$normal = 1 - (stats.norm(mu,sigma).cdf(p))$$"
   ]
  },
  {
   "cell_type": "markdown",
   "metadata": {},
   "source": [
    "Ahora resolvamos un ejercicio que sí pida un número menor a la variable al valor asignado. En la India, los estudiantes mayores de edad gastan una media de 5 000 dólares para aprender una nueva profesión, con una desviación típica de 1 500 dólares.\n",
    "\n",
    "¿Cuál es la probabilidad de que un estudiante pueda aprender una nueva profesión por menos de 4 000 dólares?"
   ]
  },
  {
   "cell_type": "code",
   "execution_count": 12,
   "metadata": {},
   "outputs": [
    {
     "name": "stdout",
     "output_type": "stream",
     "text": [
      "La probabilidad es de 25.25%\n"
     ]
    }
   ],
   "source": [
    "from scipy import stats as st\n",
    "mu = 5000 #horas\n",
    "sigma = 1500 # Sigma / Desviacion estandard\n",
    "p = 4000\n",
    "\n",
    "normal = stats.norm(mu,sigma).cdf(p)\n",
    "print(f'La probabilidad es de {round(normal*100,2)}%')"
   ]
  },
  {
   "cell_type": "markdown",
   "metadata": {},
   "source": [
    "Ahora resolvamos un ejercicio con norm().cdf (porcentajes)<br>\n",
    "\n",
    "¿Cuál es el coste máximo de la formación para el 10% de los estudiantes que gastaron menos dinero en sus estudios?"
   ]
  },
  {
   "cell_type": "code",
   "execution_count": 13,
   "metadata": {},
   "outputs": [
    {
     "name": "stdout",
     "output_type": "stream",
     "text": [
      "El coste maximo es de $307767.27\n"
     ]
    }
   ],
   "source": [
    "from scipy import stats as st\n",
    "mu = 5000 #horas\n",
    "sigma = 1500 # Sigma / Desviacion estandard\n",
    "p = 0.1 # Que es igual a 10%\n",
    "\n",
    "normal = stats.norm(mu,sigma).ppf(p)\n",
    "print(f'El coste maximo es de ${round(normal*100,2)}')"
   ]
  },
  {
   "cell_type": "markdown",
   "metadata": {},
   "source": [
    "El número de visitantes mensuales de una tienda virtual tiene una distribución normal con una media de 100 500 y una desviación estándar de 3 500.\n",
    "Encuentra la probabilidad de que en el próximo mes el sitio web del outlet tenga:\n",
    "- menos de 92 000 visitantes;\n",
    "- más de 111 000 visitantes."
   ]
  },
  {
   "cell_type": "code",
   "execution_count": 14,
   "metadata": {},
   "outputs": [
    {
     "name": "stdout",
     "output_type": "stream",
     "text": [
      "La probabilidad de que tenga menos de 92000 es de 0.76%\n",
      "La probabilidad de que tenga más de 111000 es de 0.13%\n"
     ]
    }
   ],
   "source": [
    "import scipy\n",
    "\n",
    "mu= 100500\n",
    "sigma= 3500\n",
    "p= 92000\n",
    "p2 = 111000\n",
    "\n",
    "normal = stats.norm(mu,sigma).cdf(p)\n",
    "normal2 = 1-stats.norm(mu,sigma).cdf(p2)\n",
    "print(f'La probabilidad de que tenga menos de {p} es de {round(normal*100,2)}%')\n",
    "print(f'La probabilidad de que tenga más de {p2} es de {round(normal2*100,2)}%')"
   ]
  },
  {
   "cell_type": "markdown",
   "metadata": {},
   "source": [
    "## Valor Esperado"
   ]
  },
  {
   "cell_type": "markdown",
   "metadata": {},
   "source": [
    "El valor esperado, también conocido como esperanza matemática o media, es una medida de tendencia central en estadística que representa el promedio ponderado de los posibles resultados de una variable aleatoria.  `En términos simples, es el valor que uno esperaría obtener en promedio si repitiéramos un experimento un número infinito de veces.`\n",
    "\n",
    "\n",
    " $$σ= \\sqrt {n \\cdot p \\cdot  (1−p)}$$\n",
    "​\n"
   ]
  },
  {
   "cell_type": "markdown",
   "metadata": {},
   "source": [
    "## Distribuciones binomiales a normales"
   ]
  },
  {
   "cell_type": "markdown",
   "metadata": {},
   "source": [
    "Si el número de pruebas es lo suficientemente alto **50 intentos o más**, la distribución binomial se puede modelar mediante la distribución normal.\n",
    "\n",
    "Si estás utilizando la distribución binomial con parámetros n (número de ensayos) y p (probabilidad de éxito en un ensayo), la desviación estándar de la distribución binomial se calcula de la siguiente manera:"
   ]
  },
  {
   "cell_type": "markdown",
   "metadata": {},
   "source": [
    "Pongamos un ejemplo. <br>\n",
    "\n",
    "Una empresa ha decidido anunciarse online. El servicio de publicidad dice que, de promedio, el **15%** de los usuarios hacen clic en sus anuncios. Eso es **750** visitas por cada **5000** vistas.\n",
    "\n",
    "La empresa coloca anuncios, compra **5000** impresiones (vistas) y solo obtiene **715** visitas. ¡El equipo de marketing está disgustado! ¿No les habían prometido **750** visitas? Usaremos argumentos estadísticos para calmarlos.\n",
    "\n",
    "En resumen: cuando un usuario ve el anuncio, hay un **15**% de posibilidades de que haga clic en él. Esto nos da una distribución binomial con** n = 5000 y p = 0.15.**"
   ]
  },
  {
   "cell_type": "code",
   "execution_count": 10,
   "metadata": {},
   "outputs": [
    {
     "name": "stdout",
     "output_type": "stream",
     "text": [
      "La media es 750.0\n",
      "La desviación es de 25.248762345905195\n",
      "La probabilidad de es de 8.28%\n",
      "3 veces desviacion_std es 75.74628703771559\n"
     ]
    }
   ],
   "source": [
    "import scipy.stats as st\n",
    "import math as mt\n",
    "\n",
    "binom_n=5000\n",
    "binom_p=0.15\n",
    "k=715\n",
    "mean = st.binom.mean(binom_n, binom_p) # Or binom_n * binom_p\n",
    "\n",
    "desviacion_std = st.binom.std(binom_n, binom_p) # Or desviacion_std = mt.sqrt(binom_n * binom_p * (1 - binom_p))\n",
    "p_clicks = st.norm.cdf(k, mean,desviacion_std)\n",
    "\n",
    "print(f'La media es {mean}')\n",
    "print(f'La desviación es de {desviacion_std}')\n",
    "print(f'La probabilidad de es de {round(p_clicks*100,2)}%')\n",
    "print(f'3 veces desviacion_std es {3*desviacion_std}')"
   ]
  },
  {
   "cell_type": "markdown",
   "metadata": {},
   "source": [
    "Como podrás observar, con n, p y k de la distribución binomial pudimos obtener la media y desviación standard, ejecutando una formula de distribución normal."
   ]
  },
  {
   "cell_type": "markdown",
   "metadata": {},
   "source": [
    "Una empresa envía a sus clientes un boletín electrónico mensual con novedades y ofertas de los socios. Sabemos que el 40% de los clientes abre el boletín.\n",
    "Uno de los socios está planeando una campaña publicitaria y espera llegar a unos 9000 clientes. **Calcula la probabilidad de que se cumplan las expectativas del socio si el boletín se envía a 23 000 personas.**"
   ]
  },
  {
   "cell_type": "code",
   "execution_count": 41,
   "metadata": {},
   "outputs": [
    {
     "name": "stdout",
     "output_type": "stream",
     "text": [
      "0.9964477890716447\n"
     ]
    }
   ],
   "source": [
    "import scipy.stats as st\n",
    "import math as mt\n",
    "\n",
    "k = 9000\n",
    "binom_n = 23000\n",
    "binom_p = 0.40\n",
    "\n",
    "mu = st.binom.mean(binom_n,binom_p)\n",
    "\n",
    "sigma = st.binom.std(binom_n,binom_p)\n",
    "\n",
    "p_threshold = 1 - st.norm.cdf(k,mu,sigma)\n",
    "print(p_threshold)\n"
   ]
  },
  {
   "cell_type": "markdown",
   "metadata": {},
   "source": [
    "## Distribución uniforme"
   ]
  },
  {
   "cell_type": "markdown",
   "metadata": {},
   "source": [
    "La distribución uniforme es un tipo de distribución de probabilidad en la que todos los valores posibles de una variable aleatoria dentro de un intervalo tienen la misma probabilidad de ocurrir. Es decir, todos los valores dentro del intervalo tienen una densidad de probabilidad constante.\n",
    "\n",
    " Ejemplo. (al tirar un dado se tiene 1/6 de probabilidad de obtener un resultado)"
   ]
  },
  {
   "cell_type": "markdown",
   "metadata": {},
   "source": [
    "La distribución de probabilidad discreta o continua en la que los datos tienden a agruparse en torno a un valor medio o promedio. (analizar las tallas mas demandadas de ropa, en general las tallas medianas predominaran)"
   ]
  },
  {
   "cell_type": "markdown",
   "metadata": {},
   "source": [
    "- Teorema de límite central : cuando hay un número suficiente de observaciones en una muestra, la distribución muestral de las medias muestrales de cualquier población estadística tiende a seguir una distribución normal alrededor de la media de dicha población.Puedes estimar la media de una población estadística utilizando la media de una muestra. Cuanto mayor sea la muestra, más precisa será la media de la población y esto funciona para poblaciones estadísticas con cualquier distribución.\n",
    "- Distribución muestral: es el conjunto de valores medios de todas las muestras posibles de un cierto tamaño tomadas de una población estadística particular.\n",
    "- Estimated Estandard Error (E.S.E) = S #muestra / raiz(n) \n",
    "- Hipotesis de dos colas: Una prueba de hipótesis de dos colas está diseñada para mostrar si la media de la muestra es considerablemente mayor y considerablemente menor que la media de una población\n",
    "- significación estadística bilateral = probabilidad de que la media de toda la población estadística se desvíe del valor propuesto al menos tanto como vemos en la muestra (aumentando o disminuyendo en cualquier dirección).\n",
    "- La estadística de diferencia: Es el número de desviaciones estándar entre los valores comparados si ambas distribuciones se convierten en una distribución normal estándar con media 0 y desviación estándar 1. Este número no ayuda mucho a orientarse.\n",
    "- El valor p es la probabilidad de obtener un resultado al menos tan extremo como el que estás considerando, suponiendo que la hipótesis nula sea correcta\n",
    "- Significación estadística bilateral: que es la probabilidad de que la media de toda la población estadística se desvíe del valor propuesto al menos tanto como vemos en la muestra (aumentando o disminuyendo en cualquier dirección)."
   ]
  }
 ],
 "metadata": {
  "kernelspec": {
   "display_name": "Python 3",
   "language": "python",
   "name": "python3"
  },
  "language_info": {
   "codemirror_mode": {
    "name": "ipython",
    "version": 3
   },
   "file_extension": ".py",
   "mimetype": "text/x-python",
   "name": "python",
   "nbconvert_exporter": "python",
   "pygments_lexer": "ipython3",
   "version": "3.11.9"
  }
 },
 "nbformat": 4,
 "nbformat_minor": 2
}
