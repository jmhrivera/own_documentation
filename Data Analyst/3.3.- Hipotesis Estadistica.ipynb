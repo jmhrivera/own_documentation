{
 "cells": [
  {
   "cell_type": "markdown",
   "metadata": {},
   "source": [
    "## Hipotesis\n",
    "\n",
    "La prueba de hipótesis es una herramienta estadística. Con esta herramienta, puedes realizar `estimaciones sobre poblaciones grandes utilizando muestras pequeñas`. La lógica de realizar una prueba estadística de una hipótesis es ligeramente diferente\n",
    "En primer lugar, sacaremos conclusiones sobre un gran dataset, o población estadística, basadas en las muestras. Una muestra es una parte pequeña pero representativa de los datos que refleja el comportamiento de toda la población estadística"
   ]
  },
  {
   "cell_type": "markdown",
   "metadata": {},
   "source": [
    "## Teorema del límite central\n",
    "\n",
    "El teorema del límite central menciona que cuando hay un número suficiente de observaciones en una muestra, la distribución muestral de las medias muestrales de cualquier población estadística `tiende a seguir una distribución normal` alrededor de la media de dicha población.Puedes estimar la media de una población estadística utilizando la media de una muestra. Cuanto mayor sea la muestra, más precisa será la media de la población y esto funciona para poblaciones estadísticas con cualquier distribución.\n",
    "<br>\n",
    "<br>\n",
    "¿Cuál será su varianza? Eso depende del tamaño de la muestra. Cuanto mayor sea, menor será la desviación estándar de la media de la muestra. Cuanto mayor sea la muestra que tomemos, más precisa será la media de toda la población.\n",
    "<br>\n",
    "<br>\n",
    "La desviación estándar de la media de la muestra del promedio de la población estadística se llama error estándar y se encuentra usando la siguiente fórmula:\n",
    "\n",
    "$$E.S.E = \\frac {S}{ \\sqrt {n}} $$\n",
    "\n",
    "- E.S.E. = Estimated Standard Error\n",
    "- S = Standard deviation (muestra)\n",
    "- n = tamaño de la muestra"
   ]
  },
  {
   "cell_type": "markdown",
   "metadata": {},
   "source": [
    "Estos analálisis ya vienen precargados en los metodos de python, pero era importante conocerlos"
   ]
  },
  {
   "cell_type": "markdown",
   "metadata": {},
   "source": [
    "## Hipotesis de dos colas\n",
    "\n",
    "La hipótesis de dos colas es un concepto estadístico que se utiliza en pruebas de hipótesis para evaluar afirmaciones sobre parámetros de una población. Una prueba de hipótesis de dos colas está diseñada para mostrar si la media de la muestra es considerablemente mayor y considerablemente menor que la media de una población\n",
    "\n",
    "Para su funcionamiento es necesario formular dos hipotesis dentro de ella:\n",
    "\n",
    "- Hipótesis nula (H0): Afirma que no hay diferencia significativa o efecto.\n",
    "- Hipótesis alternativa (H1): Afirma que hay una diferencia significativa o efecto.\n",
    "\n",
    "Ejemplo: Si se esta probando la media de una población las hipotesis Nula y Alternativa serían.\n",
    "\n",
    "- Hipotesis Nula = No hay diferencia entre la media significativa y la variable analizada `H0: μ = X` (donde μ es la media poblacional y μ0 es un valor específico) \n",
    "- Hipotesis Alternativa = La media poblacional es diferente de la variable analizada `H1: μ ≠ X` (dos colas implican \"no igual a\")\n",
    "\n",
    "Además es necesario asignar un valor de significancia denominado alpha(α) que será el nivel de probabilidad que estás dispuesto a aceptar como evidencia suficiente para rechazar la hipótesis nula. Comúnmente se usa un nivel de significancia del 5% (α = 0.05). En otras palabras es el umbral o `treshold` que podemos aceptar. Esto se debe a que en 1980 un cientifico llamado Ronald establecio que 1 de cada 20 casos representaba un evento inusual, dando así 1/2 = 0.05 o 5%\n",
    "\n",
    "Vamos a ilustrarlo en python"
   ]
  },
  {
   "cell_type": "code",
   "execution_count": 1,
   "metadata": {},
   "outputs": [
    {
     "name": "stdout",
     "output_type": "stream",
     "text": [
      "No hay suficiente evidencia para rechazar la hipótesis nula.\n",
      "Estadístico de prueba: -1.007806519720537\n",
      "P-valor: 0.33987292518613166\n"
     ]
    }
   ],
   "source": [
    "import numpy as np\n",
    "from scipy import stats\n",
    "\n",
    "# Paso 1: Formulación de hipótesis\n",
    "# H0: μ = μ0 (media poblacional es igual a un valor específico)\n",
    "# H1: μ ≠ μ0 (media poblacional es diferente a un valor específico)\n",
    "\n",
    "# Paso 2: Nivel de significancia (α)\n",
    "alpha = 0.05\n",
    "\n",
    "# Paso 3: Datos de muestra\n",
    "muestra = np.array([23, 25, 22, 27, 18, 30, 28, 21, 24, 20])\n",
    "\n",
    "# Paso 4: Estadístico de prueba (usaremos la prueba t de Student)\n",
    "# La variable o valor que queremos analizar será\n",
    "valor_especifico = 25\n",
    "\n",
    "#Ttest nos arroja dos resultados el estadistico_prueba y el p_valor\n",
    "estadistico_prueba, p_valor = stats.ttest_1samp(muestra, valor_especifico)\n",
    "\n",
    "# Paso 5: Toma de decisión\n",
    "if p_valor < alpha:\n",
    "    print(f\"Rechazamos la hipótesis nula. Hay evidencia significativa para decir que la media es diferente de {valor_especifico}.\")\n",
    "else:\n",
    "    print(\"No hay suficiente evidencia para rechazar la hipótesis nula.\")\n",
    "\n",
    "# Paso 6: Imprimir resultados\n",
    "print(f\"Estadístico de prueba: {estadistico_prueba}\")\n",
    "print(f\"P-valor: {p_valor}\")\n"
   ]
  },
  {
   "cell_type": "markdown",
   "metadata": {},
   "source": [
    "Como observamos, se obtuvieron dos valores clave; El P Valor y el estadístico de prueba. `El p-value es la propabilidad de que ocurra un evento de forma al azar tomando una hipotesis nula como cierta`. El p-valor es la probabilidad de obtener un resultado tan extremo como el observado, asumiendo que la hipótesis nula es verdadera\n",
    "\n",
    "Se lanza una moneda.\n",
    "\n",
    "- H<sub>0</sub> = El resultado del tiro no sera difernte de cara\n",
    "- H<sub>1</sub> = El resultado del tiro no será difernte de cara (cruz)\n",
    "\n",
    "La probabilidad de que ocurra un evento de forma al azar si la premisa (H<sub>0</sub>) es cierta.\n",
    "\n",
    "El p-value será 0.50\n",
    "\n"
   ]
  },
  {
   "cell_type": "code",
   "execution_count": 5,
   "metadata": {},
   "outputs": [
    {
     "name": "stdout",
     "output_type": "stream",
     "text": [
      "No hay suficiente evidencia para rechazar la hipótesis nula.\n",
      "Estadístico de prueba: 1.0\n",
      "P-valor: 0.49999999999999956\n"
     ]
    }
   ],
   "source": [
    "import numpy as np\n",
    "from scipy import stats\n",
    "\n",
    "alpha = 0.05\n",
    "muestra = np.array([0,1])\n",
    "valor_especifico = 0\n",
    "\n",
    "estadistico_prueba, p_valor = stats.ttest_1samp(muestra, valor_especifico)\n",
    "\n",
    "if p_valor < alpha:\n",
    "    print(f\"Rechazamos la hipótesis nula. Hay evidencia significativa para decir que la media es diferente de {valor_especifico}.\")\n",
    "else:\n",
    "    print(\"No hay suficiente evidencia para rechazar la hipótesis nula.\")\n",
    "\n",
    "print(f\"Estadístico de prueba: {estadistico_prueba}\")\n",
    "print(f\"P-valor: {p_valor}\")"
   ]
  },
  {
   "cell_type": "markdown",
   "metadata": {},
   "source": [
    "Tal como lo habíamos analizado el p.value será igual al 0.4999999 redondeado 0.50. Cabe destacar que nunca podrémos obtener el 100% de la probabilidad debido a la naturaleza infinita de la distribución normal\n",
    "\n",
    "El estadístico de prueba es una medida que indica cuánto se alejan los datos observados de lo que se esperaría bajo la hipótesis nula. En este caso, un valor positivo indica que la media de la muestra está por encima del valor específico que estás probando."
   ]
  },
  {
   "cell_type": "markdown",
   "metadata": {},
   "source": [
    "Conclusion = Con la hipotesis de dos colas podemos crear hipotesis de valores que son iguales o diferentes al valor propuesto, pero ¿que pasa si necesitamos crear hipotesis donde el resultado es mayor o menor del que nosotros queremos evaluar? para eso existe la hipotesis de una cola"
   ]
  },
  {
   "cell_type": "markdown",
   "metadata": {},
   "source": [
    "## Hipotesis de una cola\n",
    "\n",
    "La hipótesis de una cola se utiliza en pruebas estadísticas cuando estamos interesados en detectar si una muestra es significativamente mayor o menor que un valor específico.\n",
    "\n",
    "| Si la hipotesis nula establece | Entonces la hipotesis alternativa establece|\n",
    "|-------------------------------------------|-------------------------------------------|\n",
    "| La media es `menor` al valor especifico | La media es `mayor` o igual al valor específico |\n",
    "| La media es `mayor` al valor específico |La media es `menor` o igual al valor especifico  |\n",
    "\n",
    " Hay dos tipos de hipótesis de una cola: la hipótesis de cola izquierda y la hipótesis de cola derecha.\n",
    "\n",
    "El procedimiento general para una prueba de hipótesis de cola es similar al de una prueba de dos colas, pero la región crítica se encuentra solo en un extremo de la distribución. La decisión de rechazar la hipótesis nula se basa en si el estadístico de prueba cae en la región crítica correspondiente.\n"
   ]
  },
  {
   "cell_type": "markdown",
   "metadata": {},
   "source": [
    "#### Hipotesis de una cola (Prueba Unilateral Izquierda)\n",
    "\n",
    "Tu garantizas que tu proyecto online generará al menos $800 por día, quizás más, en solo un mes. Utiliza un dataset con los ingresos diarios del último mes para probar tu hipótesis. La hipótesis es que tus ingresos diarios promedio igualaron o superaron los $800.\n"
   ]
  },
  {
   "cell_type": "code",
   "execution_count": 1,
   "metadata": {},
   "outputs": [
    {
     "name": "stdout",
     "output_type": "stream",
     "text": [
      "Estadístico de prueba: -25.124015568981104\n",
      "P-valor: 1.7869152078905524e-22\n",
      "No podemos rechazar la hipótesis nula\n"
     ]
    }
   ],
   "source": [
    "from scipy import stats as st\n",
    "import pandas as pd\n",
    "\n",
    "ganancias = pd.Series([727, 678, 685, 669, 661, 705, 701, 717, \n",
    "                     655,643, 660, 709, 701, 681, 716, 655, \n",
    "                     716, 695, 684, 687, 669,647, 721, 681, \n",
    "                     674, 641, 704, 717, 656, 725, 684, 665])\n",
    "\n",
    "valor_especifico = 800  # número promedio de bloques vistos\n",
    "alpha = 0.05  # nivel de significación\n",
    "\n",
    "estadistico_prueba,p_valor = st.ttest_1samp(ganancias, valor_especifico)\n",
    "\n",
    "# Imprimir resultados\n",
    "print(f\"Estadístico de prueba: {estadistico_prueba}\")\n",
    "print(f\"P-valor: {p_valor/2}\")\n",
    "\n",
    "# Prueba unilateral a la izquierda\n",
    "if (p_valor / 2 < alpha) and (ganancias.mean() > valor_especifico):\n",
    "    print(\"Rechazamos la hipótesis nula\")\n",
    "else:\n",
    "    print(\"No podemos rechazar la hipótesis nula\")\n"
   ]
  },
  {
   "cell_type": "markdown",
   "metadata": {},
   "source": [
    "#### Hipotesis de una cola (Prueba Unilateral Derecha)\n",
    "\n",
    "Tomemos el mismo ejercicio, ahora una persona llega y asegura que nuestro negocio genera menos de 800 mensuales, ¿como lo formularíamos?"
   ]
  },
  {
   "cell_type": "code",
   "execution_count": 27,
   "metadata": {},
   "outputs": [
    {
     "name": "stdout",
     "output_type": "stream",
     "text": [
      "Estadístico de prueba: -25.124015568981104\n",
      "P-valor: 1.7869152078905524e-22\n",
      "Rechazamos la hipótesis nula\n"
     ]
    }
   ],
   "source": [
    "from scipy import stats as st\n",
    "import pandas as pd\n",
    "\n",
    "ganancias = pd.Series([727, 678, 685, 669, 661, 705, 701, 717, \n",
    "                     655,643, 660, 709, 701, 681, 716, 655, \n",
    "                     716, 695, 684, 687, 669,647, 721, 681, \n",
    "                     674, 641, 704, 717, 656, 725, 684, 665])\n",
    "\n",
    "valor_especifico = 800  # número promedio de bloques vistos\n",
    "alpha = 0.05  # nivel de significación\n",
    "\n",
    "estadistico_prueba,p_valor = st.ttest_1samp(ganancias, valor_especifico)\n",
    "\n",
    "# Imprimir resultados\n",
    "print(f\"Estadístico de prueba: {estadistico_prueba}\")\n",
    "print(f\"P-valor: {p_valor/2}\")\n",
    "\n",
    "# Prueba unilateral a la izquierda\n",
    "if (p_valor / 2 < alpha) and (ganancias.mean() < valor_especifico):  #Solo cambiaria el valor mayor que a menor que después de ganancias.mean()\n",
    "    print(\"Rechazamos la hipótesis nula\")\n",
    "else:\n",
    "    print(\"No podemos rechazar la hipótesis nula\")"
   ]
  },
  {
   "cell_type": "markdown",
   "metadata": {},
   "source": [
    "fue muy simple, solo cambiamos el simbolo '<' por '>'después en la segunda condición `(ganancias.mean() < valor_especifico)`\n",
    "\n",
    "Con esto podemos asegurarle a ese difamador que se equivoca."
   ]
  },
  {
   "cell_type": "markdown",
   "metadata": {},
   "source": [
    "## Hipotesis de igualdad\n",
    "Cuando formulamos hipótesis sobre la igualdad de las medias de dos poblaciones, estamos generalmente interesados en comparar las medias de dos grupos diferentes para determinar si hay evidencia suficiente para sugerir que las medias son diferentes o si podemos asumir que son iguales. Este tipo de prueba es comúnmente conocida como la \"prueba de dos muestras\".\n",
    "<br>\n",
    "<br>\n",
    "\n",
    "| Si la hipótesis nula establece                     | Entonces la hipótesis alternativa establece | Tipo de Hipótesis |\n",
    "|---------------------------------------------------|--------------------------------------------|-------------------|\n",
    "| Las medias de las dos poblaciones 'son iguales'.   | Las medias de las dos poblaciones 'son diferentes'. | Dos colas |\n",
    "| La media de la primera población 'es mayor o igual' a la segunda. | La media de la primera población 'es menor' a la segunda. | Una cola (derecha) |\n",
    "| La media de la primera población 'es menor o igual' a la segunda. | La media de la primera población 'es mayor' a la segunda. | Una cola (izquierda) |\n"
   ]
  },
  {
   "cell_type": "markdown",
   "metadata": {},
   "source": [
    "En resumen, `la hipotesis de igualdad en vez de basar su comparación solo en los promedios, usa los datasets para realizar una prueba estadística.`\n",
    "\n",
    "Vamos a plasmarlo en python con el siguiente ejemplo:"
   ]
  },
  {
   "cell_type": "markdown",
   "metadata": {},
   "source": [
    "Hay dos conjuntos de datos sobre el tiempo promedio que pasan en un sitio web sobre:\n",
    "1. Los usuarios que inician sesión con nombre de usuario y contraseña.\n",
    "2. Los usuarios que inician sesión a través de las redes sociales. \n",
    "\n",
    "Prueba la hipótesis de que ambos grupos de usuarios pasan la misma cantidad de tiempo en el sitio web."
   ]
  },
  {
   "cell_type": "code",
   "execution_count": 37,
   "metadata": {},
   "outputs": [
    {
     "name": "stdout",
     "output_type": "stream",
     "text": [
      "El p-value es 0.002200163165401993\n",
      "El estadistico t es -3.229638265767524\n",
      "La hipotesis nula \"las dos poblaciones son iguales\" es rechazada\n"
     ]
    }
   ],
   "source": [
    "from scipy import stats as st\n",
    "import numpy as np\n",
    "\n",
    "pages_per_session_autumn = [7.1, 7.3, 9.8, 7.3, 6.4, 10.5, 8.7, \n",
    "                            17.5, 3.3, 15.5, 16.2, 0.4, 8.3, \n",
    "                            8.1, 3.0, 6.1, 4.4, 18.8, 14.7, 16.4, \n",
    "                            13.6, 4.4, 7.4, 12.4, 3.9, 13.6, \n",
    "                            8.8, 8.1, 13.6, 12.2]\n",
    "pages_per_session_summer = [12.1, 24.3, 6.4, 19.9, 19.7, 12.5, 17.6, \n",
    "                            5.0, 22.4, 13.5, 10.8, 23.4, 9.4, 3.7, \n",
    "                            2.5, 19.8, 4.8, 29.0, 1.7, 28.6, 16.7, \n",
    "                            14.2, 10.6, 18.2, 14.7, 23.8, 15.9, 16.2, \n",
    "                            12.1, 14.5]\n",
    "\n",
    "\n",
    "statistic, p_valor = st.levene()\n",
    "# Para poder delimitar equal_var a True las varianzas tendrían que ser iguales, se puede usar el metodo fisher o el metodo levene.\n",
    "\n",
    "\n",
    "#print(np.var(pages_per_session_autumn))\n",
    "#print(np.var(pages_per_session_summer))\n",
    "\n",
    "alpha= 0.05\n",
    "\n",
    "t_statistic,p_value= st.ttest_ind(pages_per_session_autumn,pages_per_session_summer,equal_var=False)\n",
    "\n",
    "print(f'El p-value es {p_value}')\n",
    "print(f'El estadistico t es {t_statistic}')\n",
    "\n",
    "if p_value<alpha :\n",
    "    print('La hipotesis nula \"las dos poblaciones son iguales\" es rechazada')\n",
    "else:\n",
    "    print('La hipotesis nula \"las dos poblaciones son iguales\" no puede ser rechazada')"
   ]
  },
  {
   "cell_type": "markdown",
   "metadata": {},
   "source": [
    "## Hipótesis sobre la igualdad de medias de muestras emparejadas"
   ]
  },
  {
   "cell_type": "markdown",
   "metadata": {},
   "source": [
    "Cuando trabajamos con muestras emparejadas, estamos comparando dos conjuntos de observaciones que están relacionadas entre sí de alguna manera. Un ejemplo común de muestras emparejadas es cuando las observaciones en el segundo conjunto están relacionadas o corresponden directamente con las observaciones en el primer conjunto, como mediciones repetidas en los mismos sujetos antes y después de una intervención."
   ]
  },
  {
   "cell_type": "markdown",
   "metadata": {},
   "source": [
    "| Si la hipótesis nula establece                     | Entonces la hipótesis alternativa establece | Tipo de Hipótesis |\n",
    "|----------------------------------------------------------------|---------------------------------------------------------|-------------------|\n",
    "| Las medias de las `diferencias` entre las muestras `'son iguales a cero'`. | Las medias de las diferencias entre las muestras `'son diferentes de cero`'. | Dos colas |\n",
    "| La media de las diferencias entre las muestras` 'es menor o igual a cero'`. | La media de las diferencias entre las muestras `'es mayor que cero'`. | Una cola (derecha) |\n",
    "| La media de las diferencias entre las muestras `'es mayor o igual a cero'`. | La media de las diferencias entre las muestras `'es menor que cero'`. | Una cola (izquierda) |"
   ]
  },
  {
   "cell_type": "markdown",
   "metadata": {},
   "source": [
    "Solo necesita dos parámetros: matrices con datos del antes y después. Las matrices deben ser del mismo tamaño.\n",
    "\n",
    "Tenemos dos datasets: el peso del paquete en gramos antes de cambiar el método de cálculo del precio de envío y el peso después (para los mismos clientes habituales). Vamos a probar la hipótesis de que el peso del paquete no cambió, aunque sí lo hizo el método para calcular el precio de envío.\n"
   ]
  },
  {
   "cell_type": "code",
   "execution_count": 35,
   "metadata": {},
   "outputs": [
    {
     "name": "stdout",
     "output_type": "stream",
     "text": [
      "valor p:  0.005825972457958989\n",
      "Rechazamos la hipótesis nula\n"
     ]
    }
   ],
   "source": [
    "from scipy import stats as st\n",
    "import numpy as np\n",
    "\n",
    "before = [157, 114, 152, 355, 155, 513, 299, 268, 164, 320, \n",
    "                    192, 262, 506, 240, 364, 179, 246, 427, 187, 431, \n",
    "                    320, 193, 313, 347, 312, 92, 177, 225, 242, 312]\n",
    "\n",
    "after = [282, 220, 162, 226, 296, 479, 248, 322, 298, 418, \n",
    "                 552, 246, 251, 404, 368, 484, 358, 264, 359, 410, \n",
    "                 382, 350, 406, 416, 438, 364, 283, 314, 420, 218]\n",
    "\n",
    "alpha = 0.05  # el nivel de significancia estadística crítica\n",
    "\n",
    "t_statistic,p_value = st.ttest_rel(before, after)  #Aqui es donde cambia realmente el código, llamando el metodo ttest_rel()\n",
    "\n",
    "print('valor p: ', p_value)\n",
    "\n",
    "if p_value/2 < alpha:\n",
    "    print(\"Rechazamos la hipótesis nula\")\n",
    "else:\n",
    "    print(\"No podemos rechazar la hipótesis nula\") "
   ]
  },
  {
   "cell_type": "markdown",
   "metadata": {},
   "source": [
    "Los datos proporcionan evidencia suficiente, dado el nivel de significación que seleccionamos, para rechazar la hipótesis nula. Por lo tanto, podemos concluir que ha habido un cambio en los pesos de los paquetes."
   ]
  },
  {
   "cell_type": "markdown",
   "metadata": {},
   "source": [
    "https://lucid.app/lucidspark/556c8f81-4781-40d7-b928-a1971cc40eb6/edit?viewport_loc=-859%2C3026%2C3240%2C5253%2C0_0&invitationId=inv_ee874fdd-c64f-4acb-976f-c6697ba744fe"
   ]
  }
 ],
 "metadata": {
  "kernelspec": {
   "display_name": "Python 3",
   "language": "python",
   "name": "python3"
  },
  "language_info": {
   "codemirror_mode": {
    "name": "ipython",
    "version": 3
   },
   "file_extension": ".py",
   "mimetype": "text/x-python",
   "name": "python",
   "nbconvert_exporter": "python",
   "pygments_lexer": "ipython3",
   "version": "3.12.4"
  }
 },
 "nbformat": 4,
 "nbformat_minor": 2
}
