{
 "cells": [
  {
   "cell_type": "markdown",
   "metadata": {
    "vscode": {
     "languageId": "plaintext"
    }
   },
   "source": [
    "### 1. Muestra Aleatoria\n",
    "**Definición:** \n",
    "Una muestra aleatoria se obtiene del total de la población de manera que cada individuo tiene la misma probabilidad de ser seleccionado. Esto asegura que la muestra sea representativa de la población y reduce el sesgo de selección.\n",
    "\n",
    "**Ejemplo:**\n",
    "Imagina que una urna contiene bolitas numeradas del 1 al 100. Si se extraen 10 bolitas de la urna de manera que cada bolita tenga la misma probabilidad de ser seleccionada, se tiene una muestra aleatoria.\n",
    "\n",
    "### 2. Muestreo Aleatorio Estratificado No Proporcional\n",
    "**Definición:**\n",
    "Este método implica dividir la población en estratos homogéneos (subgrupos) y luego seleccionar una muestra aleatoria de cada estrato. En el muestreo no proporcional, se toma la misma cantidad de individuos de cada estrato, independientemente del tamaño del subgrupo en la población total.\n",
    "\n",
    "**Ejemplo:**\n",
    "Si una empresa tiene 100 empleados divididos en tres departamentos (A tiene 50 empleados, B tiene 30, C tiene 20), y decide tomar 10 empleados de cada departamento, sin importar el tamaño relativo de cada estrato, se está utilizando un muestreo aleatorio estratificado no proporcional.\n",
    "\n",
    "### 3. Muestreo Aleatorio Estratificado Proporcional\n",
    "\n",
    "**Definición:**\n",
    "En este método, la población también se divide en estratos homogéneos, pero la cantidad de muestras seleccionadas de cada estrato es proporcional al tamaño de ese estrato en la población total.\n",
    "\n",
    "**Ejemplo:**\n",
    "Para la misma empresa de 100 empleados (A tiene 50, B tiene 30, y C tiene 20), si se decide tomar una muestra de 20 empleados proporcionalmente, se seleccionaría 10 empleados del departamento A, 6 del departamento B, y 4 del departamento C, reflejando el tamaño relativo de cada grupo.\n",
    "\n",
    "### 4. Muestreo por Conglomerados (Cluster sampling)\n",
    "\n",
    "**Definición:**\n",
    "Este método consiste en dividir la población en grupos o conglomerados (que idealmente son representativos de la población). Luego, se seleccionan aleatoriamente algunos de estos conglomerados y se estudian todos los individuos dentro de los conglomerados seleccionados.\n",
    "\n",
    "**Ejemplo:**\n",
    "Supongamos que se quiera estudiar el rendimiento académico de los estudiantes de una ciudad. Primero, se dividen las escuelas en diferentes conglomerados. Luego, se seleccionan aleatoriamente algunas escuelas y se evalúa a todos los estudiantes de las escuelas seleccionadas. Aquí, las escuelas son los conglomerados.\n",
    "\n",
    "### Resumen Visual\n",
    "\n",
    "- **Muestra Aleatoria:** Selección aleatoria de toda la población.\n",
    "- **Muestreo Aleatorio Estratificado No Proporcional:** Dividir en estratos y seleccionar la misma cantidad de muestras de cada estrato.\n",
    "- **Muestreo Aleatorio Estratificado Proporcional:** Dividir en estratos y seleccionar muestras proporcionalmente al tamaño de cada estrato.\n",
    "- **Muestreo por Conglomerados:** Dividir en conglomerados, seleccionar algunos conglomerados, y estudiar todos los individuos dentro de los conglomerados seleccionados.\n",
    "\n",
    "Estos métodos se utilizan para asegurar que la muestra sea representativa de la población y para mejorar la precisión y confiabilidad de los resultados en estudios estadísticos.\n"
   ]
  }
 ],
 "metadata": {
  "language_info": {
   "name": "python"
  }
 },
 "nbformat": 4,
 "nbformat_minor": 2
}
