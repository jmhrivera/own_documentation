{
 "cells": [
  {
   "cell_type": "code",
   "execution_count": 40,
   "metadata": {},
   "outputs": [
    {
     "name": "stdout",
     "output_type": "stream",
     "text": [
      "[[110 200 300]\n",
      " [101 200 300]\n",
      " [103 200 300]]\n"
     ]
    }
   ],
   "source": [
    "import numpy as np \n",
    "\n",
    "vector = [\n",
    "    [[110,200,300],[101,200,300],[103,200,300]],\n",
    "    [[150,200,300],[10,200,300],[90,200,300]],\n",
    "    [[80,200,300],[100,200,300],[100,200,300]]\n",
    "]\n",
    "\n",
    "array = np.array(vector)\n",
    "\n",
    "# print(array)\n"
   ]
  },
  {
   "cell_type": "code",
   "execution_count": 38,
   "metadata": {},
   "outputs": [
    {
     "data": {
      "text/plain": [
       "array([[110, 101, 103],\n",
       "       [150,  10,  90],\n",
       "       [ 80, 100, 100]])"
      ]
     },
     "execution_count": 38,
     "metadata": {},
     "output_type": "execute_result"
    }
   ],
   "source": [
    "array[:,:,0]"
   ]
  }
 ],
 "metadata": {
  "kernelspec": {
   "display_name": "Python 3",
   "language": "python",
   "name": "python3"
  },
  "language_info": {
   "codemirror_mode": {
    "name": "ipython",
    "version": 3
   },
   "file_extension": ".py",
   "mimetype": "text/x-python",
   "name": "python",
   "nbconvert_exporter": "python",
   "pygments_lexer": "ipython3",
   "version": "3.12.3"
  }
 },
 "nbformat": 4,
 "nbformat_minor": 2
}
