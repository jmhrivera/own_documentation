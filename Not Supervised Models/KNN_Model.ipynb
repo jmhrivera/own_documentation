{
 "cells": [
  {
   "cell_type": "code",
   "execution_count": 9,
   "metadata": {},
   "outputs": [],
   "source": [
    "from pyod.models.knn import KNN\n",
    "import pandas as pd\n",
    "import numpy as np\n",
    "\n",
    "df = pd.read_csv('D:/Tripleten/datasets/sales.csv')\n",
    "data = df[['Sales', 'Profit']]\n",
    "\n",
    "model = KNN()\n",
    "model.fit(data)\n",
    "predictions = model.predict(data)\n",
    "anomalies = np.count_nonzero(predictions ==1)\n"
   ]
  },
  {
   "cell_type": "code",
   "execution_count": 12,
   "metadata": {},
   "outputs": [
    {
     "data": {
      "text/plain": [
       "884"
      ]
     },
     "execution_count": 12,
     "metadata": {},
     "output_type": "execute_result"
    }
   ],
   "source": [
    "np.count_nonzero(predictions)"
   ]
  },
  {
   "cell_type": "code",
   "execution_count": 66,
   "metadata": {},
   "outputs": [
    {
     "name": "stderr",
     "output_type": "stream",
     "text": [
      "c:\\Users\\jm_he\\AppData\\Local\\Programs\\Python\\Python311\\Lib\\site-packages\\sklearn\\utils\\deprecation.py:87: FutureWarning: Function fit_predict is deprecated\n",
      "  warnings.warn(msg, category=FutureWarning)\n"
     ]
    },
    {
     "name": "stdout",
     "output_type": "stream",
     "text": [
      "Número de anomalías (KNN): 1000\n",
      "Número de anomalías (bosque de aislamiento): 1129\n",
      "Coincidente: 1000\n"
     ]
    }
   ],
   "source": [
    "import pandas as pd\n",
    "import numpy as np\n",
    "from pyod.models.knn import KNN\n",
    "from sklearn.ensemble import IsolationForest\n",
    "\n",
    "df = pd.read_csv('D:/Tripleten/datasets/sales.csv')\n",
    "data = df[['Sales', 'Profit']]\n",
    "\n",
    "model_knn = KNN()\n",
    "estimation_knn = model_knn.fit_predict(data)\n",
    "outliers_knn = (estimation_knn==1).sum()\n",
    "print('Número de anomalías (KNN):', outliers_knn)\n",
    "\n",
    "model_if= IsolationForest(n_estimators=100, random_state=1)\n",
    "estimation_iforest = model_if.fit_predict(data)\n",
    "outliers_iforest = (estimation_iforest == -1).sum()\n",
    "# outliers_iforest = np.count_nonzero(estimation_iforest ==-1)\n",
    "print(\"Número de anomalías (bosque de aislamiento):\", outliers_iforest)\n",
    "\n",
    "print('Coincidente:', (estimation_knn & estimation_iforest).sum())"
   ]
  },
  {
   "cell_type": "code",
   "execution_count": 68,
   "metadata": {},
   "outputs": [
    {
     "data": {
      "text/plain": [
       "0    8994\n",
       "1    1000\n",
       "Name: count, dtype: int64"
      ]
     },
     "execution_count": 68,
     "metadata": {},
     "output_type": "execute_result"
    }
   ],
   "source": [
    "coco = estimation_knn & estimation_iforest\n",
    "\n",
    "h= pd.Series(coco)\n",
    "\n",
    "h.value_counts()\n"
   ]
  },
  {
   "cell_type": "code",
   "execution_count": 71,
   "metadata": {},
   "outputs": [
    {
     "data": {
      "text/plain": [
       "array([ 1, -1,  1, ...,  1,  1,  1])"
      ]
     },
     "execution_count": 71,
     "metadata": {},
     "output_type": "execute_result"
    }
   ],
   "source": [
    "estimation_knn.sum()\n",
    "estimation_iforest"
   ]
  }
 ],
 "metadata": {
  "kernelspec": {
   "display_name": "Python 3",
   "language": "python",
   "name": "python3"
  },
  "language_info": {
   "codemirror_mode": {
    "name": "ipython",
    "version": 3
   },
   "file_extension": ".py",
   "mimetype": "text/x-python",
   "name": "python",
   "nbconvert_exporter": "python",
   "pygments_lexer": "ipython3",
   "version": "3.11.9"
  }
 },
 "nbformat": 4,
 "nbformat_minor": 2
}
