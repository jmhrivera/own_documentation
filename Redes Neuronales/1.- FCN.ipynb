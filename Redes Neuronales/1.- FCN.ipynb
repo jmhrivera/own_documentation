{
 "cells": [
  {
   "cell_type": "markdown",
   "metadata": {},
   "source": [
    "# Fully Connected Neuronal Networks"
   ]
  },
  {
   "cell_type": "markdown",
   "metadata": {},
   "source": [
    "Las redes totalmente conectadas, también conocidas como redes completas o grafos completos, son un tipo de red o grafo en el que cada nodo está conectado directamente a todos los demás nodos. En términos más técnicos:\n",
    "\n",
    "- En una red de computadores: Cada dispositivo (nodo) tiene una conexión directa con todos los otros dispositivos en la red. Esto significa que para n nodos, cada nodo tiene n−1 conexiones directas.\n",
    "\n",
    "- En teoría de grafos: Un grafo completo es un grafo en el que cada par de vértices distintos está conectado por una arista única.\n"
   ]
  },
  {
   "cell_type": "markdown",
   "metadata": {},
   "source": [
    "### Que es un grafo?"
   ]
  },
  {
   "cell_type": "markdown",
   "metadata": {},
   "source": [
    "Un grafo es una estructura matemática que consiste en un conjunto de vértices (o nodos) y un conjunto de aristas (o enlaces).\n",
    "\n",
    "- Vértices (nodos): Representan los objetos o entidades.\n",
    "- Aristas (enlaces): Representan las relaciones o conexiones entre los objetos."
   ]
  },
  {
   "cell_type": "markdown",
   "metadata": {},
   "source": [
    "### Perceptrón / Nodo\n",
    "\n",
    "El perceptrón consituye el fundamento básico de la red neuronal que forma parte del Deep Learning.\n",
    "\n",
    "En una red neuronal completamente conectada, también llamada red neuronal multicapa, los perceptrones se organizan en capas, donde cada perceptrón de una capa está conectado a todos los perceptrones de la capa siguiente. Cada perceptrón en una capa oculta o en la capa de salida realiza una suma ponderada de las entradas, seguida de la aplicación de una función de activación no lineal. Estas funciones de activación no lineales permiten que la red neuronal aprenda y represente relaciones y patrones complejos en los datos."
   ]
  },
  {
   "cell_type": "markdown",
   "metadata": {},
   "source": [
    "### Componentes de FCN\n",
    "\n",
    "- Neuronas/Perceptrones/Nodos: Son las unidades básicas de procesamiento en la red. Cada neurona en una capa (excepto la de entrada) toma las salidas de todas las neuronas de la capa anterior, realiza una suma ponderada de estas entradas, y aplica una función de activación para producir una salida."
   ]
  },
  {
   "cell_type": "markdown",
   "metadata": {},
   "source": [
    "- Capas(Layers): Las neuronas se organizan en capas. En una FCN típica, `hay al menos tres capas: la capa de entrada, una o más capas ocultas y la capa de salida`. La capa de entrada recibe las características o datos de entrada, las capas ocultas realizan transformaciones y extracciones de características, y la capa de salida produce la salida final de la red.\n",
    "\n",
    "- Pesos: Cada conexión entre neuronas tiene un peso asociado. Estos pesos determinan la influencia relativa de una neurona en la siguiente. Durante el entrenamiento, estos pesos se ajustan para minimizar una función de pérdida y mejorar el rendimiento de la red.\n",
    "\n",
    "- Funciones de activación: Son funciones no lineales aplicadas a la suma ponderada de las entradas a una neurona. Estas funciones introducen no linealidades en la red, lo que permite a la red aprender y modelar relaciones complejas en los datos. Ejemplos de funciones de activación incluyen la función sigmoide, ReLU (Rectified Linear Unit), tangente hiperbólica, entre otras.\n",
    "\n",
    "- Función de pérdida: Es una medida que indica qué tan bien está haciendo la red en sus predicciones en comparación con los valores reales. Durante el entrenamiento, la red ajusta sus pesos para minimizar esta función de pérdida (MSE, Categorical Cross-Entropy, Binary-Cross-Entropy, MAE, etc.).\n",
    "\n",
    "- Algoritmo de optimización: Es el método utilizado para ajustar los pesos de la red durante el entrenamiento para minimizar la función de pérdida. Ejemplos de algoritmos de optimización incluyen el descenso de gradiente estocástico (SGD), Adam, RMSProp, entre otros\n"
   ]
  },
  {
   "cell_type": "markdown",
   "metadata": {},
   "source": [
    "### Librerias para trabajar con FCN\n",
    "\n",
    "- TensorFlow (Google)\n",
    "- Keras (Google)\n",
    "- PyTorch (Facebook)\n",
    "- Scikit-learn\n"
   ]
  },
  {
   "cell_type": "markdown",
   "metadata": {
    "vscode": {
     "languageId": "plaintext"
    }
   },
   "source": [
    "FCN con Keras"
   ]
  },
  {
   "cell_type": "code",
   "execution_count": 153,
   "metadata": {},
   "outputs": [],
   "source": [
    "from tensorflow.keras.layers import Dense, Input\n",
    "from tensorflow.keras.datasets import fashion_mnist\n",
    "from tensorflow.keras.models import Sequential\n",
    "import pandas as pd\n",
    "import numpy as np\n",
    "from sklearn.metrics import accuracy_score\n",
    "from PIL import Image\n",
    "import matplotlib.pyplot as plt"
   ]
  },
  {
   "cell_type": "code",
   "execution_count": 162,
   "metadata": {},
   "outputs": [],
   "source": [
    "X_train = np.load(\"D:/Tripleten/datasets/fashion_mnist/train_features.npy\")\n",
    "y_train = np.load(\"D:/Tripleten/datasets/fashion_mnist/train_target.npy\")\n",
    "\n",
    "X_test = np.load(\"D:/Tripleten/datasets/fashion_mnist/test_features.npy\")\n",
    "y_test = np.load(\"D:/Tripleten/datasets/fashion_mnist/test_target.npy\")\n"
   ]
  },
  {
   "cell_type": "code",
   "execution_count": 155,
   "metadata": {},
   "outputs": [
    {
     "data": {
      "text/plain": [
       "(60000, 28, 28)"
      ]
     },
     "execution_count": 155,
     "metadata": {},
     "output_type": "execute_result"
    }
   ],
   "source": [
    "X_train.shape"
   ]
  },
  {
   "cell_type": "markdown",
   "metadata": {},
   "source": [
    "De esta manera podemos previsualizar la primera imagen"
   ]
  },
  {
   "cell_type": "code",
   "execution_count": 165,
   "metadata": {},
   "outputs": [
    {
     "data": {
      "text/plain": [
       "<matplotlib.image.AxesImage at 0x21877606d90>"
      ]
     },
     "execution_count": 165,
     "metadata": {},
     "output_type": "execute_result"
    },
    {
     "data": {
      "image/png": "[encoded data removed]",
      "text/plain": [
       "<Figure size 640x480 with 1 Axes>"
      ]
     },
     "metadata": {},
     "output_type": "display_data"
    }
   ],
   "source": [
    "image= Image.fromarray(X_train[0])\n",
    "# image.show()\n",
    "plt.imshow(image, cmap='gray')"
   ]
  },
  {
   "cell_type": "markdown",
   "metadata": {},
   "source": [
    "Para poderla entrenar necesitamos una estructura plana y luego dividimos entre 255 para que el modelo trabaje mejor con los elementos (ya que serían transformados entre valores de 0 a 1)"
   ]
  },
  {
   "cell_type": "code",
   "execution_count": 157,
   "metadata": {},
   "outputs": [
    {
     "name": "stdout",
     "output_type": "stream",
     "text": [
      "(60000, 784)\n",
      "(10000, 784)\n"
     ]
    }
   ],
   "source": [
    "X_train= X_train.reshape(-1, X_train.shape[1]* X_train.shape[2])/255 #Filas, columnas\n",
    "X_test= X_test.reshape(-1, X_test.shape[1]* X_test.shape[2])/255 #Filas, columnas\n",
    "\n",
    "print(X_train.shape)\n",
    "print(X_test.shape)\n"
   ]
  },
  {
   "cell_type": "markdown",
   "metadata": {},
   "source": [
    "Con esto volvimos esas imagenes 28x28 en imagenes en una linea de pixeles planos de 1x784 para cada una de las 60,000 imagenes"
   ]
  },
  {
   "cell_type": "code",
   "execution_count": 158,
   "metadata": {},
   "outputs": [
    {
     "data": {
      "text/html": [
       "<div>\n",
       "<style scoped>\n",
       "    .dataframe tbody tr th:only-of-type {\n",
       "        vertical-align: middle;\n",
       "    }\n",
       "\n",
       "    .dataframe tbody tr th {\n",
       "        vertical-align: top;\n",
       "    }\n",
       "\n",
       "    .dataframe thead th {\n",
       "        text-align: right;\n",
       "    }\n",
       "</style>\n",
       "<table border=\"1\" class=\"dataframe\">\n",
       "  <thead>\n",
       "    <tr style=\"text-align: right;\">\n",
       "      <th></th>\n",
       "      <th>0</th>\n",
       "      <th>1</th>\n",
       "      <th>2</th>\n",
       "      <th>3</th>\n",
       "      <th>4</th>\n",
       "      <th>5</th>\n",
       "      <th>6</th>\n",
       "      <th>7</th>\n",
       "      <th>8</th>\n",
       "      <th>9</th>\n",
       "      <th>...</th>\n",
       "      <th>774</th>\n",
       "      <th>775</th>\n",
       "      <th>776</th>\n",
       "      <th>777</th>\n",
       "      <th>778</th>\n",
       "      <th>779</th>\n",
       "      <th>780</th>\n",
       "      <th>781</th>\n",
       "      <th>782</th>\n",
       "      <th>783</th>\n",
       "    </tr>\n",
       "  </thead>\n",
       "  <tbody>\n",
       "    <tr>\n",
       "      <th>0</th>\n",
       "      <td>0.0</td>\n",
       "      <td>0.0</td>\n",
       "      <td>0.0</td>\n",
       "      <td>0.0</td>\n",
       "      <td>0.0</td>\n",
       "      <td>0.000000</td>\n",
       "      <td>0.0</td>\n",
       "      <td>0.0</td>\n",
       "      <td>0.000000</td>\n",
       "      <td>0.000000</td>\n",
       "      <td>...</td>\n",
       "      <td>0.000000</td>\n",
       "      <td>0.000000</td>\n",
       "      <td>0.000000</td>\n",
       "      <td>0.000000</td>\n",
       "      <td>0.0</td>\n",
       "      <td>0.0</td>\n",
       "      <td>0.0</td>\n",
       "      <td>0.0</td>\n",
       "      <td>0.0</td>\n",
       "      <td>0.0</td>\n",
       "    </tr>\n",
       "    <tr>\n",
       "      <th>1</th>\n",
       "      <td>0.0</td>\n",
       "      <td>0.0</td>\n",
       "      <td>0.0</td>\n",
       "      <td>0.0</td>\n",
       "      <td>0.0</td>\n",
       "      <td>0.003922</td>\n",
       "      <td>0.0</td>\n",
       "      <td>0.0</td>\n",
       "      <td>0.000000</td>\n",
       "      <td>0.000000</td>\n",
       "      <td>...</td>\n",
       "      <td>0.466667</td>\n",
       "      <td>0.447059</td>\n",
       "      <td>0.509804</td>\n",
       "      <td>0.298039</td>\n",
       "      <td>0.0</td>\n",
       "      <td>0.0</td>\n",
       "      <td>0.0</td>\n",
       "      <td>0.0</td>\n",
       "      <td>0.0</td>\n",
       "      <td>0.0</td>\n",
       "    </tr>\n",
       "    <tr>\n",
       "      <th>2</th>\n",
       "      <td>0.0</td>\n",
       "      <td>0.0</td>\n",
       "      <td>0.0</td>\n",
       "      <td>0.0</td>\n",
       "      <td>0.0</td>\n",
       "      <td>0.000000</td>\n",
       "      <td>0.0</td>\n",
       "      <td>0.0</td>\n",
       "      <td>0.000000</td>\n",
       "      <td>0.086275</td>\n",
       "      <td>...</td>\n",
       "      <td>0.000000</td>\n",
       "      <td>0.000000</td>\n",
       "      <td>0.003922</td>\n",
       "      <td>0.000000</td>\n",
       "      <td>0.0</td>\n",
       "      <td>0.0</td>\n",
       "      <td>0.0</td>\n",
       "      <td>0.0</td>\n",
       "      <td>0.0</td>\n",
       "      <td>0.0</td>\n",
       "    </tr>\n",
       "    <tr>\n",
       "      <th>3</th>\n",
       "      <td>0.0</td>\n",
       "      <td>0.0</td>\n",
       "      <td>0.0</td>\n",
       "      <td>0.0</td>\n",
       "      <td>0.0</td>\n",
       "      <td>0.000000</td>\n",
       "      <td>0.0</td>\n",
       "      <td>0.0</td>\n",
       "      <td>0.129412</td>\n",
       "      <td>0.376471</td>\n",
       "      <td>...</td>\n",
       "      <td>0.000000</td>\n",
       "      <td>0.000000</td>\n",
       "      <td>0.000000</td>\n",
       "      <td>0.000000</td>\n",
       "      <td>0.0</td>\n",
       "      <td>0.0</td>\n",
       "      <td>0.0</td>\n",
       "      <td>0.0</td>\n",
       "      <td>0.0</td>\n",
       "      <td>0.0</td>\n",
       "    </tr>\n",
       "  </tbody>\n",
       "</table>\n",
       "<p>4 rows × 784 columns</p>\n",
       "</div>"
      ],
      "text/plain": [
       "   0    1    2    3    4         5    6    7         8         9    ...  \\\n",
       "0  0.0  0.0  0.0  0.0  0.0  0.000000  0.0  0.0  0.000000  0.000000  ...   \n",
       "1  0.0  0.0  0.0  0.0  0.0  0.003922  0.0  0.0  0.000000  0.000000  ...   \n",
       "2  0.0  0.0  0.0  0.0  0.0  0.000000  0.0  0.0  0.000000  0.086275  ...   \n",
       "3  0.0  0.0  0.0  0.0  0.0  0.000000  0.0  0.0  0.129412  0.376471  ...   \n",
       "\n",
       "        774       775       776       777  778  779  780  781  782  783  \n",
       "0  0.000000  0.000000  0.000000  0.000000  0.0  0.0  0.0  0.0  0.0  0.0  \n",
       "1  0.466667  0.447059  0.509804  0.298039  0.0  0.0  0.0  0.0  0.0  0.0  \n",
       "2  0.000000  0.000000  0.003922  0.000000  0.0  0.0  0.0  0.0  0.0  0.0  \n",
       "3  0.000000  0.000000  0.000000  0.000000  0.0  0.0  0.0  0.0  0.0  0.0  \n",
       "\n",
       "[4 rows x 784 columns]"
      ]
     },
     "execution_count": 158,
     "metadata": {},
     "output_type": "execute_result"
    }
   ],
   "source": [
    "pd.DataFrame(X_train).head(4)"
   ]
  },
  {
   "cell_type": "markdown",
   "metadata": {},
   "source": [
    "Procedemos a crear nuestro modelo"
   ]
  },
  {
   "cell_type": "code",
   "execution_count": 159,
   "metadata": {},
   "outputs": [],
   "source": [
    "model = Sequential()\n",
    "model.add(Input(shape=(X_train.shape[1],)))\n",
    "model.add(Dense(units=64, activation='relu')) #input_shape=(X_train.shape[1],)\n",
    "model.add(Dense(units=32, activation='relu'))\n",
    "model.add(Dense(units=10, activation='softmax'))\n",
    "\n",
    "'''Esta función añade una capa densa (totalmente conectada) al modelo.\n",
    " Una capa densa es una capa en la que cada neurona está conectada a \n",
    " todas las neuronas de la capa anterior'''\n",
    "\n",
    "model.compile(\n",
    "    optimizer='adam',\n",
    "    loss='sparse_categorical_crossentropy',\n",
    "    metrics=['acc']\n",
    ")\n"
   ]
  },
  {
   "cell_type": "markdown",
   "metadata": {},
   "source": [
    "Una vez configurado ahora entrenamos nuestro modelo"
   ]
  },
  {
   "cell_type": "code",
   "execution_count": 160,
   "metadata": {},
   "outputs": [
    {
     "name": "stdout",
     "output_type": "stream",
     "text": [
      "Epoch 1/10\n",
      "1875/1875 - 5s - 3ms/step - acc: 0.8171 - loss: 0.5209 - val_acc: 0.8468 - val_loss: 0.4327\n",
      "Epoch 2/10\n",
      "1875/1875 - 3s - 2ms/step - acc: 0.8622 - loss: 0.3843 - val_acc: 0.8538 - val_loss: 0.3994\n",
      "Epoch 3/10\n",
      "1875/1875 - 3s - 1ms/step - acc: 0.8723 - loss: 0.3492 - val_acc: 0.8341 - val_loss: 0.4453\n",
      "Epoch 4/10\n",
      "1875/1875 - 3s - 1ms/step - acc: 0.8801 - loss: 0.3277 - val_acc: 0.8639 - val_loss: 0.3733\n",
      "Epoch 5/10\n",
      "1875/1875 - 3s - 1ms/step - acc: 0.8856 - loss: 0.3114 - val_acc: 0.8629 - val_loss: 0.3683\n",
      "Epoch 6/10\n",
      "1875/1875 - 3s - 2ms/step - acc: 0.8906 - loss: 0.2985 - val_acc: 0.8729 - val_loss: 0.3547\n",
      "Epoch 7/10\n",
      "1875/1875 - 3s - 2ms/step - acc: 0.8953 - loss: 0.2847 - val_acc: 0.8708 - val_loss: 0.3614\n",
      "Epoch 8/10\n",
      "1875/1875 - 3s - 2ms/step - acc: 0.8971 - loss: 0.2786 - val_acc: 0.8793 - val_loss: 0.3463\n",
      "Epoch 9/10\n",
      "1875/1875 - 3s - 2ms/step - acc: 0.9000 - loss: 0.2676 - val_acc: 0.8725 - val_loss: 0.3514\n",
      "Epoch 10/10\n",
      "1875/1875 - 3s - 2ms/step - acc: 0.9015 - loss: 0.2610 - val_acc: 0.8743 - val_loss: 0.3508\n"
     ]
    },
    {
     "data": {
      "text/plain": [
       "<keras.src.callbacks.history.History at 0x2187c2ac210>"
      ]
     },
     "execution_count": 160,
     "metadata": {},
     "output_type": "execute_result"
    }
   ],
   "source": [
    "model.fit(\n",
    "    X_train,\n",
    "    y_train,\n",
    "    validation_data=(X_test, y_test),\n",
    "    epochs=10,\n",
    "    verbose=2,\n",
    ")"
   ]
  }
 ],
 "metadata": {
  "kernelspec": {
   "display_name": "Python 3",
   "language": "python",
   "name": "python3"
  },
  "language_info": {
   "codemirror_mode": {
    "name": "ipython",
    "version": 3
   },
   "file_extension": ".py",
   "mimetype": "text/x-python",
   "name": "python",
   "nbconvert_exporter": "python",
   "pygments_lexer": "ipython3",
   "version": "3.11.9"
  }
 },
 "nbformat": 4,
 "nbformat_minor": 2
}
